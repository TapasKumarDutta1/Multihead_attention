{
  "nbformat": 4,
  "nbformat_minor": 0,
  "metadata": {
    "colab": {
      "name": "no_attention.ipynb",
      "provenance": [],
      "include_colab_link": true
    },
    "kernelspec": {
      "name": "python3",
      "display_name": "Python 3"
    }
  },
  "cells": [
    {
      "cell_type": "markdown",
      "metadata": {
        "id": "view-in-github",
        "colab_type": "text"
      },
      "source": [
        "<a href=\"https://colab.research.google.com/github/bluefeather88/Multihead_attention/blob/master/no_attention.ipynb\" target=\"_parent\"><img src=\"https://colab.research.google.com/assets/colab-badge.svg\" alt=\"Open In Colab\"/></a>"
      ]
    },
    {
      "cell_type": "code",
      "metadata": {
        "id": "tj_29PT2hSoN",
        "colab": {
          "base_uri": "https://localhost:8080/"
        },
        "outputId": "6a2ef1f8-9e1d-4bdf-ebd2-75891221dc9f"
      },
      "source": [
        "import numpy as np\n",
        "fnl_acc1=list(np.load('/content/final_accuracy_last_fold1_1e-4_wn.npy',allow_pickle=True).item().values())[0]\n",
        "fnl_acc2=list(np.load('/content/final_accuracy_last_fold2_1e-4_wn.npy',allow_pickle=True).item().values())[0]\n",
        "fnl_acc3=list(np.load('/content/final_accuracy_last_fold3_1e-4_wn.npy',allow_pickle=True).item().values())[0]\n",
        "fnl_acc4=list(np.load('/content/final_accuracy_last_fold4_1e-4_wn.npy',allow_pickle=True).item().values())[0]\n",
        "fnl_acc5=list(np.load('/content/final_accuracy_last_fold5_1e-4_wn.npy',allow_pickle=True).item().values())[0]\n",
        "np.mean([fnl_acc1 ,fnl_acc2  ,fnl_acc3 ,fnl_acc4,fnl_acc5])"
      ],
      "execution_count": null,
      "outputs": [
        {
          "output_type": "execute_result",
          "data": {
            "text/plain": [
              "0.9588428747950342"
            ]
          },
          "metadata": {},
          "execution_count": 1
        }
      ]
    },
    {
      "cell_type": "code",
      "metadata": {
        "id": "L3YfVVxE9yiK"
      },
      "source": [
        "tot_ans=[]\n",
        "tot_pre=[]"
      ],
      "execution_count": null,
      "outputs": []
    },
    {
      "cell_type": "code",
      "metadata": {
        "id": "5z_v0ygJjTv_",
        "colab": {
          "base_uri": "https://localhost:8080/"
        },
        "outputId": "e871c093-19c2-4187-f5fb-90555854223f"
      },
      "source": [
        "\n",
        "\n",
        "from sklearn.metrics import confusion_matrix\n",
        "ans_1=np.load('/content/answers_last_fold1_1e-4_wn.npy',allow_pickle=True).item()\n",
        "fold_1_pre=np.load('/content/predictions_last_fold1_1e-4_wn.npy',allow_pickle=True).item()\n",
        "ans_1=list(ans_1.values())[0]\n",
        "fold_1_pre=list(fold_1_pre.values())[0]\n",
        "tot_ans.extend(ans_1)\n",
        "tot_pre.extend(fold_1_pre)\n",
        "print(confusion_matrix(ans_1,fold_1_pre))\n",
        "\n"
      ],
      "execution_count": null,
      "outputs": [
        {
          "output_type": "stream",
          "name": "stdout",
          "text": [
            "[[108   4   0]\n",
            " [  6 239   0]\n",
            " [ 13   3 169]]\n"
          ]
        }
      ]
    },
    {
      "cell_type": "code",
      "metadata": {
        "id": "sXzslYOflDbf",
        "colab": {
          "base_uri": "https://localhost:8080/"
        },
        "outputId": "4af15844-eaf6-4712-929e-2f3a628313fc"
      },
      "source": [
        "\n",
        "\n",
        "from sklearn.metrics import confusion_matrix\n",
        "ans_1=np.load('/content/answers_last_fold2_1e-4_wn.npy',allow_pickle=True).item()\n",
        "fold_1_pre=np.load('/content/predictions_last_fold2_1e-4_wn.npy',allow_pickle=True).item()\n",
        "ans_1=list(ans_1.values())[0]\n",
        "fold_1_pre=list(fold_1_pre.values())[0]\n",
        "tot_ans.extend(ans_1)\n",
        "tot_pre.extend(fold_1_pre)\n",
        "print(confusion_matrix(ans_1,fold_1_pre))\n",
        "\n"
      ],
      "execution_count": null,
      "outputs": [
        {
          "output_type": "stream",
          "name": "stdout",
          "text": [
            "[[157   9   1]\n",
            " [  4 333   1]\n",
            " [  4  10 160]]\n"
          ]
        }
      ]
    },
    {
      "cell_type": "code",
      "metadata": {
        "id": "bQeRpmCTl7X0",
        "colab": {
          "base_uri": "https://localhost:8080/"
        },
        "outputId": "6659e067-9a0a-4206-dc64-3398de854c23"
      },
      "source": [
        "\n",
        "\n",
        "from sklearn.metrics import confusion_matrix\n",
        "ans_1=np.load('/content/answers_last_fold3_1e-4_wn.npy',allow_pickle=True).item()\n",
        "fold_1_pre=np.load('/content/predictions_last_fold3_1e-4_wn.npy',allow_pickle=True).item()\n",
        "ans_1=list(ans_1.values())[0]\n",
        "fold_1_pre=list(fold_1_pre.values())[0]\n",
        "tot_ans.extend(ans_1)\n",
        "tot_pre.extend(fold_1_pre)\n",
        "print(confusion_matrix(ans_1,fold_1_pre))\n",
        "\n"
      ],
      "execution_count": null,
      "outputs": [
        {
          "output_type": "stream",
          "name": "stdout",
          "text": [
            "[[133   5   1]\n",
            " [ 13 218   0]\n",
            " [  2   0 200]]\n"
          ]
        }
      ]
    },
    {
      "cell_type": "code",
      "metadata": {
        "id": "wRwX__s2mEVq",
        "colab": {
          "base_uri": "https://localhost:8080/"
        },
        "outputId": "aba7f776-8622-4671-97d4-2a5346294cc9"
      },
      "source": [
        "\n",
        "\n",
        "from sklearn.metrics import confusion_matrix\n",
        "ans_1=np.load('/content/answers_last_fold4_1e-4_wn.npy',allow_pickle=True).item()\n",
        "fold_1_pre=np.load('/content/predictions_last_fold4_1e-4_wn.npy',allow_pickle=True).item()\n",
        "ans_1=list(ans_1.values())[0]\n",
        "fold_1_pre=list(fold_1_pre.values())[0]\n",
        "tot_ans.extend(ans_1)\n",
        "tot_pre.extend(fold_1_pre)\n",
        "print(confusion_matrix(ans_1,fold_1_pre))\n",
        "\n"
      ],
      "execution_count": null,
      "outputs": [
        {
          "output_type": "stream",
          "name": "stdout",
          "text": [
            "[[113   6   5]\n",
            " [  0 325   0]\n",
            " [  4   2 173]]\n"
          ]
        }
      ]
    },
    {
      "cell_type": "code",
      "metadata": {
        "id": "3FXRTXCzmWnh",
        "colab": {
          "base_uri": "https://localhost:8080/"
        },
        "outputId": "83809ae7-9a3a-4cbc-a803-733820dfe324"
      },
      "source": [
        "\n",
        "\n",
        "from sklearn.metrics import confusion_matrix\n",
        "ans_1=np.load('/content/answers_last_fold5_1e-4_wn.npy',allow_pickle=True).item()\n",
        "fold_1_pre=np.load('/content/predictions_last_fold5_1e-4_wn.npy',allow_pickle=True).item()\n",
        "ans_1=list(ans_1.values())[0]\n",
        "fold_1_pre=list(fold_1_pre.values())[0]\n",
        "tot_ans.extend(ans_1)\n",
        "tot_pre.extend(fold_1_pre)\n",
        "print(confusion_matrix(ans_1,fold_1_pre))\n",
        "\n"
      ],
      "execution_count": null,
      "outputs": [
        {
          "output_type": "stream",
          "name": "stdout",
          "text": [
            "[[144   2  20]\n",
            " [  9 277   1]\n",
            " [  1   0 189]]\n"
          ]
        }
      ]
    },
    {
      "cell_type": "code",
      "metadata": {
        "id": "0JdJZP-399wv",
        "colab": {
          "base_uri": "https://localhost:8080/",
          "height": 279
        },
        "outputId": "2414d058-e8b7-4e2a-ba3f-3af6625b5f13"
      },
      "source": [
        "import seaborn as sns\n",
        "from matplotlib import pyplot as plt\n",
        "sns.heatmap(confusion_matrix(tot_ans,tot_pre),annot=True,cmap='Blues', fmt='g',xticklabels=['Meningioma', 'Glioma','Pituitary' ],yticklabels=['Meningioma', 'Glioma','Pituitary' ])\n",
        "plt.xlabel('Predicted Label')\n",
        "plt.ylabel('True Label')\n",
        "plt.savefig('mobilenet.png')"
      ],
      "execution_count": null,
      "outputs": [
        {
          "output_type": "display_data",
          "data": {
            "text/plain": [
              "<Figure size 432x288 with 2 Axes>"
            ],
            "image/png": "[encoded data removed]"
          },
          "metadata": {
            "needs_background": "light"
          }
        }
      ]
    },
    {
      "cell_type": "code",
      "metadata": {
        "id": "nLhLBFFsmlTz",
        "outputId": "f601ddba-d6fa-427d-b9af-5f32dd0d5144",
        "colab": {
          "base_uri": "https://localhost:8080/",
          "height": 371
        }
      },
      "source": [
        "\n",
        "history={}\n",
        "history['fold1']=np.load('/content/history_last_fold1_3413_1e-4_wn.npy',allow_pickle=True).item()\n",
        "history['fold2']=np.load('/content/history_last_fold2_3413_1e-4_wn.npy',allow_pickle=True).item()\n",
        "history['fold3']=np.load('/content/history_all_fold_3_squeezenet__gated.npy',allow_pickle=True).item()\n",
        "history['fold4']=np.load('/content/history_last_fold4_1e-4_wn.npy',allow_pickle=True).item()\n",
        "history['fold5']=np.load('/content/history_last_fold5_1e-4_wn.npy',allow_pickle=True).item()\n",
        "\n"
      ],
      "execution_count": null,
      "outputs": [
        {
          "output_type": "error",
          "ename": "FileNotFoundError",
          "evalue": "ignored",
          "traceback": [
            "\u001b[0;31m---------------------------------------------------------------------------\u001b[0m",
            "\u001b[0;31mFileNotFoundError\u001b[0m                         Traceback (most recent call last)",
            "\u001b[0;32m<ipython-input-9-25b95852d613>\u001b[0m in \u001b[0;36m<module>\u001b[0;34m()\u001b[0m\n\u001b[1;32m      1\u001b[0m \u001b[0;34m\u001b[0m\u001b[0m\n\u001b[1;32m      2\u001b[0m \u001b[0mhistory\u001b[0m\u001b[0;34m=\u001b[0m\u001b[0;34m{\u001b[0m\u001b[0;34m}\u001b[0m\u001b[0;34m\u001b[0m\u001b[0;34m\u001b[0m\u001b[0m\n\u001b[0;32m----> 3\u001b[0;31m \u001b[0mhistory\u001b[0m\u001b[0;34m[\u001b[0m\u001b[0;34m'fold1'\u001b[0m\u001b[0;34m]\u001b[0m\u001b[0;34m=\u001b[0m\u001b[0mnp\u001b[0m\u001b[0;34m.\u001b[0m\u001b[0mload\u001b[0m\u001b[0;34m(\u001b[0m\u001b[0;34m'/content/history_last_fold1_3413_1e-4_wn.npy'\u001b[0m\u001b[0;34m,\u001b[0m\u001b[0mallow_pickle\u001b[0m\u001b[0;34m=\u001b[0m\u001b[0;32mTrue\u001b[0m\u001b[0;34m)\u001b[0m\u001b[0;34m.\u001b[0m\u001b[0mitem\u001b[0m\u001b[0;34m(\u001b[0m\u001b[0;34m)\u001b[0m\u001b[0;34m\u001b[0m\u001b[0;34m\u001b[0m\u001b[0m\n\u001b[0m\u001b[1;32m      4\u001b[0m \u001b[0mhistory\u001b[0m\u001b[0;34m[\u001b[0m\u001b[0;34m'fold2'\u001b[0m\u001b[0;34m]\u001b[0m\u001b[0;34m=\u001b[0m\u001b[0mnp\u001b[0m\u001b[0;34m.\u001b[0m\u001b[0mload\u001b[0m\u001b[0;34m(\u001b[0m\u001b[0;34m'/content/history_last_fold2_3413_1e-4_wn.npy'\u001b[0m\u001b[0;34m,\u001b[0m\u001b[0mallow_pickle\u001b[0m\u001b[0;34m=\u001b[0m\u001b[0;32mTrue\u001b[0m\u001b[0;34m)\u001b[0m\u001b[0;34m.\u001b[0m\u001b[0mitem\u001b[0m\u001b[0;34m(\u001b[0m\u001b[0;34m)\u001b[0m\u001b[0;34m\u001b[0m\u001b[0;34m\u001b[0m\u001b[0m\n\u001b[1;32m      5\u001b[0m \u001b[0mhistory\u001b[0m\u001b[0;34m[\u001b[0m\u001b[0;34m'fold3'\u001b[0m\u001b[0;34m]\u001b[0m\u001b[0;34m=\u001b[0m\u001b[0mnp\u001b[0m\u001b[0;34m.\u001b[0m\u001b[0mload\u001b[0m\u001b[0;34m(\u001b[0m\u001b[0;34m'/content/history_all_fold_3_squeezenet__gated.npy'\u001b[0m\u001b[0;34m,\u001b[0m\u001b[0mallow_pickle\u001b[0m\u001b[0;34m=\u001b[0m\u001b[0;32mTrue\u001b[0m\u001b[0;34m)\u001b[0m\u001b[0;34m.\u001b[0m\u001b[0mitem\u001b[0m\u001b[0;34m(\u001b[0m\u001b[0;34m)\u001b[0m\u001b[0;34m\u001b[0m\u001b[0;34m\u001b[0m\u001b[0m\n",
            "\u001b[0;32m/usr/local/lib/python3.7/dist-packages/numpy/lib/npyio.py\u001b[0m in \u001b[0;36mload\u001b[0;34m(file, mmap_mode, allow_pickle, fix_imports, encoding)\u001b[0m\n\u001b[1;32m    415\u001b[0m             \u001b[0mown_fid\u001b[0m \u001b[0;34m=\u001b[0m \u001b[0;32mFalse\u001b[0m\u001b[0;34m\u001b[0m\u001b[0;34m\u001b[0m\u001b[0m\n\u001b[1;32m    416\u001b[0m         \u001b[0;32melse\u001b[0m\u001b[0;34m:\u001b[0m\u001b[0;34m\u001b[0m\u001b[0;34m\u001b[0m\u001b[0m\n\u001b[0;32m--> 417\u001b[0;31m             \u001b[0mfid\u001b[0m \u001b[0;34m=\u001b[0m \u001b[0mstack\u001b[0m\u001b[0;34m.\u001b[0m\u001b[0menter_context\u001b[0m\u001b[0;34m(\u001b[0m\u001b[0mopen\u001b[0m\u001b[0;34m(\u001b[0m\u001b[0mos_fspath\u001b[0m\u001b[0;34m(\u001b[0m\u001b[0mfile\u001b[0m\u001b[0;34m)\u001b[0m\u001b[0;34m,\u001b[0m \u001b[0;34m\"rb\"\u001b[0m\u001b[0;34m)\u001b[0m\u001b[0;34m)\u001b[0m\u001b[0;34m\u001b[0m\u001b[0;34m\u001b[0m\u001b[0m\n\u001b[0m\u001b[1;32m    418\u001b[0m             \u001b[0mown_fid\u001b[0m \u001b[0;34m=\u001b[0m \u001b[0;32mTrue\u001b[0m\u001b[0;34m\u001b[0m\u001b[0;34m\u001b[0m\u001b[0m\n\u001b[1;32m    419\u001b[0m \u001b[0;34m\u001b[0m\u001b[0m\n",
            "\u001b[0;31mFileNotFoundError\u001b[0m: [Errno 2] No such file or directory: '/content/history_last_fold1_3413_1e-4_wn.npy'"
          ]
        }
      ]
    },
    {
      "cell_type": "code",
      "metadata": {
        "id": "ZNgXRGxGm47o"
      },
      "source": [
        "from matplotlib import pyplot as plt\n",
        "for i in range(5):\n",
        "    fold='fold'+str(i+1)\n",
        "    fold1='fold_'+str(i+1)\n",
        "    try:\n",
        "      plt.plot(history[fold][fold1]['accuracy'])\n",
        "      plt.title('loss for fold '+str(i))\n",
        "      plt.xlabel('epoch')\n",
        "      plt.ylabel('accuracy')\n",
        "      plt.title('Training all layers')\n",
        "      plt.show()\n",
        "    except:\n",
        "      continue"
      ],
      "execution_count": null,
      "outputs": []
    },
    {
      "cell_type": "code",
      "metadata": {
        "id": "K9YqE_Gkm6sm"
      },
      "source": [
        "from matplotlib import pyplot as plt\n",
        "for i in range(5):\n",
        "    fold='fold'+str(i+1)\n",
        "    fold1='fold_'+str(i+1)\n",
        "    try:\n",
        "      plt.plot(history[fold][fold1]['loss'])\n",
        "      plt.title('loss for fold '+str(i))\n",
        "      plt.xlabel('epoch')\n",
        "      plt.ylabel('loss')\n",
        "      plt.title('Training all layers')\n",
        "      plt.show()\n",
        "    except:\n",
        "      continue"
      ],
      "execution_count": null,
      "outputs": []
    },
    {
      "cell_type": "code",
      "metadata": {
        "id": "qlXSp2KQnGjK"
      },
      "source": [
        ""
      ],
      "execution_count": null,
      "outputs": []
    }
  ]
}