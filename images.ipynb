{
  "nbformat": 4,
  "nbformat_minor": 0,
  "metadata": {
    "colab": {
      "name": "images.ipynb",
      "provenance": [],
      "authorship_tag": "ABX9TyOcOKlYCC/6VC8QuPUc1l4l",
      "include_colab_link": true
    },
    "kernelspec": {
      "name": "python3",
      "display_name": "Python 3"
    },
    "language_info": {
      "name": "python"
    }
  },
  "cells": [
    {
      "cell_type": "markdown",
      "metadata": {
        "id": "view-in-github",
        "colab_type": "text"
      },
      "source": [
        "<a href=\"https://colab.research.google.com/github/greyhound101/Multihead_attention/blob/master/images.ipynb\" target=\"_parent\"><img src=\"https://colab.research.google.com/assets/colab-badge.svg\" alt=\"Open In Colab\"/></a>"
      ]
    },
    {
      "cell_type": "code",
      "metadata": {
        "id": "E2xNB5GZxUBi"
      },
      "source": [
        "import pandas as pd\n",
        "import numpy as np\n",
        "from matplotlib import pyplot as plt\n",
        "accs=[95.68,96.53,95.47,95.77,95.82,95.51,96.21,95.29,95.43,95.71,95.65,95.44,95.98,95.61,95.46,96.16,96.04,95.12,94.88,96.34,95.0,95.0,93.86,95.85,95.60,95.26,94.77,53.87,65.31,80.70,92.61,85.0,62.54,81.18,65.49,66.97]\n",
        "types=['cbam','cbam_reduced','conc_add','conc_soft','gated','gated_cbam','gated_reduced','resize_interpolate','spatial_gated','cbam','cbam_reduced','conc_add','conc_soft','gated','gated_cbam','gated_reduced','resize_interpolate','spatial_gated'\n",
        ",'cbam','cbam_reduced','conc_add','conc_soft','gated','gated_cbam','gated_reduced','resize_interpolate','spatial_gated','cbam','cbam_reduced','conc_add','conc_soft','gated','gated_cbam','gated_reduced','resize_interpolate','spatial_gated']\n",
        "bs=[4]*9+[3]*9+[2]*9+[1]*9"
      ],
      "execution_count": 48,
      "outputs": []
    },
    {
      "cell_type": "code",
      "metadata": {
        "colab": {
          "base_uri": "https://localhost:8080/",
          "height": 204
        },
        "id": "1PHDpR5uze-w",
        "outputId": "f3e80ab7-b308-4571-b405-ee7af0d77187"
      },
      "source": [
        "dk={'accs':accs,'types':types,'bs':bs}\n",
        "df=pd.DataFrame(dk)\n",
        "df.head()"
      ],
      "execution_count": 49,
      "outputs": [
        {
          "output_type": "execute_result",
          "data": {
            "text/html": [
              "<div>\n",
              "<style scoped>\n",
              "    .dataframe tbody tr th:only-of-type {\n",
              "        vertical-align: middle;\n",
              "    }\n",
              "\n",
              "    .dataframe tbody tr th {\n",
              "        vertical-align: top;\n",
              "    }\n",
              "\n",
              "    .dataframe thead th {\n",
              "        text-align: right;\n",
              "    }\n",
              "</style>\n",
              "<table border=\"1\" class=\"dataframe\">\n",
              "  <thead>\n",
              "    <tr style=\"text-align: right;\">\n",
              "      <th></th>\n",
              "      <th>accs</th>\n",
              "      <th>types</th>\n",
              "      <th>bs</th>\n",
              "    </tr>\n",
              "  </thead>\n",
              "  <tbody>\n",
              "    <tr>\n",
              "      <th>0</th>\n",
              "      <td>95.68</td>\n",
              "      <td>cbam</td>\n",
              "      <td>4</td>\n",
              "    </tr>\n",
              "    <tr>\n",
              "      <th>1</th>\n",
              "      <td>96.53</td>\n",
              "      <td>cbam_reduced</td>\n",
              "      <td>4</td>\n",
              "    </tr>\n",
              "    <tr>\n",
              "      <th>2</th>\n",
              "      <td>95.47</td>\n",
              "      <td>conc_add</td>\n",
              "      <td>4</td>\n",
              "    </tr>\n",
              "    <tr>\n",
              "      <th>3</th>\n",
              "      <td>95.77</td>\n",
              "      <td>conc_soft</td>\n",
              "      <td>4</td>\n",
              "    </tr>\n",
              "    <tr>\n",
              "      <th>4</th>\n",
              "      <td>95.82</td>\n",
              "      <td>gated</td>\n",
              "      <td>4</td>\n",
              "    </tr>\n",
              "  </tbody>\n",
              "</table>\n",
              "</div>"
            ],
            "text/plain": [
              "    accs         types  bs\n",
              "0  95.68          cbam   4\n",
              "1  96.53  cbam_reduced   4\n",
              "2  95.47      conc_add   4\n",
              "3  95.77     conc_soft   4\n",
              "4  95.82         gated   4"
            ]
          },
          "metadata": {},
          "execution_count": 49
        }
      ]
    },
    {
      "cell_type": "code",
      "metadata": {
        "colab": {
          "base_uri": "https://localhost:8080/",
          "height": 347
        },
        "id": "ZrXqizT20u1s",
        "outputId": "b6819456-7e75-4525-fd82-a0d906759056"
      },
      "source": [
        "import seaborn as sns\n",
        "g=sns.barplot(x=\"accs\",\n",
        "           y=\"types\",\n",
        "           hue=\"bs\",\n",
        "           data=df)\n",
        "plt.legend(loc='lower right',bbox_to_anchor=(1.05, 1))\n",
        "plt.savefig('bs.png')"
      ],
      "execution_count": 50,
      "outputs": [
        {
          "output_type": "display_data",
          "data": {
            "image/png": "[encoded data removed]",
            "text/plain": [
              "<Figure size 432x288 with 1 Axes>"
            ]
          },
          "metadata": {
            "needs_background": "light"
          }
        }
      ]
    },
    {
      "cell_type": "code",
      "metadata": {
        "id": "MwcwWWLB52T_"
      },
      "source": [
        "import pandas as pd\n",
        "import numpy as np\n",
        "from matplotlib import pyplot as plt\n",
        "accs=[95.68,96.53,95.47,95.77,95.82,95.51,96.21,95.29,95.43\n",
        "      ,95.67,95.98,95.50,95.26,95.54,94.91,95.97,95.58,95.85\n",
        "      ,96.03,96.05,95.68,95.74,95.21,95.89,95.34,95.99,95.83]\n",
        "types=['cbam','cbam_reduced','conc_add','conc_soft','gated','gated_cbam','gated_reduced','resize_interpolate','spatial_gated'\n",
        ",'cbam','cbam_reduced','conc_add','conc_soft','gated','gated_cbam','gated_reduced','resize_interpolate','spatial_gated'\n",
        ",'cbam','cbam_reduced','conc_add','conc_soft','gated','gated_cbam','gated_reduced','resize_interpolate','spatial_gated']\n",
        "lrs=['6514']*9+['5514']*9+['7514']*9"
      ],
      "execution_count": 46,
      "outputs": []
    },
    {
      "cell_type": "code",
      "metadata": {
        "colab": {
          "base_uri": "https://localhost:8080/",
          "height": 332
        },
        "id": "IMeoSyU77naO",
        "outputId": "23bcafd0-02b8-41a6-b479-8e410cb3bf47"
      },
      "source": [
        "dk={'accs':accs,'types':types,'lrs':lrs}\n",
        "df=pd.DataFrame(dk)\n",
        "import seaborn as sns\n",
        "g=sns.barplot(x=\"accs\",\n",
        "           y=\"types\",\n",
        "           hue=\"lrs\",\n",
        "           data=df)\n",
        "plt.legend(loc='lower right',bbox_to_anchor=(1.05, 1))\n",
        "plt.savefig('lrs.png')"
      ],
      "execution_count": 47,
      "outputs": [
        {
          "output_type": "display_data",
          "data": {
            "image/png": "[encoded data removed]",
            "text/plain": [
              "<Figure size 432x288 with 1 Axes>"
            ]
          },
          "metadata": {
            "needs_background": "light"
          }
        }
      ]
    },
    {
      "cell_type": "code",
      "metadata": {
        "id": "3dH8WsfE7wEU"
      },
      "source": [
        "import pandas as pd\n",
        "import numpy as np\n",
        "from matplotlib import pyplot as plt\n",
        "accs=[95.68,96.53,95.47,95.77,95.82,95.51,96.21,95.29,95.43\n",
        "      ,46.59,45.20,46.49,46.57,47.44,46.38,45.20,52.33,47.27\n",
        "      ,95.53,95.37,95.37,95.82,96.11,95.77,95.79,96.23,95.47\n",
        "      ,57.08,46.35,64.34,62.91,64.99,46.35,64.83,69.11,63.70]\n",
        "types=['cbam','cbam_reduced','conc_add','conc_soft','gated','gated_cbam','gated_reduced','resize_interpolate','spatial_gated'\n",
        ",'cbam','cbam_reduced','conc_add','conc_soft','gated','gated_cbam','gated_reduced','resize_interpolate','spatial_gated'\n",
        ",'cbam','cbam_reduced','conc_add','conc_soft','gated','gated_cbam','gated_reduced','resize_interpolate','spatial_gated'\n",
        ",'cbam','cbam_reduced','conc_add','conc_soft','gated','gated_cbam','gated_reduced','resize_interpolate','spatial_gated']\n",
        "opt=['adam']*9+['adadelta']*9+['rmsprop']*9+['sgd']*9"
      ],
      "execution_count": 40,
      "outputs": []
    },
    {
      "cell_type": "code",
      "metadata": {
        "colab": {
          "base_uri": "https://localhost:8080/",
          "height": 347
        },
        "id": "Nc87jtf1_uNr",
        "outputId": "7fa0830c-e316-4878-c20c-ddfb6fca796c"
      },
      "source": [
        "dk={'accs':accs,'types':types,'opt':opt}\n",
        "df=pd.DataFrame(dk)\n",
        "import seaborn as sns\n",
        "g=sns.barplot(x=\"accs\",\n",
        "           y=\"types\",\n",
        "           hue=\"opt\",\n",
        "           data=df)\n",
        "plt.legend(loc='lower right',bbox_to_anchor=(1.05, 1))\n",
        "plt.savefig('optimizers.png')"
      ],
      "execution_count": 45,
      "outputs": [
        {
          "output_type": "display_data",
          "data": {
            "image/png": "[encoded data removed]",
            "text/plain": [
              "<Figure size 432x288 with 1 Axes>"
            ]
          },
          "metadata": {
            "needs_background": "light"
          }
        }
      ]
    },
    {
      "cell_type": "code",
      "metadata": {
        "colab": {
          "base_uri": "https://localhost:8080/"
        },
        "id": "GceZLpkS3AjM",
        "outputId": "1aebdd9f-0474-41a0-df66-ff7a4ac6a7a8"
      },
      "source": [
        "! pip install opencv-python==3.4.14.51"
      ],
      "execution_count": 16,
      "outputs": [
        {
          "output_type": "stream",
          "name": "stdout",
          "text": [
            "Collecting opencv-python==3.4.14.51\n",
            "  Downloading opencv_python-3.4.14.51-cp37-cp37m-manylinux2014_x86_64.whl (48.9 MB)\n",
            "\u001b[K     |████████████████████████████████| 48.9 MB 81 kB/s \n",
            "\u001b[?25hRequirement already satisfied: numpy>=1.14.5 in /usr/local/lib/python3.7/dist-packages (from opencv-python==3.4.14.51) (1.19.5)\n",
            "Installing collected packages: opencv-python\n",
            "  Attempting uninstall: opencv-python\n",
            "    Found existing installation: opencv-python 4.1.2.30\n",
            "    Uninstalling opencv-python-4.1.2.30:\n",
            "      Successfully uninstalled opencv-python-4.1.2.30\n",
            "\u001b[31mERROR: pip's dependency resolver does not currently take into account all the packages that are installed. This behaviour is the source of the following dependency conflicts.\n",
            "albumentations 0.1.12 requires imgaug<0.2.7,>=0.2.5, but you have imgaug 0.2.9 which is incompatible.\u001b[0m\n",
            "Successfully installed opencv-python-3.4.14.51\n"
          ]
        }
      ]
    },
    {
      "cell_type": "code",
      "metadata": {
        "colab": {
          "base_uri": "https://localhost:8080/"
        },
        "id": "amM7Te6Y3CUF",
        "outputId": "3b06f176-25e6-4d90-f03f-fadda7ca5e2f"
      },
      "source": [
        "! pip install opencv-contrib-python==3.4.14.51"
      ],
      "execution_count": 17,
      "outputs": [
        {
          "output_type": "stream",
          "name": "stdout",
          "text": [
            "Collecting opencv-contrib-python==3.4.14.51\n",
            "  Downloading opencv_contrib_python-3.4.14.51-cp37-cp37m-manylinux2014_x86_64.whl (54.1 MB)\n",
            "\u001b[K     |████████████████████████████████| 54.1 MB 22 kB/s \n",
            "\u001b[?25hRequirement already satisfied: numpy>=1.14.5 in /usr/local/lib/python3.7/dist-packages (from opencv-contrib-python==3.4.14.51) (1.19.5)\n",
            "Installing collected packages: opencv-contrib-python\n",
            "  Attempting uninstall: opencv-contrib-python\n",
            "    Found existing installation: opencv-contrib-python 4.1.2.30\n",
            "    Uninstalling opencv-contrib-python-4.1.2.30:\n",
            "      Successfully uninstalled opencv-contrib-python-4.1.2.30\n",
            "Successfully installed opencv-contrib-python-3.4.14.51\n"
          ]
        }
      ]
    },
    {
      "cell_type": "code",
      "metadata": {
        "id": "upBUbMup3EsU"
      },
      "source": [
        "import cv2"
      ],
      "execution_count": 18,
      "outputs": []
    },
    {
      "cell_type": "code",
      "metadata": {
        "id": "le3xejTL2ons"
      },
      "source": [
        ""
      ],
      "execution_count": null,
      "outputs": []
    }
  ]
}