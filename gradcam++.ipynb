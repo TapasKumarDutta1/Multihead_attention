{
  "nbformat": 4,
  "nbformat_minor": 0,
  "metadata": {
    "colab": {
      "provenance": [],
      "authorship_tag": "ABX9TyN5h7FVzaxzwSM1AOoSPxIA",
      "include_colab_link": true
    },
    "kernelspec": {
      "name": "python3",
      "display_name": "Python 3"
    },
    "language_info": {
      "name": "python"
    }
  },
  "cells": [
    {
      "cell_type": "markdown",
      "metadata": {
        "id": "view-in-github",
        "colab_type": "text"
      },
      "source": [
        "<a href=\"https://colab.research.google.com/github/TapasKumarDutta1/Multihead_attention/blob/master/gradcam%2B%2B.ipynb\" target=\"_parent\"><img src=\"https://colab.research.google.com/assets/colab-badge.svg\" alt=\"Open In Colab\"/></a>"
      ]
    },
    {
      "cell_type": "code",
      "execution_count": null,
      "metadata": {
        "id": "4LIHtWxTXm6g"
      },
      "outputs": [],
      "source": [
        "def grad_cam_plus_plus(model, x, layer_name):\n",
        "    \"\"\"Grad-CAM++ function.\n",
        "    \n",
        "    Args:\n",
        "        model (keras.engine.training.Model): Model.\n",
        "        x (np.ndarray): Input.\n",
        "        layer_name (str): Get layer name.\n",
        "        \n",
        "    Returns:\n",
        "        tuple[int, np.ndarray]: Predicted class, heatmap of CAM.\n",
        "    \"\"\"\n",
        "    cls = np.argmax(model.predict(x))\n",
        "    y_c = model.output[0, cls]\n",
        "    conv_output = model.get_layer(layer_name).output\n",
        "    grads = K.gradients(y_c, conv_output)[0]\n",
        "\n",
        "    # first / second / third derivative\n",
        "    first = K.exp(y_c) * grads\n",
        "    second = K.exp(y_c) * grads * grads\n",
        "    third = K.exp(y_c) * grads * grads * grads\n",
        "\n",
        "    # Get outputs, grads and higher order derivatives\n",
        "    gradient_function = K.function([model.input], [y_c, first, second, third, conv_output, grads])\n",
        "    y_c, conv_first_grad, conv_second_grad, conv_third_grad, conv_output, grads_val = gradient_function([x])\n",
        "    \n",
        "    # Calculate weight alpha\n",
        "    global_sum = np.sum(conv_output[0].reshape((-1,conv_first_grad[0].shape[2])), axis=0)\n",
        "    alpha_num = conv_second_grad[0]\n",
        "    alpha_denom = conv_second_grad[0] * 2.0 + conv_third_grad[0] * global_sum.reshape((1, 1, conv_first_grad[0].shape[2]))\n",
        "    alpha_denom = np.where(alpha_denom != 0.0, alpha_denom, np.ones(alpha_denom.shape))\n",
        "    alphas = alpha_num / alpha_denom\n",
        "\n",
        "    weights = np.maximum(conv_first_grad[0], 0.0)\n",
        "    alpha_normalization_constant = np.sum(np.sum(alphas, axis=0), axis=0)\n",
        "    alphas /= alpha_normalization_constant.reshape((1, 1, conv_first_grad[0].shape[2]))\n",
        "    deep_linearization_weights = np.sum((weights * alphas).reshape((-1, conv_first_grad[0].shape[2])), axis=0)\n",
        "\n",
        "    cam = np.sum(deep_linearization_weights * conv_output[0], axis=2) # multiply\n",
        "    cam = np.maximum(cam, 0)                                          # Passing through ReLU\n",
        "    cam /= np.max(cam)                                                # scale 0 to 1.0  \n",
        "\n",
        "    return cls, cam\n"
      ]
    }
  ]
}