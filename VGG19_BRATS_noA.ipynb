{
  "nbformat": 4,
  "nbformat_minor": 0,
  "metadata": {
    "colab": {
      "name": "VGG19_BRATS_noA.ipynb",
      "provenance": [],
      "include_colab_link": true
    },
    "kernelspec": {
      "name": "python3",
      "display_name": "Python 3"
    }
  },
  "cells": [
    {
      "cell_type": "markdown",
      "metadata": {
        "id": "view-in-github",
        "colab_type": "text"
      },
      "source": [
        "<a href=\"https://colab.research.google.com/github/greyhound101/Multihead_attention/blob/master/VGG19_BRATS_noA.ipynb\" target=\"_parent\"><img src=\"https://colab.research.google.com/assets/colab-badge.svg\" alt=\"Open In Colab\"/></a>"
      ]
    },
    {
      "cell_type": "code",
      "metadata": {
        "id": "tj_29PT2hSoN",
        "colab": {
          "base_uri": "https://localhost:8080/"
        },
        "outputId": "c23338af-e69b-4bd1-839a-ae3e681f0488"
      },
      "source": [
        "import numpy as np\n",
        "fnl_acc1=list(np.load('/content/final_accuracy_all_fold1_final_final_3535.npy',allow_pickle=True).item().values())[0]\n",
        "fnl_acc2=list(np.load('/content/final_accuracy_all_fold2_final_final_3535.npy',allow_pickle=True).item().values())[0]\n",
        "fnl_acc3=list(np.load('/content/final_accuracy_all_fold3_final_final_3535.npy',allow_pickle=True).item().values())[0]\n",
        "fnl_acc4=list(np.load('/content/final_accuracy_all_fold4_final_final_3535.npy',allow_pickle=True).item().values())[0]\n",
        "fnl_acc5=list(np.load('/content/final_accuracy_all_fold5_final_final_3535.npy',allow_pickle=True).item().values())[0]\n",
        "np.mean([fnl_acc1,fnl_acc2,fnl_acc3,fnl_acc4,fnl_acc5])"
      ],
      "execution_count": null,
      "outputs": [
        {
          "output_type": "execute_result",
          "data": {
            "text/plain": [
              "0.9711538461538461"
            ]
          },
          "metadata": {},
          "execution_count": 97
        }
      ]
    },
    {
      "cell_type": "code",
      "metadata": {
        "id": "Y6keYSFxjQKv",
        "colab": {
          "base_uri": "https://localhost:8080/"
        },
        "outputId": "05c1f3fb-b8c4-4230-8f4b-e2629f5ed219"
      },
      "source": [
        "\n",
        "fnl_acc3=list(np.load('/content/times_all_fold_3_final_final_3535.npy',allow_pickle=True).item().values())[0]\n",
        "fnl_acc4=list(np.load('/content/times_all_fold_4_final_final_3535.npy',allow_pickle=True).item().values())[0]\n",
        "fnl_acc5=list(np.load('/content/times_all_fold_5_final_final_3535.npy',allow_pickle=True).item().values())[0]\n",
        "fnl_acc2=list(np.load('/content/times_all_fold_2_final_final_3535.npy',allow_pickle=True).item().values())[0]\n",
        "fnl_acc1=list(np.load('/content/times_all_fold_1_final_final_3535.npy',allow_pickle=True).item().values())[0]\n",
        "np.mean([fnl_acc1,fnl_acc2,fnl_acc3,fnl_acc4,fnl_acc5])"
      ],
      "execution_count": null,
      "outputs": [
        {
          "output_type": "execute_result",
          "data": {
            "text/plain": [
              "1851.7129210948945"
            ]
          },
          "metadata": {},
          "execution_count": 98
        }
      ]
    },
    {
      "cell_type": "code",
      "metadata": {
        "id": "L3YfVVxE9yiK"
      },
      "source": [
        "tot_ans=[]\n",
        "tot_pre=[]"
      ],
      "execution_count": null,
      "outputs": []
    },
    {
      "cell_type": "code",
      "metadata": {
        "id": "5z_v0ygJjTv_",
        "colab": {
          "base_uri": "https://localhost:8080/"
        },
        "outputId": "509b95db-53b1-464a-d712-49b842b8f3ef"
      },
      "source": [
        "\n",
        "\n",
        "from sklearn.metrics import confusion_matrix\n",
        "ans_1=np.load('/content/answers_all_fold_1_final_final_3535.npy',allow_pickle=True).item()\n",
        "fold_1_pre=np.load('/content/predictions_all_fold_1_final_final_3535.npy',allow_pickle=True).item()\n",
        "ans_1=list(ans_1.values())[0]\n",
        "fold_1_pre=list(fold_1_pre.values())[0]\n",
        "tot_ans.extend(ans_1)\n",
        "tot_pre.extend(fold_1_pre)\n",
        "print(confusion_matrix(ans_1,fold_1_pre))\n",
        "\n"
      ],
      "execution_count": null,
      "outputs": [
        {
          "output_type": "stream",
          "name": "stdout",
          "text": [
            "[[59  0]\n",
            " [15 30]]\n"
          ]
        }
      ]
    },
    {
      "cell_type": "code",
      "metadata": {
        "id": "sXzslYOflDbf",
        "colab": {
          "base_uri": "https://localhost:8080/"
        },
        "outputId": "164629b4-bcab-49ed-a016-2337c8094aac"
      },
      "source": [
        "\n",
        "\n",
        "from sklearn.metrics import confusion_matrix\n",
        "ans_1=np.load('/content/answers_all_fold_2_final_final_3535.npy',allow_pickle=True).item()\n",
        "fold_1_pre=np.load('/content/predictions_all_fold_2_final_final_3535.npy',allow_pickle=True).item()\n",
        "ans_1=list(ans_1.values())[0]\n",
        "fold_1_pre=list(fold_1_pre.values())[0]\n",
        "tot_ans.extend(ans_1)\n",
        "tot_pre.extend(fold_1_pre)\n",
        "print(confusion_matrix(ans_1,fold_1_pre))\n",
        "\n"
      ],
      "execution_count": null,
      "outputs": [
        {
          "output_type": "stream",
          "name": "stdout",
          "text": [
            "[[59  0]\n",
            " [ 0 45]]\n"
          ]
        }
      ]
    },
    {
      "cell_type": "code",
      "metadata": {
        "id": "bQeRpmCTl7X0",
        "colab": {
          "base_uri": "https://localhost:8080/"
        },
        "outputId": "ae382bee-3eed-4b8a-d338-c55ba05946fa"
      },
      "source": [
        "\n",
        "\n",
        "from sklearn.metrics import confusion_matrix\n",
        "ans_1=np.load('/content/answers_all_fold_3_final_final_3535.npy',allow_pickle=True).item()\n",
        "fold_1_pre=np.load('/content/predictions_all_fold_3_final_final_3535.npy',allow_pickle=True).item()\n",
        "ans_1=list(ans_1.values())[0]\n",
        "fold_1_pre=list(fold_1_pre.values())[0]\n",
        "tot_ans.extend(ans_1)\n",
        "tot_pre.extend(fold_1_pre)\n",
        "print(confusion_matrix(ans_1,fold_1_pre))\n",
        "\n"
      ],
      "execution_count": null,
      "outputs": [
        {
          "output_type": "stream",
          "name": "stdout",
          "text": [
            "[[59  0]\n",
            " [ 0 45]]\n"
          ]
        }
      ]
    },
    {
      "cell_type": "code",
      "metadata": {
        "id": "wRwX__s2mEVq",
        "colab": {
          "base_uri": "https://localhost:8080/"
        },
        "outputId": "24529426-28da-4f05-891c-9a03a1e0a516"
      },
      "source": [
        "\n",
        "\n",
        "from sklearn.metrics import confusion_matrix\n",
        "ans_1=np.load('/content/answers_all_fold_4_final_final_3535.npy',allow_pickle=True).item()\n",
        "fold_1_pre=np.load('/content/predictions_all_fold_4_final_final_3535.npy',allow_pickle=True).item()\n",
        "ans_1=list(ans_1.values())[0]\n",
        "fold_1_pre=list(fold_1_pre.values())[0]\n",
        "tot_ans.extend(ans_1)\n",
        "tot_pre.extend(fold_1_pre)\n",
        "print(confusion_matrix(ans_1,fold_1_pre))\n",
        "\n"
      ],
      "execution_count": null,
      "outputs": [
        {
          "output_type": "stream",
          "name": "stdout",
          "text": [
            "[[58  0]\n",
            " [ 0 48]]\n"
          ]
        }
      ]
    },
    {
      "cell_type": "code",
      "metadata": {
        "id": "3FXRTXCzmWnh",
        "colab": {
          "base_uri": "https://localhost:8080/"
        },
        "outputId": "51e7ab2a-e02f-427d-d3da-8c03d5838bc4"
      },
      "source": [
        "\n",
        "\n",
        "from sklearn.metrics import confusion_matrix\n",
        "ans_1=np.load('/content/answers_all_fold_5_final_final_3535.npy',allow_pickle=True).item()\n",
        "fold_1_pre=np.load('/content/predictions_all_fold_5_final_final_3535.npy',allow_pickle=True).item()\n",
        "ans_1=list(ans_1.values())[0]\n",
        "fold_1_pre=list(fold_1_pre.values())[0]\n",
        "tot_ans.extend(ans_1)\n",
        "tot_pre.extend(fold_1_pre)\n",
        "print(confusion_matrix(ans_1,fold_1_pre))\n",
        "\n"
      ],
      "execution_count": null,
      "outputs": [
        {
          "output_type": "stream",
          "name": "stdout",
          "text": [
            "[[58  0]\n",
            " [ 0 45]]\n"
          ]
        }
      ]
    },
    {
      "cell_type": "code",
      "metadata": {
        "id": "0JdJZP-399wv",
        "colab": {
          "base_uri": "https://localhost:8080/",
          "height": 279
        },
        "outputId": "ed53e667-d79b-4f03-9c4c-abb9fefd4358"
      },
      "source": [
        "import seaborn as sns\n",
        "from matplotlib import pyplot as plt\n",
        "sns.heatmap(confusion_matrix(tot_ans,tot_pre),annot=True,cmap='Blues', fmt='g',xticklabels=['Meningioma', 'Glioma','Pituitary' ],yticklabels=['Meningioma', 'Glioma','Pituitary' ])\n",
        "plt.xlabel('Predicted Label')\n",
        "plt.ylabel('True Label')\n",
        "plt.savefig('mobilenet.png')"
      ],
      "execution_count": null,
      "outputs": [
        {
          "output_type": "display_data",
          "data": {
            "image/png": "[encoded data removed]",
            "text/plain": [
              "<Figure size 432x288 with 2 Axes>"
            ]
          },
          "metadata": {
            "needs_background": "light"
          }
        }
      ]
    },
    {
      "cell_type": "code",
      "metadata": {
        "id": "nLhLBFFsmlTz"
      },
      "source": [
        "\n",
        "history={}\n",
        "history['fold1']=np.load('/content/history_all_fold_1_final_final_3535.npy',allow_pickle=True).item()\n",
        "history['fold2']=np.load('/content/history_all_fold_2_final_final_3535.npy',allow_pickle=True).item()\n",
        "history['fold3']=np.load('/content/history_all_fold_3_final_final_3535.npy',allow_pickle=True).item()\n",
        "history['fold4']=np.load('/content/history_all_fold_4_final_final_3535.npy',allow_pickle=True).item()\n",
        "history['fold5']=np.load('/content/history_all_fold_5_final_final_3535.npy',allow_pickle=True).item()\n",
        "\n"
      ],
      "execution_count": null,
      "outputs": []
    },
    {
      "cell_type": "code",
      "metadata": {
        "id": "ZNgXRGxGm47o",
        "colab": {
          "base_uri": "https://localhost:8080/",
          "height": 573
        },
        "outputId": "65934862-c755-474c-a046-3bc1eca8c158"
      },
      "source": [
        "from matplotlib import pyplot as plt\n",
        "for i in range(5):\n",
        "    fold='fold'+str(i+1)\n",
        "    fold1='fold_'+str(i+1)\n",
        "    plt.plot(history[fold][fold1]['accuracy'])\n",
        "    plt.title('loss for fold '+str(i))\n",
        "    plt.xlabel('epoch')\n",
        "    plt.ylabel('accuracy')\n",
        "    plt.title('Training all layers')\n",
        "    plt.show()"
      ],
      "execution_count": null,
      "outputs": [
        {
          "output_type": "display_data",
          "data": {
            "image/png": "[encoded data removed]",
            "text/plain": [
              "<Figure size 432x288 with 1 Axes>"
            ]
          },
          "metadata": {
            "needs_background": "light"
          }
        },
        {
          "output_type": "display_data",
          "data": {
            "image/png": "[encoded data removed]",
            "text/plain": [
              "<Figure size 432x288 with 1 Axes>"
            ]
          },
          "metadata": {
            "needs_background": "light"
          }
        }
      ]
    },
    {
      "cell_type": "code",
      "metadata": {
        "id": "K9YqE_Gkm6sm"
      },
      "source": [
        "from matplotlib import pyplot as plt\n",
        "for i in range(5):\n",
        "    fold='fold'+str(i+1)\n",
        "    fold1='fold_'+str(i+1)\n",
        "    plt.plot(history[fold][fold1]['loss'])\n",
        "    plt.title('loss for fold '+str(i))\n",
        "    plt.xlabel('epoch')\n",
        "    plt.ylabel('loss')\n",
        "    plt.title('Training all layers')\n",
        "    plt.show()"
      ],
      "execution_count": null,
      "outputs": []
    },
    {
      "cell_type": "code",
      "metadata": {
        "id": "qlXSp2KQnGjK"
      },
      "source": [
        ""
      ],
      "execution_count": null,
      "outputs": []
    }
  ]
}