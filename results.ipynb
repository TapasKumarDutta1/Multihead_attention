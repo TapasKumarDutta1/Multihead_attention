{
  "nbformat": 4,
  "nbformat_minor": 0,
  "metadata": {
    "colab": {
      "name": "results.ipynb",
      "provenance": [],
      "authorship_tag": "ABX9TyNh7PJMDBDIkitcgAzbL26R",
      "include_colab_link": true
    },
    "kernelspec": {
      "name": "python3",
      "display_name": "Python 3"
    }
  },
  "cells": [
    {
      "cell_type": "markdown",
      "metadata": {
        "id": "view-in-github",
        "colab_type": "text"
      },
      "source": [
        "<a href=\"https://colab.research.google.com/github/greyhound101/Multihead_attention/blob/master/results.ipynb\" target=\"_parent\"><img src=\"https://colab.research.google.com/assets/colab-badge.svg\" alt=\"Open In Colab\"/></a>"
      ]
    },
    {
      "cell_type": "code",
      "metadata": {
        "id": "fdAONnr_ROXb",
        "outputId": "609e6a9b-ab9e-44ba-efba-67878ef0ef81",
        "colab": {
          "base_uri": "https://localhost:8080/"
        }
      },
      "source": [
        "from google.colab import drive\n",
        "drive.mount('/content/gdrive')\n",
        "drive.mount(\"/content/gdrive\", force_remount=True)"
      ],
      "execution_count": 1,
      "outputs": [
        {
          "output_type": "stream",
          "text": [
            "Mounted at /content/gdrive\n",
            "Mounted at /content/gdrive\n"
          ],
          "name": "stdout"
        }
      ]
    },
    {
      "cell_type": "code",
      "metadata": {
        "id": "5LFFwjRbRhBv",
        "outputId": "902a240c-baf3-49b2-acd1-8ba0e8001319",
        "colab": {
          "base_uri": "https://localhost:8080/"
        }
      },
      "source": [
        "import numpy as np\n",
        "type='final'\n",
        "index=str(1)\n",
        "model1='final_3'\n",
        "path='/content/gdrive/My Drive/multihead_12/'\n",
        "a=np.load(path+\"/final_accuracy_all_fold\"+index+\"_\"+model1+\"_\"+type+\".npy\",allow_pickle=True)\n",
        "a"
      ],
      "execution_count": 4,
      "outputs": [
        {
          "output_type": "execute_result",
          "data": {
            "text/plain": [
              "array({'fold_1': 0.9797047970479705}, dtype=object)"
            ]
          },
          "metadata": {
            "tags": []
          },
          "execution_count": 4
        }
      ]
    },
    {
      "cell_type": "code",
      "metadata": {
        "id": "-gqW85OXSMzn"
      },
      "source": [
        "(4,2)\n",
        "(3,3)"
      ],
      "execution_count": null,
      "outputs": []
    },
    {
      "cell_type": "code",
      "metadata": {
        "id": "ZPLWXabER095",
        "outputId": "e6ff9d93-3329-4ad9-adcb-e1fdbee81a6a",
        "colab": {
          "base_uri": "https://localhost:8080/"
        }
      },
      "source": [
        "\n",
        "index=str(2)\n",
        "a=np.load(path+\"/final_accuracy_all_fold\"+index+\"_\"+model1+\"_\"+type+\".npy\",allow_pickle=True)\n",
        "a"
      ],
      "execution_count": 5,
      "outputs": [
        {
          "output_type": "execute_result",
          "data": {
            "text/plain": [
              "array({'fold_2': 0.9587628865979382}, dtype=object)"
            ]
          },
          "metadata": {
            "tags": []
          },
          "execution_count": 5
        }
      ]
    },
    {
      "cell_type": "code",
      "metadata": {
        "id": "nXyeJ8qdR39J",
        "outputId": "1a38b703-7939-499f-d93e-d57e252bd8f5",
        "colab": {
          "base_uri": "https://localhost:8080/"
        }
      },
      "source": [
        "\n",
        "index=str(3)\n",
        "a=np.load(path+\"/final_accuracy_all_fold\"+index+\"_\"+model1+\"_\"+type+\".npy\",allow_pickle=True)\n",
        "a"
      ],
      "execution_count": 6,
      "outputs": [
        {
          "output_type": "execute_result",
          "data": {
            "text/plain": [
              "array({'fold_3': 0.9597902097902098}, dtype=object)"
            ]
          },
          "metadata": {
            "tags": []
          },
          "execution_count": 6
        }
      ]
    },
    {
      "cell_type": "code",
      "metadata": {
        "id": "X_cxaLpBR4AL",
        "outputId": "47b647b1-909b-4408-8082-cdfba065c06a",
        "colab": {
          "base_uri": "https://localhost:8080/"
        }
      },
      "source": [
        "\n",
        "index=str(4)\n",
        "a=np.load(path+\"/final_accuracy_all_fold\"+index+\"_\"+model1+\"_\"+type+\".npy\",allow_pickle=True)\n",
        "a"
      ],
      "execution_count": 7,
      "outputs": [
        {
          "output_type": "execute_result",
          "data": {
            "text/plain": [
              "array({'fold_4': 0.9729299363057324}, dtype=object)"
            ]
          },
          "metadata": {
            "tags": []
          },
          "execution_count": 7
        }
      ]
    },
    {
      "cell_type": "code",
      "metadata": {
        "id": "Aif88PQfR4DN",
        "outputId": "50fb8153-d0b8-4ab2-b373-739a0f77e32c",
        "colab": {
          "base_uri": "https://localhost:8080/"
        }
      },
      "source": [
        "\n",
        "index=str(5)\n",
        "a=np.load(path+\"/final_accuracy_all_fold\"+index+\"_\"+model1+\"_\"+type+\".npy\",allow_pickle=True)\n",
        "a"
      ],
      "execution_count": 8,
      "outputs": [
        {
          "output_type": "execute_result",
          "data": {
            "text/plain": [
              "array({'fold_5': 0.9362363919129082}, dtype=object)"
            ]
          },
          "metadata": {
            "tags": []
          },
          "execution_count": 8
        }
      ]
    },
    {
      "cell_type": "code",
      "metadata": {
        "id": "ow3z1249RTr0"
      },
      "source": [
        "index=str(index)\n",
        "type='final'\n",
        "model1='final_3'\n",
        "path='/content/gdrive/My Drive/multihead_12/'\n",
        "np.save(path+\"/best_accuracy_all_fold_\"+index+\"_\"+model1+\"_\"+type+\".npy\",best_accuracy_last)\n",
        "np.save(path+'/final_accuracy_all_fold'+index+\"_\"+model1+\"_\"+type+\".npy\",final_accuracy_last)\n",
        "np.save(path+'/history_all_fold_'+index+\"_\"+model1+\"_\"+type+\".npy\",history_last)\n",
        "np.save(path+'/answers_all_fold_'+index+\"_\"+model1+\"_\"+type+\".npy\",answers_last)\n",
        "np.save(path+'/predictions_all_fold_'+index+\"_\"+model1+\"_\"+type+\".npy\",predictions_last)\n",
        "np.save(path+'/predictions_all_best_fold_'+index+\"_\"+model1+\"_\"+type+\".npy\",predictions_last_best)\n",
        "np.save(path+'/times_all_fold_'+index+\"_\"+model1+\"_\"+type+\".npy\",times_last)"
      ],
      "execution_count": null,
      "outputs": []
    }
  ]
}