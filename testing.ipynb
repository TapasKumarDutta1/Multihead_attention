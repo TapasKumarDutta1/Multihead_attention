{
  "nbformat": 4,
  "nbformat_minor": 0,
  "metadata": {
    "colab": {
      "name": "testing.ipynb",
      "provenance": [],
      "authorship_tag": "ABX9TyPCY3EiSHf59Ry3dlUaGp/s",
      "include_colab_link": true
    },
    "kernelspec": {
      "name": "python3",
      "display_name": "Python 3"
    },
    "language_info": {
      "name": "python"
    }
  },
  "cells": [
    {
      "cell_type": "markdown",
      "metadata": {
        "id": "view-in-github",
        "colab_type": "text"
      },
      "source": [
        "<a href=\"https://colab.research.google.com/github/greyhound101/Multihead_attention/blob/master/testing.ipynb\" target=\"_parent\"><img src=\"https://colab.research.google.com/assets/colab-badge.svg\" alt=\"Open In Colab\"/></a>"
      ]
    },
    {
      "cell_type": "code",
      "metadata": {
        "colab": {
          "base_uri": "https://localhost:8080/"
        },
        "id": "bKx_M5ZipK-d",
        "outputId": "65017a17-1542-4b45-ddbc-476b1a8ad5bb"
      },
      "source": [
        "! apt install libomp-dev"
      ],
      "execution_count": 1,
      "outputs": [
        {
          "output_type": "stream",
          "name": "stdout",
          "text": [
            "Reading package lists... Done\n",
            "Building dependency tree       \n",
            "Reading state information... Done\n",
            "libomp-dev is already the newest version (5.0.1-1).\n",
            "0 upgraded, 0 newly installed, 0 to remove and 40 not upgraded.\n"
          ]
        }
      ]
    },
    {
      "cell_type": "code",
      "metadata": {
        "colab": {
          "base_uri": "https://localhost:8080/"
        },
        "id": "hUhw5ImYpLjs",
        "outputId": "b7655589-9780-494d-b392-2c4577ee3ac4"
      },
      "source": [
        "! pip uninstall -y opencv-contrib-python"
      ],
      "execution_count": 2,
      "outputs": [
        {
          "output_type": "stream",
          "name": "stdout",
          "text": [
            "Found existing installation: opencv-contrib-python 3.4.2.17\n",
            "Uninstalling opencv-contrib-python-3.4.2.17:\n",
            "  Successfully uninstalled opencv-contrib-python-3.4.2.17\n"
          ]
        }
      ]
    },
    {
      "cell_type": "code",
      "metadata": {
        "colab": {
          "base_uri": "https://localhost:8080/"
        },
        "id": "mM02Vfl1pMpG",
        "outputId": "f763daaf-bcb0-4865-f7f2-a7c62f1e8b79"
      },
      "source": [
        "! pip uninstall -y opencv"
      ],
      "execution_count": 3,
      "outputs": [
        {
          "output_type": "stream",
          "name": "stdout",
          "text": [
            "\u001b[33mWARNING: Skipping opencv as it is not installed.\u001b[0m\n"
          ]
        }
      ]
    },
    {
      "cell_type": "code",
      "metadata": {
        "colab": {
          "base_uri": "https://localhost:8080/"
        },
        "id": "13pUf17ypNqx",
        "outputId": "dadcb518-ecc8-4130-e3bb-090ff83854ad"
      },
      "source": [
        "! pip install opencv-python==3.4.2.17"
      ],
      "execution_count": 4,
      "outputs": [
        {
          "output_type": "stream",
          "name": "stdout",
          "text": [
            "Requirement already satisfied: opencv-python==3.4.2.17 in /usr/local/lib/python3.7/dist-packages (3.4.2.17)\n",
            "Requirement already satisfied: numpy>=1.14.5 in /usr/local/lib/python3.7/dist-packages (from opencv-python==3.4.2.17) (1.19.5)\n"
          ]
        }
      ]
    },
    {
      "cell_type": "code",
      "metadata": {
        "colab": {
          "base_uri": "https://localhost:8080/"
        },
        "id": "CM0pfQsDpO5D",
        "outputId": "36c21267-1c4e-4c02-cd69-db6e607e594d"
      },
      "source": [
        "! pip install opencv-contrib-python==3.4.2.17"
      ],
      "execution_count": 5,
      "outputs": [
        {
          "output_type": "stream",
          "name": "stdout",
          "text": [
            "Collecting opencv-contrib-python==3.4.2.17\n",
            "  Using cached opencv_contrib_python-3.4.2.17-cp37-cp37m-manylinux1_x86_64.whl (30.6 MB)\n",
            "Requirement already satisfied: numpy>=1.14.5 in /usr/local/lib/python3.7/dist-packages (from opencv-contrib-python==3.4.2.17) (1.19.5)\n",
            "Installing collected packages: opencv-contrib-python\n",
            "Successfully installed opencv-contrib-python-3.4.2.17\n"
          ]
        }
      ]
    },
    {
      "cell_type": "code",
      "metadata": {
        "colab": {
          "base_uri": "https://localhost:8080/"
        },
        "id": "686Waux2pRCc",
        "outputId": "636eaaf8-8e0e-49ad-936c-4504d2157b00"
      },
      "source": [
        "! pip install pymilvus"
      ],
      "execution_count": 6,
      "outputs": [
        {
          "output_type": "stream",
          "name": "stdout",
          "text": [
            "Requirement already satisfied: pymilvus in /usr/local/lib/python3.7/dist-packages (1.1.2)\n",
            "Requirement already satisfied: grpcio<1.38.0,>=1.22.0 in /usr/local/lib/python3.7/dist-packages (from pymilvus) (1.37.1)\n",
            "Requirement already satisfied: requests>=2.22.0 in /usr/local/lib/python3.7/dist-packages (from pymilvus) (2.23.0)\n",
            "Requirement already satisfied: ujson>=2.0.0 in /usr/local/lib/python3.7/dist-packages (from pymilvus) (4.1.0)\n",
            "Requirement already satisfied: grpcio-tools<1.38.0,>=1.22.0 in /usr/local/lib/python3.7/dist-packages (from pymilvus) (1.37.1)\n",
            "Requirement already satisfied: six>=1.5.2 in /usr/local/lib/python3.7/dist-packages (from grpcio<1.38.0,>=1.22.0->pymilvus) (1.15.0)\n",
            "Requirement already satisfied: protobuf<4.0dev,>=3.5.0.post1 in /usr/local/lib/python3.7/dist-packages (from grpcio-tools<1.38.0,>=1.22.0->pymilvus) (3.17.3)\n",
            "Requirement already satisfied: setuptools in /usr/local/lib/python3.7/dist-packages (from grpcio-tools<1.38.0,>=1.22.0->pymilvus) (57.4.0)\n",
            "Requirement already satisfied: urllib3!=1.25.0,!=1.25.1,<1.26,>=1.21.1 in /usr/local/lib/python3.7/dist-packages (from requests>=2.22.0->pymilvus) (1.24.3)\n",
            "Requirement already satisfied: chardet<4,>=3.0.2 in /usr/local/lib/python3.7/dist-packages (from requests>=2.22.0->pymilvus) (3.0.4)\n",
            "Requirement already satisfied: certifi>=2017.4.17 in /usr/local/lib/python3.7/dist-packages (from requests>=2.22.0->pymilvus) (2021.5.30)\n",
            "Requirement already satisfied: idna<3,>=2.5 in /usr/local/lib/python3.7/dist-packages (from requests>=2.22.0->pymilvus) (2.10)\n"
          ]
        }
      ]
    },
    {
      "cell_type": "code",
      "metadata": {
        "colab": {
          "base_uri": "https://localhost:8080/"
        },
        "id": "GsqIc52sBlob",
        "outputId": "c192a379-49cb-455e-8590-903f4a490af5"
      },
      "source": [
        "pip install albumentations==1.0.3"
      ],
      "execution_count": 7,
      "outputs": [
        {
          "output_type": "stream",
          "name": "stdout",
          "text": [
            "Requirement already satisfied: albumentations==1.0.3 in /usr/local/lib/python3.7/dist-packages (1.0.3)\n",
            "Requirement already satisfied: opencv-python-headless>=4.1.1 in /usr/local/lib/python3.7/dist-packages (from albumentations==1.0.3) (4.5.3.56)\n",
            "Requirement already satisfied: scikit-image>=0.16.1 in /usr/local/lib/python3.7/dist-packages (from albumentations==1.0.3) (0.16.2)\n",
            "Requirement already satisfied: numpy>=1.11.1 in /usr/local/lib/python3.7/dist-packages (from albumentations==1.0.3) (1.19.5)\n",
            "Requirement already satisfied: PyYAML in /usr/local/lib/python3.7/dist-packages (from albumentations==1.0.3) (3.13)\n",
            "Requirement already satisfied: scipy in /usr/local/lib/python3.7/dist-packages (from albumentations==1.0.3) (1.4.1)\n",
            "Requirement already satisfied: pillow>=4.3.0 in /usr/local/lib/python3.7/dist-packages (from scikit-image>=0.16.1->albumentations==1.0.3) (7.1.2)\n",
            "Requirement already satisfied: matplotlib!=3.0.0,>=2.0.0 in /usr/local/lib/python3.7/dist-packages (from scikit-image>=0.16.1->albumentations==1.0.3) (3.2.2)\n",
            "Requirement already satisfied: imageio>=2.3.0 in /usr/local/lib/python3.7/dist-packages (from scikit-image>=0.16.1->albumentations==1.0.3) (2.4.1)\n",
            "Requirement already satisfied: networkx>=2.0 in /usr/local/lib/python3.7/dist-packages (from scikit-image>=0.16.1->albumentations==1.0.3) (2.6.2)\n",
            "Requirement already satisfied: PyWavelets>=0.4.0 in /usr/local/lib/python3.7/dist-packages (from scikit-image>=0.16.1->albumentations==1.0.3) (1.1.1)\n",
            "Requirement already satisfied: cycler>=0.10 in /usr/local/lib/python3.7/dist-packages (from matplotlib!=3.0.0,>=2.0.0->scikit-image>=0.16.1->albumentations==1.0.3) (0.10.0)\n",
            "Requirement already satisfied: kiwisolver>=1.0.1 in /usr/local/lib/python3.7/dist-packages (from matplotlib!=3.0.0,>=2.0.0->scikit-image>=0.16.1->albumentations==1.0.3) (1.3.1)\n",
            "Requirement already satisfied: pyparsing!=2.0.4,!=2.1.2,!=2.1.6,>=2.0.1 in /usr/local/lib/python3.7/dist-packages (from matplotlib!=3.0.0,>=2.0.0->scikit-image>=0.16.1->albumentations==1.0.3) (2.4.7)\n",
            "Requirement already satisfied: python-dateutil>=2.1 in /usr/local/lib/python3.7/dist-packages (from matplotlib!=3.0.0,>=2.0.0->scikit-image>=0.16.1->albumentations==1.0.3) (2.8.2)\n",
            "Requirement already satisfied: six in /usr/local/lib/python3.7/dist-packages (from cycler>=0.10->matplotlib!=3.0.0,>=2.0.0->scikit-image>=0.16.1->albumentations==1.0.3) (1.15.0)\n"
          ]
        }
      ]
    },
    {
      "cell_type": "code",
      "metadata": {
        "id": "EAcTQpQQpTdZ"
      },
      "source": [
        "import os\n",
        "import numpy as np\n",
        "from PIL import Image\n",
        "import cv2\n",
        "from PIL import Image\n",
        "import base64\n",
        "from io import BytesIO as _BytesIO\n",
        "import io\n",
        "import math\n",
        "\n",
        "NOR_X = 512\n",
        "NOR_Y = 384\n",
        "\n",
        "def calc_sift(image_o):\n",
        "    sift = cv2.xfeatures2d.SIFT_create()\n",
        "    # sift  = cv2.ORB_create(nfeatures=200)\n",
        "    image = cv2.resize(image_o, (NOR_X, NOR_Y))\n",
        "    if image.ndim == 2:\n",
        "        gray_image = image\n",
        "    else:\n",
        "        gray_image = cv2.cvtColor(image, cv2.COLOR_BGR2GRAY)\n",
        "    kp, des = sift.detectAndCompute(gray_image, None)\n",
        "    \n",
        "    # apply the Hellinger kernel by first L1-normalizing and taking the\n",
        "    # square-root\n",
        "    if not (des is None) and des.size != 0:\n",
        "        eps=1e-7\n",
        "        des /= (des.sum(axis=1, keepdims=True) + eps)\n",
        "        des = np.sqrt(des)\n",
        "        # print(des.shape)\n",
        "        # return des.tolist()[:200] # ashok: remove this 200 since it is filtering only 200\n",
        "        return des # ashok: remove this 200 since it is filtering only 200\n",
        "\n",
        "def read_gifs(gif_image):\n",
        "    imgs = []\n",
        "    im = Image.open(gif_image)\n",
        "    for i in range(im.n_frames):\n",
        "        im.seek(i)\n",
        "        imgs.append(np.array(im))\n",
        "    return imgs\n",
        "\n",
        "def find_duration(img_obj):\n",
        "    img_obj.seek(0)  # move to the start of the gif, frame 0\n",
        "    tot_duration = 0\n",
        "    # run a while loop to loop through the frames\n",
        "    while True:\n",
        "        try:\n",
        "            # returns current frame duration in milli sec.\n",
        "            frame_duration = img_obj.info['duration']\n",
        "            tot_duration += frame_duration\n",
        "            # now move to the next frame of the gif\n",
        "            img_obj.seek(img_obj.tell() + 1)  # image.tell() = current frame\n",
        "        except EOFError:\n",
        "            return tot_duration/1000  # this will return the tot_duration of the gif\n",
        "\n",
        "def calc_sift_for_gif(gif):\n",
        "    # decoded_bytes = process_gif_bytes(gif_bytes)\n",
        "    img = Image.open(gif)\n",
        "    if img.n_frames > 10:\n",
        "        num_key_frames = round(find_duration(img)) + 1\n",
        "    else:\n",
        "        num_key_frames = img.n_frames \n",
        "    # print(num_key_frames+1)\n",
        "    desc = list()\n",
        "    for i in range(1, num_key_frames):\n",
        "        #print(img.n_frames // (num_key_frames * (i)))\n",
        "        img.seek(img.n_frames // (num_key_frames * (i)))\n",
        "        image_rgb = img.convert('RGB')\n",
        "        img_np = np.array(image_rgb)\n",
        "        image_gray = rgb_to_gray(img_np)\n",
        "        desc.extend(calc_sift(image_gray))\n",
        "    unique_desc = [list(x) for x in set(tuple(x) for x in desc)]\n",
        "    return unique_desc\n",
        "\n",
        "def calc_sift_for_mp4(mp4):\n",
        "    cap = cv2.VideoCapture(mp4)\n",
        "    frameRate = cap.get(5) #frame rate\n",
        "    x=1\n",
        "    desc = list()\n",
        "    while(cap.isOpened()):\n",
        "        frameId = cap.get(1) #current frame number\n",
        "        ret, frame = cap.read()\n",
        "        if (ret != True):\n",
        "            break\n",
        "        if (frameId % math.floor(frameRate) == 0):\n",
        "            image_gray = rgb_to_gray(frame)\n",
        "            desc.extend(calc_sift(image_gray))\n",
        "            x= x+1\n",
        "    cap.release()\n",
        "    unique_desc = [list(x) for x in set(tuple(x) for x in desc)]\n",
        "    return unique_desc  \n",
        "\n",
        "def calc_sift_for_image(image):\n",
        "    image_gray = rgb_to_gray(image)\n",
        "    desc = calc_sift(image_gray)\n",
        "    return desc\n",
        "\n",
        "def rgb_to_gray(img):\n",
        "    if img.ndim == 2:\n",
        "        gray_image = img\n",
        "    else:\n",
        "        gray_image = cv2.cvtColor(img, cv2.COLOR_BGR2GRAY)\n",
        "    # gray = cv2.cvtColor(img, cv2.COLOR_BGR2GRAY)\n",
        "    return gray_image\n",
        "\n",
        "def read_image(image_path):\n",
        "    cv2.imread(image_path)"
      ],
      "execution_count": 8,
      "outputs": []
    },
    {
      "cell_type": "code",
      "metadata": {
        "colab": {
          "base_uri": "https://localhost:8080/"
        },
        "id": "spuU5Yz4pZOq",
        "outputId": "6f0b37a6-be11-4e81-fb39-cbd46ad00b47"
      },
      "source": [
        "from google.colab import drive\n",
        "drive.mount('/content/gdrive')\n",
        "drive.mount(\"/content/gdrive\", force_remount=True)"
      ],
      "execution_count": 9,
      "outputs": [
        {
          "output_type": "stream",
          "name": "stdout",
          "text": [
            "Drive already mounted at /content/gdrive; to attempt to forcibly remount, call drive.mount(\"/content/gdrive\", force_remount=True).\n",
            "Mounted at /content/gdrive\n"
          ]
        }
      ]
    },
    {
      "cell_type": "code",
      "metadata": {
        "id": "d-NR-M_LuEhK"
      },
      "source": [
        "from joblib import Parallel, delayed\n",
        "from datetime import datetime\n",
        "import glob\n",
        "import os\n",
        "import json\n",
        "from tqdm.notebook import tqdm"
      ],
      "execution_count": 10,
      "outputs": []
    },
    {
      "cell_type": "code",
      "metadata": {
        "id": "QOWBr6xauCVi"
      },
      "source": [
        "\n",
        "def calculateMatches(des1,des2):\n",
        "    bf = cv2.BFMatcher()\n",
        "    matches = bf.knnMatch(des1,des2,k=2)\n",
        "    topResults1 = []\n",
        "    for m,n in matches:\n",
        "        if m.distance < 0.7*n.distance:\n",
        "            topResults1.append([m])\n",
        "            \n",
        "    matches = bf.knnMatch(des2,des1,k=2)\n",
        "    topResults2 = []\n",
        "    for m,n in matches:\n",
        "        if m.distance < 0.7*n.distance:\n",
        "            topResults2.append([m])\n",
        "    \n",
        "    topResults = []\n",
        "    for match1 in topResults1:\n",
        "        match1QueryIndex = match1[0].queryIdx\n",
        "        match1TrainIndex = match1[0].trainIdx\n",
        "\n",
        "        for match2 in topResults2:\n",
        "            match2QueryIndex = match2[0].queryIdx\n",
        "            match2TrainIndex = match2[0].trainIdx\n",
        "\n",
        "            if (match1QueryIndex == match2TrainIndex) and (match1TrainIndex == match2QueryIndex):\n",
        "                topResults.append(match1)\n",
        "    return topResults\n",
        "\n",
        "def calculateScore(keypoint1,keypoint2):\n",
        "    return 100 * (len(calculateMatches(keypoint1,keypoint2))/min(len(keypoint1),len(keypoint2)))\n"
      ],
      "execution_count": 11,
      "outputs": []
    },
    {
      "cell_type": "code",
      "metadata": {
        "colab": {
          "base_uri": "https://localhost:8080/"
        },
        "id": "jBaH8s8k67qn",
        "outputId": "1555d64c-be2b-4d9f-c713-0149997f2607"
      },
      "source": [
        "from albumentations import Compose, Blur ,  CenterCrop,RandomScale,ColorJitter\n",
        "import cv2\n",
        "from matplotlib import pyplot as plt\n",
        "cc = Compose([CenterCrop(200, 200)])\n",
        "def rotate_image(image, angle):\n",
        "  image_center = tuple(np.array(image.shape[1::-1]) / 2)\n",
        "  rot_mat = cv2.getRotationMatrix2D(image_center, angle, 1.0)\n",
        "  result = cv2.warpAffine(image, rot_mat, image.shape[1::-1], flags=cv2.INTER_LINEAR)\n",
        "  return result\n",
        "\n",
        "blur = Compose([Blur(blur_limit=10,p=1)])\n",
        "scl = Compose([RandomScale (scale_limit=0.5, interpolation=1,p=1)])\n",
        "ls=[]\n",
        "cj = Compose([ColorJitter  (brightness=0.2, contrast=0.2, saturation=0.2, hue=0.2, p=1)])\n",
        "from tqdm import tqdm\n",
        "import glob\n",
        "for path in tqdm(list(glob.glob('/content/gdrive/MyDrive/Rarible_Images/*.png'))[:10]):\n",
        "  a=cv2.imread(path )\n",
        "  org=calc_sift_for_image(a)\n",
        "  ls.append(calculateScore(org,calc_sift_for_image(cc(image=a)['image'])))\n",
        "  ls.append(calculateScore(org,calc_sift_for_image(blur(image=a)['image'])))\n",
        "  ls.append(calculateScore(org,calc_sift_for_image(scl(image=a)['image'])))\n",
        "\n",
        "\n",
        "  for angle in range(-100,100,50):\n",
        "    ls.append(calculateScore(org,calc_sift_for_image(rotate_image(a,angle))))\n",
        "\n"
      ],
      "execution_count": 19,
      "outputs": [
        {
          "output_type": "stream",
          "name": "stderr",
          "text": [
            "  0%|          | 0/5627 [00:07<?, ?it/s]\n",
            "100%|██████████| 10/10 [00:04<00:00,  2.41it/s]\n"
          ]
        }
      ]
    },
    {
      "cell_type": "code",
      "metadata": {
        "colab": {
          "base_uri": "https://localhost:8080/"
        },
        "id": "xPkuhk-UBGzm",
        "outputId": "ee56ddfc-86ff-4494-cd57-8d5f8abb043e"
      },
      "source": [
        "np.mean(ls)"
      ],
      "execution_count": 20,
      "outputs": [
        {
          "output_type": "execute_result",
          "data": {
            "text/plain": [
              "44.89448221650154"
            ]
          },
          "metadata": {},
          "execution_count": 20
        }
      ]
    },
    {
      "cell_type": "code",
      "metadata": {
        "id": "th8CO2s_DzGw"
      },
      "source": [
        ""
      ],
      "execution_count": null,
      "outputs": []
    }
  ]
}