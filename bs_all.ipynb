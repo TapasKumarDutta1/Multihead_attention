{
  "nbformat": 4,
  "nbformat_minor": 0,
  "metadata": {
    "colab": {
      "name": "bs_all.ipynb",
      "provenance": [],
      "include_colab_link": true
    },
    "kernelspec": {
      "name": "python3",
      "display_name": "Python 3"
    }
  },
  "cells": [
    {
      "cell_type": "markdown",
      "metadata": {
        "id": "view-in-github",
        "colab_type": "text"
      },
      "source": [
        "<a href=\"https://colab.research.google.com/github/greyhound101/Multihead_attention/blob/master/bs_all.ipynb\" target=\"_parent\"><img src=\"https://colab.research.google.com/assets/colab-badge.svg\" alt=\"Open In Colab\"/></a>"
      ]
    },
    {
      "cell_type": "markdown",
      "metadata": {
        "id": "Eeu5aj1f9BFJ"
      },
      "source": [
        "BS3"
      ]
    },
    {
      "cell_type": "code",
      "metadata": {
        "id": "tj_29PT2hSoN",
        "colab": {
          "base_uri": "https://localhost:8080/"
        },
        "outputId": "e23359b9-5965-42a9-dff5-6fada0d5c749"
      },
      "source": [
        "import numpy as np\n",
        "fnl_acc3=list(np.load('/content/final_accuracy_last_fold1_1e-4_wn.npy',allow_pickle=True).item().values())[0]\n",
        "fnl_acc5=list(np.load('/content/final_accuracy_last_fold2_1e-4_wn.npy',allow_pickle=True).item().values())[0]\n",
        "fnl_acc4=list(np.load('/content/final_accuracy_last_fold3_1e-4_wn.npy',allow_pickle=True).item().values())[0]\n",
        "fnl_acc2=list(np.load('/content/final_accuracy_last_fold4_5e-5_wn.npy',allow_pickle=True).item().values())[0]\n",
        "fnl_acc1=list(np.load('/content/final_accuracy_last_fold5_1e-4_wn.npy',allow_pickle=True).item().values())[0]\n",
        "np.mean([fnl_acc1,fnl_acc2,fnl_acc3,fnl_acc4,fnl_acc5])"
      ],
      "execution_count": 1,
      "outputs": [
        {
          "output_type": "execute_result",
          "data": {
            "text/plain": [
              "0.9571185235956745"
            ]
          },
          "metadata": {},
          "execution_count": 1
        }
      ]
    },
    {
      "cell_type": "code",
      "metadata": {
        "colab": {
          "base_uri": "https://localhost:8080/"
        },
        "id": "e1SqUcVr26lA",
        "outputId": "5b5ce4b8-19dd-4c30-8a5c-c7eb82b706fb"
      },
      "source": [
        "import numpy as np\n",
        "fnl_acc3=list(np.load('/content/final_accuracy_last_fold1_1e-4_wn.npy',allow_pickle=True).item().values())[0]\n",
        "fnl_acc5=list(np.load('/content/final_accuracy_last_fold2_1e-4_wn.npy',allow_pickle=True).item().values())[0]\n",
        "fnl_acc4=list(np.load('/content/final_accuracy_last_fold3_1e-4_wn.npy',allow_pickle=True).item().values())[0]\n",
        "fnl_acc2=list(np.load('/content/final_accuracy_last_fold4_1e-4_wn.npy',allow_pickle=True).item().values())[0]\n",
        "fnl_acc1=list(np.load('/content/final_accuracy_last_fold5_1e-4_wn.npy',allow_pickle=True).item().values())[0]\n",
        "np.mean([fnl_acc1,fnl_acc2,fnl_acc3,fnl_acc4,fnl_acc5])"
      ],
      "execution_count": 3,
      "outputs": [
        {
          "output_type": "execute_result",
          "data": {
            "text/plain": [
              "0.9565910354610446"
            ]
          },
          "metadata": {},
          "execution_count": 3
        }
      ]
    },
    {
      "cell_type": "code",
      "metadata": {
        "colab": {
          "base_uri": "https://localhost:8080/"
        },
        "id": "ASPbvNA33Aon",
        "outputId": "372ccf2c-2317-42b4-eab3-d1b05f50456e"
      },
      "source": [
        "import numpy as np\n",
        "fnl_acc3=list(np.load('/content/final_accuracy_last_fold1_1e-4_wn.npy',allow_pickle=True).item().values())[0]\n",
        "fnl_acc5=list(np.load('/content/final_accuracy_last_fold2_5e-5_wn.npy',allow_pickle=True).item().values())[0]\n",
        "fnl_acc4=list(np.load('/content/final_accuracy_last_fold3_1e-4_wn.npy',allow_pickle=True).item().values())[0]\n",
        "fnl_acc2=list(np.load('/content/final_accuracy_last_fold4_5e-5_wn.npy',allow_pickle=True).item().values())[0]\n",
        "fnl_acc1=list(np.load('/content/final_accuracy_last_fold5_1e-4_wn.npy',allow_pickle=True).item().values())[0]\n",
        "np.mean([fnl_acc1,fnl_acc2,fnl_acc3,fnl_acc4,fnl_acc5])"
      ],
      "execution_count": 5,
      "outputs": [
        {
          "output_type": "execute_result",
          "data": {
            "text/plain": [
              "0.9544705718746227"
            ]
          },
          "metadata": {},
          "execution_count": 5
        }
      ]
    },
    {
      "cell_type": "code",
      "metadata": {
        "colab": {
          "base_uri": "https://localhost:8080/"
        },
        "id": "FhROr5hl3Hdv",
        "outputId": "6c8834c7-d3c7-4371-fe1b-683505c1c814"
      },
      "source": [
        "import numpy as np\n",
        "fnl_acc3=list(np.load('/content/final_accuracy_last_fold1_1e-4_wn.npy',allow_pickle=True).item().values())[0]\n",
        "fnl_acc5=list(np.load('/content/final_accuracy_last_fold2_1e-4_wn.npy',allow_pickle=True).item().values())[0]\n",
        "fnl_acc4=list(np.load('/content/final_accuracy_last_fold3_1e-4_wn.npy',allow_pickle=True).item().values())[0]\n",
        "fnl_acc2=list(np.load('/content/final_accuracy_last_fold4_1e-4_wn.npy',allow_pickle=True).item().values())[0]\n",
        "fnl_acc1=list(np.load('/content/final_accuracy_last_fold5_1e-4_wn.npy',allow_pickle=True).item().values())[0]\n",
        "np.mean([fnl_acc1,fnl_acc2,fnl_acc3,fnl_acc4,fnl_acc5])"
      ],
      "execution_count": 7,
      "outputs": [
        {
          "output_type": "execute_result",
          "data": {
            "text/plain": [
              "0.9598666203569033"
            ]
          },
          "metadata": {},
          "execution_count": 7
        }
      ]
    },
    {
      "cell_type": "code",
      "metadata": {
        "colab": {
          "base_uri": "https://localhost:8080/"
        },
        "id": "NkeHBTYX3Mxn",
        "outputId": "65d21b31-7fe1-4b95-b367-b931780d960c"
      },
      "source": [
        "import numpy as np\n",
        "fnl_acc3=list(np.load('/content/final_accuracy_last_fold1_1e-4_wn.npy',allow_pickle=True).item().values())[0]\n",
        "fnl_acc5=list(np.load('/content/final_accuracy_last_fold2_1e-4_wn.npy',allow_pickle=True).item().values())[0]\n",
        "fnl_acc4=list(np.load('/content/final_accuracy_last_fold3_1e-4_wn (1).npy',allow_pickle=True).item().values())[0]\n",
        "fnl_acc2=list(np.load('/content/final_accuracy_last_fold4_1e-4_wn.npy',allow_pickle=True).item().values())[0]\n",
        "fnl_acc1=list(np.load('/content/final_accuracy_last_fold5_1e-4_wn.npy',allow_pickle=True).item().values())[0]\n",
        "np.mean([fnl_acc1,fnl_acc2,fnl_acc3,fnl_acc4,fnl_acc5])"
      ],
      "execution_count": 10,
      "outputs": [
        {
          "output_type": "execute_result",
          "data": {
            "text/plain": [
              "0.9561045016666171"
            ]
          },
          "metadata": {},
          "execution_count": 10
        }
      ]
    },
    {
      "cell_type": "code",
      "metadata": {
        "colab": {
          "base_uri": "https://localhost:8080/"
        },
        "id": "9Gu1YR2p3YDQ",
        "outputId": "53c91d9c-04de-4c0b-b8b5-b26cb8f5bd9a"
      },
      "source": [
        "import numpy as np\n",
        "fnl_acc3=list(np.load('/content/final_accuracy_last_fold1_1e-4_wn.npy',allow_pickle=True).item().values())[0]\n",
        "fnl_acc5=list(np.load('/content/final_accuracy_last_fold2_5e-5_wn.npy',allow_pickle=True).item().values())[0]\n",
        "fnl_acc4=list(np.load('/content/final_accuracy_last_fold3_1e-4_wn.npy',allow_pickle=True).item().values())[0]\n",
        "fnl_acc2=list(np.load('/content/final_accuracy_last_fold4_1e-4_wn.npy',allow_pickle=True).item().values())[0]\n",
        "fnl_acc1=list(np.load('/content/final_accuracy_last_fold5_1e-4_wn.npy',allow_pickle=True).item().values())[0]\n",
        "np.mean([fnl_acc1,fnl_acc2,fnl_acc3,fnl_acc4,fnl_acc5])"
      ],
      "execution_count": 12,
      "outputs": [
        {
          "output_type": "execute_result",
          "data": {
            "text/plain": [
              "0.9546564852234638"
            ]
          },
          "metadata": {},
          "execution_count": 12
        }
      ]
    },
    {
      "cell_type": "code",
      "metadata": {
        "colab": {
          "base_uri": "https://localhost:8080/"
        },
        "id": "7FxZ2dQW3etK",
        "outputId": "8f7465c4-65e8-4354-8a91-df1f3dda73f2"
      },
      "source": [
        "import numpy as np\n",
        "fnl_acc3=list(np.load('/content/final_accuracy_last_fold1_1e-4_wn.npy',allow_pickle=True).item().values())[0]\n",
        "fnl_acc5=list(np.load('/content/final_accuracy_last_fold2_1e-4_wn.npy',allow_pickle=True).item().values())[0]\n",
        "fnl_acc4=list(np.load('/content/final_accuracy_last_fold3_1e-4_wn.npy',allow_pickle=True).item().values())[0]\n",
        "fnl_acc2=list(np.load('/content/final_accuracy_last_fold4_1e-4_wn.npy',allow_pickle=True).item().values())[0]\n",
        "fnl_acc1=list(np.load('/content/final_accuracy_last_fold5_1e-4_wn.npy',allow_pickle=True).item().values())[0]\n",
        "np.mean([fnl_acc1,fnl_acc2,fnl_acc3,fnl_acc4,fnl_acc5])"
      ],
      "execution_count": 14,
      "outputs": [
        {
          "output_type": "execute_result",
          "data": {
            "text/plain": [
              "0.9616189682013786"
            ]
          },
          "metadata": {},
          "execution_count": 14
        }
      ]
    },
    {
      "cell_type": "code",
      "metadata": {
        "colab": {
          "base_uri": "https://localhost:8080/"
        },
        "id": "Qycwo3w28yVV",
        "outputId": "f5be3739-c57a-42a3-8ecb-53afd439b3e3"
      },
      "source": [
        "import numpy as np\n",
        "fnl_acc3=list(np.load('/content/final_accuracy_last_fold1_1e-4_wn.npy',allow_pickle=True).item().values())[0]\n",
        "fnl_acc5=list(np.load('/content/final_accuracy_last_fold2_5e-5_wn.npy',allow_pickle=True).item().values())[0]\n",
        "fnl_acc4=list(np.load('/content/final_accuracy_last_fold3_1e-4_wn.npy',allow_pickle=True).item().values())[0]\n",
        "fnl_acc2=list(np.load('/content/final_accuracy_last_fold4_1e-4_wn.npy',allow_pickle=True).item().values())[0]\n",
        "fnl_acc1=list(np.load('/content/final_accuracy_last_fold5_1e-4_wn.npy',allow_pickle=True).item().values())[0]\n",
        "np.mean([fnl_acc1,fnl_acc2,fnl_acc3,fnl_acc4,fnl_acc5])"
      ],
      "execution_count": 16,
      "outputs": [
        {
          "output_type": "execute_result",
          "data": {
            "text/plain": [
              "0.9604361252335277"
            ]
          },
          "metadata": {},
          "execution_count": 16
        }
      ]
    },
    {
      "cell_type": "code",
      "metadata": {
        "colab": {
          "base_uri": "https://localhost:8080/"
        },
        "id": "_tMv3yiQ83aG",
        "outputId": "c93fdece-e002-45cc-f29f-d2cab7e26c24"
      },
      "source": [
        "import numpy as np\n",
        "fnl_acc3=list(np.load('/content/final_accuracy_last_fold1_1e-4_wn.npy',allow_pickle=True).item().values())[0]\n",
        "fnl_acc5=list(np.load('/content/final_accuracy_last_fold2_1e-4_wn.npy',allow_pickle=True).item().values())[0]\n",
        "fnl_acc4=list(np.load('/content/final_accuracy_last_fold3_1e-4_wn.npy',allow_pickle=True).item().values())[0]\n",
        "# fnl_acc2=list(np.load('/content/final_accuracy_last_fold4_1e-4_wn.npy',allow_pickle=True).item().values())[0]\n",
        "fnl_acc1=list(np.load('/content/final_accuracy_last_fold5_1e-4_wn.npy',allow_pickle=True).item().values())[0]\n",
        "np.mean([fnl_acc1,fnl_acc2,fnl_acc3,fnl_acc5])"
      ],
      "execution_count": 20,
      "outputs": [
        {
          "output_type": "execute_result",
          "data": {
            "text/plain": [
              "0.9512262537790661"
            ]
          },
          "metadata": {},
          "execution_count": 20
        }
      ]
    },
    {
      "cell_type": "markdown",
      "metadata": {
        "id": "3tziRNu_9DWl"
      },
      "source": [
        "BS3"
      ]
    },
    {
      "cell_type": "markdown",
      "metadata": {
        "id": "E6YKPlMo9nuo"
      },
      "source": [
        "BS2"
      ]
    },
    {
      "cell_type": "code",
      "metadata": {
        "colab": {
          "base_uri": "https://localhost:8080/"
        },
        "id": "7ZzTqfgJ9I7N",
        "outputId": "f6322efe-53d6-4767-abf7-cc2119a6e22f"
      },
      "source": [
        "import numpy as np\n",
        "fnl_acc3=list(np.load('/content/final_accuracy_last_fold1_5e-5_wn.npy',allow_pickle=True).item().values())[0]\n",
        "fnl_acc5=list(np.load('/content/final_accuracy_last_fold2_1e-4_wn.npy',allow_pickle=True).item().values())[0]\n",
        "fnl_acc4=list(np.load('/content/final_accuracy_last_fold3_1e-4_wn.npy',allow_pickle=True).item().values())[0]\n",
        "fnl_acc2=list(np.load('/content/final_accuracy_last_fold4_5e-5_wn.npy',allow_pickle=True).item().values())[0]\n",
        "fnl_acc1=list(np.load('/content/final_accuracy_last_fold5_1e-4_wn.npy',allow_pickle=True).item().values())[0]\n",
        "np.mean([fnl_acc1,fnl_acc2,fnl_acc3,fnl_acc5])"
      ],
      "execution_count": 22,
      "outputs": [
        {
          "output_type": "execute_result",
          "data": {
            "text/plain": [
              "0.9488382365789985"
            ]
          },
          "metadata": {},
          "execution_count": 22
        }
      ]
    },
    {
      "cell_type": "code",
      "metadata": {
        "colab": {
          "base_uri": "https://localhost:8080/"
        },
        "id": "HenEof2F9QKQ",
        "outputId": "ed2662a3-87db-491e-968c-cf1a27f98bec"
      },
      "source": [
        "import numpy as np\n",
        "fnl_acc3=list(np.load('/content/final_accuracy_last_fold1_1e-4_wn.npy',allow_pickle=True).item().values())[0]\n",
        "fnl_acc5=list(np.load('/content/final_accuracy_last_fold2_1e-4_wn.npy',allow_pickle=True).item().values())[0]\n",
        "fnl_acc4=list(np.load('/content/final_accuracy_last_fold3_1e-4_wn.npy',allow_pickle=True).item().values())[0]\n",
        "fnl_acc2=list(np.load('/content/final_accuracy_last_fold4_1e-4_wn.npy',allow_pickle=True).item().values())[0]\n",
        "fnl_acc1=list(np.load('/content/final_accuracy_last_fold5_1e-4_wn.npy',allow_pickle=True).item().values())[0]\n",
        "np.mean([fnl_acc1,fnl_acc2,fnl_acc3,fnl_acc4,fnl_acc5])"
      ],
      "execution_count": 29,
      "outputs": [
        {
          "output_type": "execute_result",
          "data": {
            "text/plain": [
              "0.9634008700454763"
            ]
          },
          "metadata": {},
          "execution_count": 29
        }
      ]
    },
    {
      "cell_type": "code",
      "metadata": {
        "colab": {
          "base_uri": "https://localhost:8080/"
        },
        "id": "S4nGu-3N9Tpd",
        "outputId": "e0da0bc3-4d87-4ad6-9c4d-360350a0469d"
      },
      "source": [
        "import numpy as np\n",
        "fnl_acc3=list(np.load('/content/final_accuracy_last_fold1_1e-4_wn.npy',allow_pickle=True).item().values())[0]\n",
        "fnl_acc5=list(np.load('/content/final_accuracy_last_fold2_1e-4_wn.npy',allow_pickle=True).item().values())[0]\n",
        "fnl_acc4=list(np.load('/content/final_accuracy_last_fold3_1e-4_wn.npy',allow_pickle=True).item().values())[0]\n",
        "fnl_acc2=list(np.load('/content/final_accuracy_last_fold4_1e-4_wn.npy',allow_pickle=True).item().values())[0]\n",
        "fnl_acc1=list(np.load('/content/final_accuracy_last_fold5_1e-4_wn.npy',allow_pickle=True).item().values())[0]\n",
        "np.mean([fnl_acc1,fnl_acc2,fnl_acc3,fnl_acc4,fnl_acc5])"
      ],
      "execution_count": 27,
      "outputs": [
        {
          "output_type": "execute_result",
          "data": {
            "text/plain": [
              "0.9503259204670484"
            ]
          },
          "metadata": {},
          "execution_count": 27
        }
      ]
    },
    {
      "cell_type": "code",
      "metadata": {
        "colab": {
          "base_uri": "https://localhost:8080/"
        },
        "id": "kWYmwmzV9m3k",
        "outputId": "adb4f296-7b1a-401c-9a6a-313a4bf80f64"
      },
      "source": [
        "import numpy as np\n",
        "fnl_acc3=list(np.load('/content/final_accuracy_last_fold1_1e-4_wn.npy',allow_pickle=True).item().values())[0]\n",
        "fnl_acc5=list(np.load('/content/final_accuracy_last_fold2_1e-4_wn.npy',allow_pickle=True).item().values())[0]\n",
        "fnl_acc4=list(np.load('/content/final_accuracy_last_fold3_1e-4_wn.npy',allow_pickle=True).item().values())[0]\n",
        "fnl_acc2=list(np.load('/content/final_accuracy_last_fold4_1e-4_wn.npy',allow_pickle=True).item().values())[0]\n",
        "fnl_acc1=list(np.load('/content/final_accuracy_last_fold5_1e-4_wn.npy',allow_pickle=True).item().values())[0]\n",
        "np.mean([fnl_acc1,fnl_acc2,fnl_acc3,fnl_acc4,fnl_acc5])"
      ],
      "execution_count": 31,
      "outputs": [
        {
          "output_type": "execute_result",
          "data": {
            "text/plain": [
              "0.950130441843512"
            ]
          },
          "metadata": {},
          "execution_count": 31
        }
      ]
    },
    {
      "cell_type": "code",
      "metadata": {
        "colab": {
          "base_uri": "https://localhost:8080/"
        },
        "id": "Trz9UmOg9qsu",
        "outputId": "c4feb97c-7f2e-4644-d482-1c42519303e0"
      },
      "source": [
        "import numpy as np\n",
        "fnl_acc3=list(np.load('/content/final_accuracy_last_fold1_1e-4_wn.npy',allow_pickle=True).item().values())[0]\n",
        "fnl_acc5=list(np.load('/content/final_accuracy_last_fold2_1e-4_wn.npy',allow_pickle=True).item().values())[0]\n",
        "fnl_acc4=list(np.load('/content/final_accuracy_last_fold3_1e-4_wn.npy',allow_pickle=True).item().values())[0]\n",
        "fnl_acc2=list(np.load('/content/final_accuracy_last_fold4_1e-4_wn.npy',allow_pickle=True).item().values())[0]\n",
        "fnl_acc1=list(np.load('/content/final_accuracy_last_fold5_1e-4_wn.npy',allow_pickle=True).item().values())[0]\n",
        "np.mean([fnl_acc1,fnl_acc2,fnl_acc3,fnl_acc4,fnl_acc5])"
      ],
      "execution_count": 33,
      "outputs": [
        {
          "output_type": "execute_result",
          "data": {
            "text/plain": [
              "0.938633774616976"
            ]
          },
          "metadata": {},
          "execution_count": 33
        }
      ]
    },
    {
      "cell_type": "code",
      "metadata": {
        "colab": {
          "base_uri": "https://localhost:8080/"
        },
        "id": "vf0f66J590gT",
        "outputId": "fdc5b4ea-01f3-4974-e16f-426acd3db163"
      },
      "source": [
        "import numpy as np\n",
        "fnl_acc3=list(np.load('/content/final_accuracy_last_fold1_1e-4_wn.npy',allow_pickle=True).item().values())[0]\n",
        "fnl_acc5=list(np.load('/content/final_accuracy_last_fold2_1e-4_wn.npy',allow_pickle=True).item().values())[0]\n",
        "fnl_acc4=list(np.load('/content/final_accuracy_last_fold3_1e-4_wn.npy',allow_pickle=True).item().values())[0]\n",
        "fnl_acc2=list(np.load('/content/final_accuracy_last_fold4_1e-4_wn.npy',allow_pickle=True).item().values())[0]\n",
        "fnl_acc1=list(np.load('/content/final_accuracy_last_fold5_1e-4_wn.npy',allow_pickle=True).item().values())[0]\n",
        "np.mean([fnl_acc1,fnl_acc2,fnl_acc3,fnl_acc4,fnl_acc5])"
      ],
      "execution_count": 35,
      "outputs": [
        {
          "output_type": "execute_result",
          "data": {
            "text/plain": [
              "0.9585482782251689"
            ]
          },
          "metadata": {},
          "execution_count": 35
        }
      ]
    },
    {
      "cell_type": "code",
      "metadata": {
        "colab": {
          "base_uri": "https://localhost:8080/"
        },
        "id": "0wUh7DuY_l2t",
        "outputId": "9162220f-6aa0-445f-8af1-267c4d944f8e"
      },
      "source": [
        "import numpy as np\n",
        "fnl_acc3=list(np.load('/content/final_accuracy_last_fold1_1e-4_wn.npy',allow_pickle=True).item().values())[0]\n",
        "fnl_acc5=list(np.load('/content/final_accuracy_last_fold2_1e-4_wn.npy',allow_pickle=True).item().values())[0]\n",
        "fnl_acc4=list(np.load('/content/final_accuracy_last_fold3_1e-4_wn.npy',allow_pickle=True).item().values())[0]\n",
        "fnl_acc2=list(np.load('/content/final_accuracy_last_fold4_1e-4_wn.npy',allow_pickle=True).item().values())[0]\n",
        "fnl_acc1=list(np.load('/content/final_accuracy_last_fold5_1e-4_wn.npy',allow_pickle=True).item().values())[0]\n",
        "np.mean([fnl_acc1,fnl_acc2,fnl_acc3,fnl_acc4,fnl_acc5])"
      ],
      "execution_count": 37,
      "outputs": [
        {
          "output_type": "execute_result",
          "data": {
            "text/plain": [
              "0.956026428044917"
            ]
          },
          "metadata": {},
          "execution_count": 37
        }
      ]
    },
    {
      "cell_type": "code",
      "metadata": {
        "colab": {
          "base_uri": "https://localhost:8080/"
        },
        "id": "tUwJ0c-h_rDz",
        "outputId": "cfec60ee-4c58-46ce-a58d-5f80ae63dfbb"
      },
      "source": [
        "import numpy as np\n",
        "fnl_acc3=list(np.load('/content/final_accuracy_last_fold1_1e-4_wn.npy',allow_pickle=True).item().values())[0]\n",
        "fnl_acc5=list(np.load('/content/final_accuracy_last_fold2_1e-4_wn.npy',allow_pickle=True).item().values())[0]\n",
        "fnl_acc4=list(np.load('/content/final_accuracy_last_fold3_1e-4_wn.npy',allow_pickle=True).item().values())[0]\n",
        "fnl_acc2=list(np.load('/content/final_accuracy_last_fold4_1e-4_wn.npy',allow_pickle=True).item().values())[0]\n",
        "fnl_acc1=list(np.load('/content/final_accuracy_last_fold5_1e-4_wn.npy',allow_pickle=True).item().values())[0]\n",
        "np.mean([fnl_acc1,fnl_acc2,fnl_acc3,fnl_acc4,fnl_acc5])"
      ],
      "execution_count": 42,
      "outputs": [
        {
          "output_type": "execute_result",
          "data": {
            "text/plain": [
              "0.95268211626038"
            ]
          },
          "metadata": {},
          "execution_count": 42
        }
      ]
    },
    {
      "cell_type": "code",
      "metadata": {
        "colab": {
          "base_uri": "https://localhost:8080/"
        },
        "id": "-AaMoJ-hAQsU",
        "outputId": "8fdf7811-b104-4467-b300-8556f1db3735"
      },
      "source": [
        "import numpy as np\n",
        "fnl_acc3=list(np.load('/content/final_accuracy_last_fold1_1e-4_wn.npy',allow_pickle=True).item().values())[0]\n",
        "fnl_acc5=list(np.load('/content/final_accuracy_last_fold2_1e-4_wn.npy',allow_pickle=True).item().values())[0]\n",
        "fnl_acc4=list(np.load('/content/final_accuracy_last_fold3_1e-4_wn.npy',allow_pickle=True).item().values())[0]\n",
        "fnl_acc2=list(np.load('/content/final_accuracy_last_fold4_1e-4_wn.npy',allow_pickle=True).item().values())[0]\n",
        "fnl_acc1=list(np.load('/content/final_accuracy_last_fold5_1e-4_wn.npy',allow_pickle=True).item().values())[0]\n",
        "np.mean([fnl_acc1,fnl_acc2,fnl_acc3,fnl_acc4,fnl_acc5])"
      ],
      "execution_count": 44,
      "outputs": [
        {
          "output_type": "execute_result",
          "data": {
            "text/plain": [
              "0.9477548739168826"
            ]
          },
          "metadata": {},
          "execution_count": 44
        }
      ]
    },
    {
      "cell_type": "markdown",
      "metadata": {
        "id": "xWA4JMRyAVyc"
      },
      "source": [
        "BS2"
      ]
    },
    {
      "cell_type": "markdown",
      "metadata": {
        "id": "UrfUgeRWAYLd"
      },
      "source": [
        "BS1"
      ]
    },
    {
      "cell_type": "code",
      "metadata": {
        "colab": {
          "base_uri": "https://localhost:8080/"
        },
        "id": "lQEGdx4WAZWV",
        "outputId": "3510c899-2593-40c8-f210-982e13ca31c9"
      },
      "source": [
        "import numpy as np\n",
        "fnl_acc3=list(np.load('/content/final_accuracy_all_fold3_final_CBAM_bs1.npy',allow_pickle=True).item().values())[0]\n",
        "fnl_acc5=list(np.load('/content/final_accuracy_all_fold5_final_CBAM_bs1.npy',allow_pickle=True).item().values())[0]\n",
        "fnl_acc4=list(np.load('/content/final_accuracy_all_fold4_final_CBAM_bs1.npy',allow_pickle=True).item().values())[0]\n",
        "fnl_acc2=list(np.load('/content/final_accuracy_all_fold2_final_CBAM_bs1.npy',allow_pickle=True).item().values())[0]\n",
        "fnl_acc1=list(np.load('/content/final_accuracy_all_fold1_final_CBAM_bs1.npy',allow_pickle=True).item().values())[0]\n",
        "np.mean([fnl_acc1,fnl_acc2,fnl_acc3,fnl_acc4,fnl_acc5])"
      ],
      "execution_count": 47,
      "outputs": [
        {
          "output_type": "execute_result",
          "data": {
            "text/plain": [
              "0.5387453874538746"
            ]
          },
          "metadata": {},
          "execution_count": 47
        }
      ]
    },
    {
      "cell_type": "code",
      "metadata": {
        "colab": {
          "base_uri": "https://localhost:8080/"
        },
        "id": "Zy3hePBJAofs",
        "outputId": "04630627-72a0-446c-96a7-433b6b0b9703"
      },
      "source": [
        "import numpy as np\n",
        "fnl_acc3=list(np.load('/content/final_accuracy_all_fold1_final_CBAM_reduced_bs1.npy',allow_pickle=True).item().values())[0]\n",
        "# fnl_acc5=list(np.load('/content/final_accuracy_all_fold5_final_CBAM_reduced_bs1.npy',allow_pickle=True).item().values())[0]\n",
        "# fnl_acc4=list(np.load('/content/final_accuracy_all_fold4_final_CBAM_reduced_bs1.npy',allow_pickle=True).item().values())[0]\n",
        "fnl_acc2=list(np.load('/content/final_accuracy_all_fold2_final_CBAM_reduced_bs1.npy',allow_pickle=True).item().values())[0]\n",
        "fnl_acc1=list(np.load('/content/final_accuracy_all_fold1_final_CBAM_reduced_bs1.npy',allow_pickle=True).item().values())[0]\n",
        "np.mean([fnl_acc1,fnl_acc2,fnl_acc3])"
      ],
      "execution_count": 51,
      "outputs": [
        {
          "output_type": "execute_result",
          "data": {
            "text/plain": [
              "0.6531365313653137"
            ]
          },
          "metadata": {},
          "execution_count": 51
        }
      ]
    },
    {
      "cell_type": "code",
      "metadata": {
        "colab": {
          "base_uri": "https://localhost:8080/"
        },
        "id": "IXQk54SAA3RQ",
        "outputId": "501d3307-0fdb-4ae4-84ee-49399ff04f35"
      },
      "source": [
        "import numpy as np\n",
        "fnl_acc3=list(np.load('/content/final_accuracy_all_fold3_final_spatial_bs1.npy',allow_pickle=True).item().values())[0]\n",
        "fnl_acc5=list(np.load('/content/final_accuracy_all_fold5_final_spatial_bs1.npy',allow_pickle=True).item().values())[0]\n",
        "fnl_acc4=list(np.load('/content/final_accuracy_all_fold4_final_spatial_bs1.npy',allow_pickle=True).item().values())[0]\n",
        "fnl_acc2=list(np.load('/content/final_accuracy_all_fold2_final_spatial_bs1.npy',allow_pickle=True).item().values())[0]\n",
        "fnl_acc1=list(np.load('/content/final_accuracy_all_fold1_final_spatial_bs1.npy',allow_pickle=True).item().values())[0]\n",
        "np.mean([fnl_acc1,fnl_acc2,fnl_acc3,fnl_acc4,fnl_acc5])"
      ],
      "execution_count": 53,
      "outputs": [
        {
          "output_type": "execute_result",
          "data": {
            "text/plain": [
              "0.8070692194403535"
            ]
          },
          "metadata": {},
          "execution_count": 53
        }
      ]
    },
    {
      "cell_type": "code",
      "metadata": {
        "colab": {
          "base_uri": "https://localhost:8080/"
        },
        "id": "G-hGDjPrBC79",
        "outputId": "2bb0119d-eb52-4c21-bc86-1a4732336399"
      },
      "source": [
        "import numpy as np\n",
        "fnl_acc3=list(np.load('/content/final_accuracy_all_fold3_final_concatenate_softmax_bs1.npy',allow_pickle=True).item().values())[0]\n",
        "fnl_acc5=list(np.load('/content/final_accuracy_all_fold5_final_concatenate_softmax_bs1.npy',allow_pickle=True).item().values())[0]\n",
        "fnl_acc4=list(np.load('/content/final_accuracy_all_fold4_final_concatenate_softmax_bs1.npy',allow_pickle=True).item().values())[0]\n",
        "fnl_acc2=list(np.load('/content/final_accuracy_all_fold2_final_concatenate_softmax_bs1.npy',allow_pickle=True).item().values())[0]\n",
        "fnl_acc1=list(np.load('/content/final_accuracy_all_fold1_final_concatenate_softmax_bs1.npy',allow_pickle=True).item().values())[0]\n",
        "np.mean([fnl_acc1,fnl_acc2,fnl_acc3,fnl_acc4,fnl_acc5])"
      ],
      "execution_count": 56,
      "outputs": [
        {
          "output_type": "execute_result",
          "data": {
            "text/plain": [
              "0.9261992619926198"
            ]
          },
          "metadata": {},
          "execution_count": 56
        }
      ]
    },
    {
      "cell_type": "code",
      "metadata": {
        "colab": {
          "base_uri": "https://localhost:8080/"
        },
        "id": "xvph_ZG_BUg9",
        "outputId": "a7f706a8-81dd-4dc6-d5b2-5708e4e82f3a"
      },
      "source": [
        "import numpy as np\n",
        "fnl_acc3=list(np.load('/content/final_accuracy_all_fold3_final_gated_bs1.npy',allow_pickle=True).item().values())[0]\n",
        "fnl_acc5=list(np.load('/content/final_accuracy_all_fold5_final_gated_bs1.npy',allow_pickle=True).item().values())[0]\n",
        "fnl_acc4=list(np.load('/content/final_accuracy_all_fold4_final_gated_bs1.npy',allow_pickle=True).item().values())[0]\n",
        "fnl_acc2=list(np.load('/content/final_accuracy_all_fold2_final_gated_bs1.npy',allow_pickle=True).item().values())[0]\n",
        "fnl_acc1=list(np.load('/content/final_accuracy_all_fold1_final_gated_bs1.npy',allow_pickle=True).item().values())[0]\n",
        "np.mean([fnl_acc1,fnl_acc2,fnl_acc3,fnl_acc4,fnl_acc5])"
      ],
      "execution_count": 58,
      "outputs": [
        {
          "output_type": "execute_result",
          "data": {
            "text/plain": [
              "0.8505251206358219"
            ]
          },
          "metadata": {},
          "execution_count": 58
        }
      ]
    },
    {
      "cell_type": "code",
      "metadata": {
        "colab": {
          "base_uri": "https://localhost:8080/"
        },
        "id": "HJH99PitBdvF",
        "outputId": "388cf39c-b9d7-45c0-bbe2-987690e3cc7a"
      },
      "source": [
        "import numpy as np\n",
        "fnl_acc3=list(np.load('/content/final_accuracy_all_fold3_final_gated_reduced_bs1.npy',allow_pickle=True).item().values())[0]\n",
        "fnl_acc5=list(np.load('/content/final_accuracy_all_fold5_final_gated_reduced_bs1.npy',allow_pickle=True).item().values())[0]\n",
        "fnl_acc4=list(np.load('/content/final_accuracy_all_fold4_final_gated_reduced_bs1.npy',allow_pickle=True).item().values())[0]\n",
        "fnl_acc2=list(np.load('/content/final_accuracy_all_fold2_final_gated_reduced_bs1.npy',allow_pickle=True).item().values())[0]\n",
        "fnl_acc1=list(np.load('/content/final_accuracy_all_fold1_final_gated_reduced_bs1.npy',allow_pickle=True).item().values())[0]\n",
        "np.mean([fnl_acc1,fnl_acc2,fnl_acc3,fnl_acc4,fnl_acc5])"
      ],
      "execution_count": 60,
      "outputs": [
        {
          "output_type": "execute_result",
          "data": {
            "text/plain": [
              "0.6254612546125461"
            ]
          },
          "metadata": {},
          "execution_count": 60
        }
      ]
    },
    {
      "cell_type": "code",
      "metadata": {
        "colab": {
          "base_uri": "https://localhost:8080/"
        },
        "id": "n6wDFwi5Bnc9",
        "outputId": "41b41d2f-0a92-4f4d-be94-d4fe4415bcb7"
      },
      "source": [
        "import numpy as np\n",
        "fnl_acc3=list(np.load('/content/final_accuracy_all_fold3_final_spatial_bs1.npy',allow_pickle=True).item().values())[0]\n",
        "fnl_acc5=list(np.load('/content/final_accuracy_all_fold5_final_spatial_bs1.npy',allow_pickle=True).item().values())[0]\n",
        "fnl_acc4=list(np.load('/content/final_accuracy_all_fold4_final_spatial_bs1.npy',allow_pickle=True).item().values())[0]\n",
        "fnl_acc2=list(np.load('/content/final_accuracy_all_fold2_final_spatial_bs1.npy',allow_pickle=True).item().values())[0]\n",
        "fnl_acc1=list(np.load('/content/final_accuracy_all_fold1_final_spatial_bs1.npy',allow_pickle=True).item().values())[0]\n",
        "np.mean([fnl_acc1,fnl_acc2,fnl_acc3,fnl_acc4,fnl_acc5])"
      ],
      "execution_count": 62,
      "outputs": [
        {
          "output_type": "execute_result",
          "data": {
            "text/plain": [
              "0.8118081180811808"
            ]
          },
          "metadata": {},
          "execution_count": 62
        }
      ]
    },
    {
      "cell_type": "code",
      "metadata": {
        "id": "Y6keYSFxjQKv"
      },
      "source": [
        "import os\n",
        "import glob\n",
        "for i in glob.glob('/content/*.npy'):\n",
        "  os.remove(i)"
      ],
      "execution_count": 61,
      "outputs": []
    },
    {
      "cell_type": "code",
      "metadata": {
        "id": "118njO2w3Q_X"
      },
      "source": [
        ""
      ],
      "execution_count": null,
      "outputs": []
    }
  ]
}