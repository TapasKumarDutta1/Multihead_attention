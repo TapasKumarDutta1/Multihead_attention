{
  "nbformat": 4,
  "nbformat_minor": 0,
  "metadata": {
    "colab": {
      "name": "cascade_6.ipynb",
      "provenance": [],
      "machine_shape": "hm",
      "authorship_tag": "ABX9TyOBfUQVlXf6sXl36ioumDJ2",
      "include_colab_link": true
    },
    "kernelspec": {
      "display_name": "Python 3",
      "name": "python3"
    },
    "language_info": {
      "name": "python"
    },
    "accelerator": "GPU"
  },
  "cells": [
    {
      "cell_type": "markdown",
      "metadata": {
        "id": "view-in-github",
        "colab_type": "text"
      },
      "source": [
        "<a href=\"https://colab.research.google.com/github/greyhound101/Multihead_attention/blob/master/cascade_6.ipynb\" target=\"_parent\"><img src=\"https://colab.research.google.com/assets/colab-badge.svg\" alt=\"Open In Colab\"/></a>"
      ]
    },
    {
      "cell_type": "code",
      "metadata": {
        "id": "lydmzYfLyfr-",
        "colab": {
          "base_uri": "https://localhost:8080/"
        },
        "outputId": "2037c94b-5c59-46f1-b740-ceff7c68d2e4"
      },
      "source": [
        "from google.colab import drive\n",
        "drive.mount('/content/gdrive')\n",
        "drive.mount(\"/content/gdrive\", force_remount=True)"
      ],
      "execution_count": 3,
      "outputs": [
        {
          "output_type": "stream",
          "name": "stdout",
          "text": [
            "Mounted at /content/gdrive\n",
            "Mounted at /content/gdrive\n"
          ]
        }
      ]
    },
    {
      "cell_type": "code",
      "metadata": {
        "id": "WuUah2eOoak8",
        "colab": {
          "base_uri": "https://localhost:8080/"
        },
        "outputId": "255daab4-e2be-4fc0-8dab-a2b19110bb8e"
      },
      "source": [
        "!nvidia-smi"
      ],
      "execution_count": 4,
      "outputs": [
        {
          "output_type": "stream",
          "name": "stdout",
          "text": [
            "Fri Oct 15 03:45:55 2021       \n",
            "+-----------------------------------------------------------------------------+\n",
            "| NVIDIA-SMI 470.74       Driver Version: 460.32.03    CUDA Version: 11.2     |\n",
            "|-------------------------------+----------------------+----------------------+\n",
            "| GPU  Name        Persistence-M| Bus-Id        Disp.A | Volatile Uncorr. ECC |\n",
            "| Fan  Temp  Perf  Pwr:Usage/Cap|         Memory-Usage | GPU-Util  Compute M. |\n",
            "|                               |                      |               MIG M. |\n",
            "|===============================+======================+======================|\n",
            "|   0  Tesla P100-PCIE...  Off  | 00000000:00:04.0 Off |                    0 |\n",
            "| N/A   42C    P0    27W / 250W |      0MiB / 16280MiB |      0%      Default |\n",
            "|                               |                      |                  N/A |\n",
            "+-------------------------------+----------------------+----------------------+\n",
            "                                                                               \n",
            "+-----------------------------------------------------------------------------+\n",
            "| Processes:                                                                  |\n",
            "|  GPU   GI   CI        PID   Type   Process name                  GPU Memory |\n",
            "|        ID   ID                                                   Usage      |\n",
            "|=============================================================================|\n",
            "|  No running processes found                                                 |\n",
            "+-----------------------------------------------------------------------------+\n"
          ]
        }
      ]
    },
    {
      "cell_type": "code",
      "metadata": {
        "id": "duWerKQxzCwf",
        "colab": {
          "base_uri": "https://localhost:8080/"
        },
        "outputId": "7b5b2494-6106-413c-fbf2-f0bcfa3df731"
      },
      "source": [
        "!pip install medpy"
      ],
      "execution_count": 5,
      "outputs": [
        {
          "output_type": "stream",
          "name": "stdout",
          "text": [
            "Collecting medpy\n",
            "  Downloading MedPy-0.4.0.tar.gz (151 kB)\n",
            "\u001b[K     |████████████████████████████████| 151 kB 6.9 MB/s \n",
            "\u001b[?25hRequirement already satisfied: scipy>=1.1.0 in /usr/local/lib/python3.7/dist-packages (from medpy) (1.4.1)\n",
            "Requirement already satisfied: numpy>=1.11.0 in /usr/local/lib/python3.7/dist-packages (from medpy) (1.19.5)\n",
            "Collecting SimpleITK>=1.1.0\n",
            "  Downloading SimpleITK-2.1.1-cp37-cp37m-manylinux_2_12_x86_64.manylinux2010_x86_64.whl (48.4 MB)\n",
            "\u001b[K     |████████████████████████████████| 48.4 MB 94.4 MB/s \n",
            "\u001b[?25hBuilding wheels for collected packages: medpy\n",
            "  Building wheel for medpy (setup.py) ... \u001b[?25l\u001b[?25hdone\n",
            "  Created wheel for medpy: filename=MedPy-0.4.0-cp37-cp37m-linux_x86_64.whl size=754474 sha256=5976849975d3c08cc196eadcc9becb0cb83801031ce457c4ae48a58f96967336\n",
            "  Stored in directory: /root/.cache/pip/wheels/b0/57/3a/da1183f22a6afb42e11138daa6a759de233fd977a984333602\n",
            "Successfully built medpy\n",
            "Installing collected packages: SimpleITK, medpy\n",
            "Successfully installed SimpleITK-2.1.1 medpy-0.4.0\n"
          ]
        }
      ]
    },
    {
      "cell_type": "code",
      "metadata": {
        "id": "xlquthswzNNv",
        "colab": {
          "base_uri": "https://localhost:8080/"
        },
        "outputId": "86b9bcbf-fcc3-4238-cf46-4823452674c0"
      },
      "source": [
        "!git clone https://github.com/ZFTurbo/volumentations"
      ],
      "execution_count": 6,
      "outputs": [
        {
          "output_type": "stream",
          "name": "stdout",
          "text": [
            "Cloning into 'volumentations'...\n",
            "remote: Enumerating objects: 36, done.\u001b[K\n",
            "remote: Counting objects: 100% (36/36), done.\u001b[K\n",
            "remote: Compressing objects: 100% (27/27), done.\u001b[K\n",
            "remote: Total 36 (delta 8), reused 32 (delta 7), pack-reused 0\u001b[K\n",
            "Unpacking objects: 100% (36/36), done.\n"
          ]
        }
      ]
    },
    {
      "cell_type": "code",
      "metadata": {
        "id": "9gUW2Ov-3NnM",
        "colab": {
          "base_uri": "https://localhost:8080/"
        },
        "outputId": "0c6aeba7-2011-40a6-81fc-416978588acd"
      },
      "source": [
        "pip install tensorflow-addons"
      ],
      "execution_count": 7,
      "outputs": [
        {
          "output_type": "stream",
          "name": "stdout",
          "text": [
            "Collecting tensorflow-addons\n",
            "  Downloading tensorflow_addons-0.14.0-cp37-cp37m-manylinux_2_12_x86_64.manylinux2010_x86_64.whl (1.1 MB)\n",
            "\u001b[?25l\r\u001b[K     |▎                               | 10 kB 23.2 MB/s eta 0:00:01\r\u001b[K     |▋                               | 20 kB 27.5 MB/s eta 0:00:01\r\u001b[K     |▉                               | 30 kB 20.6 MB/s eta 0:00:01\r\u001b[K     |█▏                              | 40 kB 17.3 MB/s eta 0:00:01\r\u001b[K     |█▌                              | 51 kB 7.3 MB/s eta 0:00:01\r\u001b[K     |█▊                              | 61 kB 8.5 MB/s eta 0:00:01\r\u001b[K     |██                              | 71 kB 7.8 MB/s eta 0:00:01\r\u001b[K     |██▍                             | 81 kB 8.7 MB/s eta 0:00:01\r\u001b[K     |██▋                             | 92 kB 9.6 MB/s eta 0:00:01\r\u001b[K     |███                             | 102 kB 7.1 MB/s eta 0:00:01\r\u001b[K     |███▎                            | 112 kB 7.1 MB/s eta 0:00:01\r\u001b[K     |███▌                            | 122 kB 7.1 MB/s eta 0:00:01\r\u001b[K     |███▉                            | 133 kB 7.1 MB/s eta 0:00:01\r\u001b[K     |████▏                           | 143 kB 7.1 MB/s eta 0:00:01\r\u001b[K     |████▍                           | 153 kB 7.1 MB/s eta 0:00:01\r\u001b[K     |████▊                           | 163 kB 7.1 MB/s eta 0:00:01\r\u001b[K     |█████                           | 174 kB 7.1 MB/s eta 0:00:01\r\u001b[K     |█████▎                          | 184 kB 7.1 MB/s eta 0:00:01\r\u001b[K     |█████▋                          | 194 kB 7.1 MB/s eta 0:00:01\r\u001b[K     |██████                          | 204 kB 7.1 MB/s eta 0:00:01\r\u001b[K     |██████▏                         | 215 kB 7.1 MB/s eta 0:00:01\r\u001b[K     |██████▌                         | 225 kB 7.1 MB/s eta 0:00:01\r\u001b[K     |██████▉                         | 235 kB 7.1 MB/s eta 0:00:01\r\u001b[K     |███████                         | 245 kB 7.1 MB/s eta 0:00:01\r\u001b[K     |███████▍                        | 256 kB 7.1 MB/s eta 0:00:01\r\u001b[K     |███████▊                        | 266 kB 7.1 MB/s eta 0:00:01\r\u001b[K     |████████                        | 276 kB 7.1 MB/s eta 0:00:01\r\u001b[K     |████████▎                       | 286 kB 7.1 MB/s eta 0:00:01\r\u001b[K     |████████▋                       | 296 kB 7.1 MB/s eta 0:00:01\r\u001b[K     |████████▉                       | 307 kB 7.1 MB/s eta 0:00:01\r\u001b[K     |█████████▏                      | 317 kB 7.1 MB/s eta 0:00:01\r\u001b[K     |█████████▌                      | 327 kB 7.1 MB/s eta 0:00:01\r\u001b[K     |█████████▊                      | 337 kB 7.1 MB/s eta 0:00:01\r\u001b[K     |██████████                      | 348 kB 7.1 MB/s eta 0:00:01\r\u001b[K     |██████████▍                     | 358 kB 7.1 MB/s eta 0:00:01\r\u001b[K     |██████████▋                     | 368 kB 7.1 MB/s eta 0:00:01\r\u001b[K     |███████████                     | 378 kB 7.1 MB/s eta 0:00:01\r\u001b[K     |███████████▎                    | 389 kB 7.1 MB/s eta 0:00:01\r\u001b[K     |███████████▌                    | 399 kB 7.1 MB/s eta 0:00:01\r\u001b[K     |███████████▉                    | 409 kB 7.1 MB/s eta 0:00:01\r\u001b[K     |████████████▏                   | 419 kB 7.1 MB/s eta 0:00:01\r\u001b[K     |████████████▍                   | 430 kB 7.1 MB/s eta 0:00:01\r\u001b[K     |████████████▊                   | 440 kB 7.1 MB/s eta 0:00:01\r\u001b[K     |█████████████                   | 450 kB 7.1 MB/s eta 0:00:01\r\u001b[K     |█████████████▎                  | 460 kB 7.1 MB/s eta 0:00:01\r\u001b[K     |█████████████▋                  | 471 kB 7.1 MB/s eta 0:00:01\r\u001b[K     |██████████████                  | 481 kB 7.1 MB/s eta 0:00:01\r\u001b[K     |██████████████▏                 | 491 kB 7.1 MB/s eta 0:00:01\r\u001b[K     |██████████████▌                 | 501 kB 7.1 MB/s eta 0:00:01\r\u001b[K     |██████████████▉                 | 512 kB 7.1 MB/s eta 0:00:01\r\u001b[K     |███████████████                 | 522 kB 7.1 MB/s eta 0:00:01\r\u001b[K     |███████████████▍                | 532 kB 7.1 MB/s eta 0:00:01\r\u001b[K     |███████████████▊                | 542 kB 7.1 MB/s eta 0:00:01\r\u001b[K     |████████████████                | 552 kB 7.1 MB/s eta 0:00:01\r\u001b[K     |████████████████▎               | 563 kB 7.1 MB/s eta 0:00:01\r\u001b[K     |████████████████▋               | 573 kB 7.1 MB/s eta 0:00:01\r\u001b[K     |████████████████▉               | 583 kB 7.1 MB/s eta 0:00:01\r\u001b[K     |█████████████████▏              | 593 kB 7.1 MB/s eta 0:00:01\r\u001b[K     |█████████████████▌              | 604 kB 7.1 MB/s eta 0:00:01\r\u001b[K     |█████████████████▊              | 614 kB 7.1 MB/s eta 0:00:01\r\u001b[K     |██████████████████              | 624 kB 7.1 MB/s eta 0:00:01\r\u001b[K     |██████████████████▍             | 634 kB 7.1 MB/s eta 0:00:01\r\u001b[K     |██████████████████▋             | 645 kB 7.1 MB/s eta 0:00:01\r\u001b[K     |███████████████████             | 655 kB 7.1 MB/s eta 0:00:01\r\u001b[K     |███████████████████▎            | 665 kB 7.1 MB/s eta 0:00:01\r\u001b[K     |███████████████████▌            | 675 kB 7.1 MB/s eta 0:00:01\r\u001b[K     |███████████████████▉            | 686 kB 7.1 MB/s eta 0:00:01\r\u001b[K     |████████████████████▏           | 696 kB 7.1 MB/s eta 0:00:01\r\u001b[K     |████████████████████▍           | 706 kB 7.1 MB/s eta 0:00:01\r\u001b[K     |████████████████████▊           | 716 kB 7.1 MB/s eta 0:00:01\r\u001b[K     |█████████████████████           | 727 kB 7.1 MB/s eta 0:00:01\r\u001b[K     |█████████████████████▎          | 737 kB 7.1 MB/s eta 0:00:01\r\u001b[K     |█████████████████████▋          | 747 kB 7.1 MB/s eta 0:00:01\r\u001b[K     |██████████████████████          | 757 kB 7.1 MB/s eta 0:00:01\r\u001b[K     |██████████████████████▏         | 768 kB 7.1 MB/s eta 0:00:01\r\u001b[K     |██████████████████████▌         | 778 kB 7.1 MB/s eta 0:00:01\r\u001b[K     |██████████████████████▉         | 788 kB 7.1 MB/s eta 0:00:01\r\u001b[K     |███████████████████████         | 798 kB 7.1 MB/s eta 0:00:01\r\u001b[K     |███████████████████████▍        | 808 kB 7.1 MB/s eta 0:00:01\r\u001b[K     |███████████████████████▊        | 819 kB 7.1 MB/s eta 0:00:01\r\u001b[K     |████████████████████████        | 829 kB 7.1 MB/s eta 0:00:01\r\u001b[K     |████████████████████████▎       | 839 kB 7.1 MB/s eta 0:00:01\r\u001b[K     |████████████████████████▋       | 849 kB 7.1 MB/s eta 0:00:01\r\u001b[K     |████████████████████████▉       | 860 kB 7.1 MB/s eta 0:00:01\r\u001b[K     |█████████████████████████▏      | 870 kB 7.1 MB/s eta 0:00:01\r\u001b[K     |█████████████████████████▍      | 880 kB 7.1 MB/s eta 0:00:01\r\u001b[K     |█████████████████████████▊      | 890 kB 7.1 MB/s eta 0:00:01\r\u001b[K     |██████████████████████████      | 901 kB 7.1 MB/s eta 0:00:01\r\u001b[K     |██████████████████████████▎     | 911 kB 7.1 MB/s eta 0:00:01\r\u001b[K     |██████████████████████████▋     | 921 kB 7.1 MB/s eta 0:00:01\r\u001b[K     |███████████████████████████     | 931 kB 7.1 MB/s eta 0:00:01\r\u001b[K     |███████████████████████████▏    | 942 kB 7.1 MB/s eta 0:00:01\r\u001b[K     |███████████████████████████▌    | 952 kB 7.1 MB/s eta 0:00:01\r\u001b[K     |███████████████████████████▉    | 962 kB 7.1 MB/s eta 0:00:01\r\u001b[K     |████████████████████████████    | 972 kB 7.1 MB/s eta 0:00:01\r\u001b[K     |████████████████████████████▍   | 983 kB 7.1 MB/s eta 0:00:01\r\u001b[K     |████████████████████████████▊   | 993 kB 7.1 MB/s eta 0:00:01\r\u001b[K     |█████████████████████████████   | 1.0 MB 7.1 MB/s eta 0:00:01\r\u001b[K     |█████████████████████████████▎  | 1.0 MB 7.1 MB/s eta 0:00:01\r\u001b[K     |█████████████████████████████▋  | 1.0 MB 7.1 MB/s eta 0:00:01\r\u001b[K     |█████████████████████████████▉  | 1.0 MB 7.1 MB/s eta 0:00:01\r\u001b[K     |██████████████████████████████▏ | 1.0 MB 7.1 MB/s eta 0:00:01\r\u001b[K     |██████████████████████████████▌ | 1.1 MB 7.1 MB/s eta 0:00:01\r\u001b[K     |██████████████████████████████▊ | 1.1 MB 7.1 MB/s eta 0:00:01\r\u001b[K     |███████████████████████████████ | 1.1 MB 7.1 MB/s eta 0:00:01\r\u001b[K     |███████████████████████████████▍| 1.1 MB 7.1 MB/s eta 0:00:01\r\u001b[K     |███████████████████████████████▋| 1.1 MB 7.1 MB/s eta 0:00:01\r\u001b[K     |████████████████████████████████| 1.1 MB 7.1 MB/s eta 0:00:01\r\u001b[K     |████████████████████████████████| 1.1 MB 7.1 MB/s \n",
            "\u001b[?25hRequirement already satisfied: typeguard>=2.7 in /usr/local/lib/python3.7/dist-packages (from tensorflow-addons) (2.7.1)\n",
            "Installing collected packages: tensorflow-addons\n",
            "Successfully installed tensorflow-addons-0.14.0\n"
          ]
        }
      ]
    },
    {
      "cell_type": "code",
      "metadata": {
        "id": "hEX9_GixoseR"
      },
      "source": [
        "from zipfile import ZipFile\n",
        "  \n",
        "# specifying the zip file name\n",
        "file_name = \"/content/gdrive/MyDrive/results (7).zip\"\n",
        "  \n",
        "# opening the zip file in READ mode\n",
        "with ZipFile(file_name, 'r') as zip:\n",
        "    zip.extractall()"
      ],
      "execution_count": 8,
      "outputs": []
    },
    {
      "cell_type": "code",
      "metadata": {
        "id": "bECKhlYvo_TD"
      },
      "source": [
        "import numpy as np\n",
        "t1=np.load('/content/train_0.npy')\n",
        "ls=[]\n",
        "for i in t1:\n",
        "  ls.append('/content/'+'/'.join(i.split('/')[-2:]))"
      ],
      "execution_count": 9,
      "outputs": []
    },
    {
      "cell_type": "code",
      "metadata": {
        "id": "iA9fe9X2zN9h"
      },
      "source": [
        "from zipfile import ZipFile\n",
        "  \n",
        "# specifying the zip file name\n",
        "file_name = \"/content/gdrive/MyDrive/BraTS2020_TrainingData.zip\"\n",
        "  \n",
        "# opening the zip file in READ mode\n",
        "with ZipFile(file_name, 'r') as zip:\n",
        "    zip.extractall()"
      ],
      "execution_count": 10,
      "outputs": []
    },
    {
      "cell_type": "code",
      "metadata": {
        "id": "bax1_f4PztNo"
      },
      "source": [
        "file_name = \"/content/gdrive/MyDrive/BraTS2020_ValidationData.zip\"\n",
        "with ZipFile(file_name, 'r') as zip:\n",
        "    zip.extractall()"
      ],
      "execution_count": 11,
      "outputs": []
    },
    {
      "cell_type": "code",
      "metadata": {
        "id": "y0AMf0lKz334"
      },
      "source": [
        "from medpy.io import load, save\n",
        "from volumentations.volumentations import RandomCrop\n",
        "from volumentations.volumentations import *\n",
        "import tensorflow as tf\n",
        "import glob\n",
        "class DataGenerator(tf.keras.utils.Sequence):\n",
        "  def __init__(self, images,batch_size=1):\n",
        "    self.images = images        # array of image paths\n",
        "    self.aug = Compose([\n",
        "        RandomScale(p=1),\n",
        "        RandomCrop((16,16,16), p=1),\n",
        "        Flip(axis=0,p=0.5),\n",
        "        Flip(axis=1,p=0.5),\n",
        "        Flip(axis=2,p=0.5)\n",
        "    ], p=1.0)\n",
        "    self.on_epoch_end()\n",
        "    self.batch_size=batch_size\n",
        "\n",
        "  def __len__(self):\n",
        "    return int(np.floor(len(self.images) / self.batch_size))\n",
        "\n",
        "  def on_epoch_end(self):\n",
        "    self.indexes = np.arange(len(self.images))\n",
        "\n",
        "  def std(self,img):\n",
        "    mn=np.mean(img)\n",
        "    std=np.std(img)\n",
        "    img=(img-mn)/std\n",
        "    return img\n",
        "\n",
        "  def augmentation(self,img,label):\n",
        "    data = {'image': img, 'mask': label}\n",
        "    data = self.aug(**data)\n",
        "    img1,label1=data['image'],data['mask']\n",
        "    return img1,label1\n",
        "\n",
        "  def __getitem__(self, index):\n",
        "    name=self.images[index].split('/')[-1]\n",
        "    if self.images[index]+'/'+name+'_seg.nii'!='/content/MICCAI_BraTS2020_TrainingData/BraTS20_Training_355/BraTS20_Training_355_seg.nii':\n",
        "      a=load(self.images[index]+'/'+name+'_seg.nii')[0]\n",
        "    else:\n",
        "      a=load('/content/MICCAI_BraTS2020_TrainingData/BraTS20_Training_355/W39_1998.09.19_Segm.nii')[0]\n",
        "    path=self.images[index]+'/'+name\n",
        "    b=a.copy()\n",
        "    c=a.copy()\n",
        "    d=a.copy()\n",
        "    \n",
        "    b[b!=1]=0\n",
        "    c[c!=2]=0\n",
        "    d[d!=4]=0\n",
        "    \n",
        "    c[c!=0]=1\n",
        "    d[d!=0]=1\n",
        "    \n",
        "    img1=load(path+'_t1.nii')[0]\n",
        "    img2=load(path+'_t2.nii')[0]\n",
        "    img3=load(path+'_t1ce.nii')[0]\n",
        "    img4=load(path+'_flair.nii')[0]\n",
        "    \n",
        "    img,seg=self.augmentation(self.std(np.stack([img1,img2,img3,img4],-1)),np.stack([b,c,d],-1))\n",
        "    seg=np.expand_dims(seg,0)\n",
        "    return np.expand_dims(img,0),[seg,seg,seg]\n",
        "train=DataGenerator(ls)"
      ],
      "execution_count": 12,
      "outputs": []
    },
    {
      "cell_type": "code",
      "metadata": {
        "id": "5Ko5Ld0321vX"
      },
      "source": [
        "from tensorflow.keras.layers  import *\n",
        "from tensorflow_addons.layers import *\n",
        "from tensorflow.keras.models import *\n",
        "def block(x,l):\n",
        "    x=GroupNormalization(8)(x)\n",
        "    x=ReLU()(x)\n",
        "    x = Conv3D(l,(3,3,3),padding='same')(x)\n",
        "    return x\n",
        "def create_model():\n",
        "    img_input = Input(batch_shape=(None,16,16,16,4))\n",
        "\n",
        "    x = Conv3D(16,(3,3,3),padding='same')(img_input)\n",
        "    a = SpatialDropout3D(0.2)(x)\n",
        "\n",
        "    x = block(a,16)\n",
        "    x = block(x,16)\n",
        "\n",
        "    b = Conv3D(32,(2,2,2),strides=(2,2,2))(x)\n",
        "\n",
        "    x = block(b,32)\n",
        "    x = block(x,32)\n",
        "\n",
        "\n",
        "    c = Conv3D(64,(2,2,2),strides=(2,2,2))(x)\n",
        "\n",
        "    x = block(c,64)\n",
        "    x = block(x,64)\n",
        "\n",
        "    d = Conv3D(128,(2,2,2),strides=(2,2,2))(x)\n",
        "\n",
        "    x = block(d,128)\n",
        "    x = block(x,128)\n",
        "\n",
        "    x = Conv3D(64,(1,1,1))(x)\n",
        "    x = Conv3DTranspose(64, (2,2,2), strides=(2,2,2))(x)\n",
        "    x = Add()([x,c])\n",
        "\n",
        "    x = block(x,64)\n",
        "    x = block(x,64)\n",
        "\n",
        "    x = Conv3D(32,(1,1,1))(x)\n",
        "    x = Conv3DTranspose(32, (2,2,2), strides=(2,2,2))(x)\n",
        "    x = Add()([x,b])\n",
        "\n",
        "    x = block(x,32)\n",
        "    x = block(x,32)\n",
        "\n",
        "    x = Conv3D(16,(1,1,1))(x)\n",
        "    x = Conv3DTranspose(16, (2,2,2), strides=(2,2,2))(x)\n",
        "    x = Add()([x,a])\n",
        "\n",
        "    x = block(x,16)\n",
        "    x = block(x,16)\n",
        "\n",
        "    x_mid = Conv3D(3,(1,1,1),activation='sigmoid')(x)\n",
        "\n",
        "    x = Concatenate()([x_mid,img_input])\n",
        "\n",
        "    x = Conv3D(32,(3,3,3),padding='same')(x)\n",
        "    a = SpatialDropout3D(0.2)(x)\n",
        "\n",
        "    x = block(a,32)\n",
        "    x = block(x,32)\n",
        "\n",
        "    b = Conv3D(64,(2,2,2),strides=(2,2,2))(x)\n",
        "\n",
        "    x = block(b,64)\n",
        "    x = block(x,64)\n",
        "\n",
        "\n",
        "    c = Conv3D(128,(2,2,2),strides=(2,2,2))(x)\n",
        "\n",
        "    x = block(c,128)\n",
        "    x = block(x,128)\n",
        "\n",
        "    d = Conv3D(256,(2,2,2),strides=(2,2,2))(x)\n",
        "\n",
        "    x = block(d,256)\n",
        "    enc = block(x,256)\n",
        "\n",
        "    x = Conv3D(128,(1,1,1))(enc)\n",
        "    x = Conv3DTranspose(128, (2,2,2), strides=(2,2,2))(x)\n",
        "    x = Add()([x,c])\n",
        "\n",
        "    x = block(x,128)\n",
        "    x = block(x,128)\n",
        "\n",
        "    x = Conv3D(64,(1,1,1))(x)\n",
        "    x = Conv3DTranspose(64, (2,2,2), strides=(2,2,2))(x)\n",
        "    x = Add()([x,b])\n",
        "\n",
        "    x = block(x,64)\n",
        "    x = block(x,64)\n",
        "\n",
        "    x = Conv3D(32,(1,1,1))(x)\n",
        "    x = Conv3DTranspose(32, (2,2,2), strides=(2,2,2))(x)\n",
        "    x = Add()([x,a])\n",
        "\n",
        "    x = block(x,32)\n",
        "    x = block(x,32)\n",
        "\n",
        "    x_ct = Conv3D(3,(1,1,1),activation='sigmoid')(x)\n",
        "\n",
        "\n",
        "    x = Conv3D(128,(1,1,1))(enc)\n",
        "    x = UpSampling3D(size=(2,2,2))(x)\n",
        "    x = Add()([x,c])\n",
        "\n",
        "    x = block(x,128)\n",
        "    x = block(x,128)\n",
        "\n",
        "    x = Conv3D(64,(1,1,1))(x)\n",
        "    x = UpSampling3D(size=(2,2,2))(x)\n",
        "    x = Add()([x,b])\n",
        "\n",
        "    x = block(x,64)\n",
        "    x = block(x,64)\n",
        "\n",
        "    x = Conv3D(32,(1,1,1))(x)\n",
        "    x = UpSampling3D(size=(2,2,2))(x)\n",
        "    x = Add()([x,a])\n",
        "\n",
        "    x = block(x,32)\n",
        "    x = block(x,32)\n",
        "\n",
        "    x_ups = Conv3D(3,(1,1,1),activation='sigmoid')(x)\n",
        "\n",
        "\n",
        "    mod=Model(inputs=[img_input],outputs=[x_mid,x_ct,x_ups])\n",
        "    return mod"
      ],
      "execution_count": 13,
      "outputs": []
    },
    {
      "cell_type": "code",
      "metadata": {
        "colab": {
          "base_uri": "https://localhost:8080/"
        },
        "id": "RB-OcnaujJgo",
        "outputId": "c2591a85-8a4d-4de9-ed81-84fe049d287b"
      },
      "source": [
        "from tensorflow.keras.optimizers import *\n",
        "import glob\n",
        "mod=create_model()\n",
        "a=np.load('/content/gdrive/MyDrive/weights_e5.npy',allow_pickle=True)\n",
        "mod.set_weights(a)\n",
        "mod.compile(optimizer=Adam(9.99990000099999e-05),loss='bce')\n",
        "mod.fit_generator(train,steps_per_epoch=1,epochs=1)\n",
        "mod.optimizer.set_weights(np.load('/content/gdrive/MyDrive/opt_weights_e5.npy',allow_pickle=True))\n",
        "mod.fit_generator(train,workers=8,epochs=1)"
      ],
      "execution_count": 14,
      "outputs": [
        {
          "output_type": "stream",
          "name": "stderr",
          "text": [
            "/usr/local/lib/python3.7/dist-packages/keras/engine/training.py:1972: UserWarning: `Model.fit_generator` is deprecated and will be removed in a future version. Please use `Model.fit`, which supports generators.\n",
            "  warnings.warn('`Model.fit_generator` is deprecated and '\n"
          ]
        },
        {
          "output_type": "stream",
          "name": "stdout",
          "text": [
            "1/1 [==============================] - 91s 91s/step - loss: 0.0456 - conv3d_21_loss: 0.0165 - conv3d_43_loss: 0.0144 - conv3d_53_loss: 0.0146\n",
            "295/295 [==============================] - 11280s 38s/step - loss: 0.0539 - conv3d_21_loss: 0.0193 - conv3d_43_loss: 0.0176 - conv3d_53_loss: 0.0170\n"
          ]
        },
        {
          "output_type": "execute_result",
          "data": {
            "text/plain": [
              "<keras.callbacks.History at 0x7f1a1041efd0>"
            ]
          },
          "metadata": {},
          "execution_count": 14
        }
      ]
    },
    {
      "cell_type": "code",
      "metadata": {
        "id": "p8AeOh36UxM2",
        "colab": {
          "base_uri": "https://localhost:8080/"
        },
        "outputId": "5a921f98-68d5-436e-aa7d-546f43fc0f95"
      },
      "source": [
        "np.save('/content/gdrive/MyDrive/opt_weights_e6.npy',mod.optimizer.get_weights())\n",
        "np.save('/content/gdrive/MyDrive/weights_e6.npy',mod.get_weights())"
      ],
      "execution_count": 15,
      "outputs": [
        {
          "output_type": "stream",
          "name": "stderr",
          "text": [
            "/usr/local/lib/python3.7/dist-packages/numpy/core/_asarray.py:136: VisibleDeprecationWarning: Creating an ndarray from ragged nested sequences (which is a list-or-tuple of lists-or-tuples-or ndarrays with different lengths or shapes) is deprecated. If you meant to do this, you must specify 'dtype=object' when creating the ndarray\n",
            "  return array(a, dtype, copy=False, order=order, subok=True)\n"
          ]
        }
      ]
    },
    {
      "cell_type": "code",
      "metadata": {
        "id": "oZglGBvvn28q"
      },
      "source": [
        ""
      ],
      "execution_count": 15,
      "outputs": []
    }
  ]
}