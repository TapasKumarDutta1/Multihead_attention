{
  "nbformat": 4,
  "nbformat_minor": 0,
  "metadata": {
    "colab": {
      "name": "fold_3_final.ipynb",
      "provenance": [],
      "include_colab_link": true
    },
    "kernelspec": {
      "name": "python3",
      "display_name": "Python 3"
    },
    "accelerator": "GPU"
  },
  "cells": [
    {
      "cell_type": "markdown",
      "metadata": {
        "id": "view-in-github",
        "colab_type": "text"
      },
      "source": [
        "<a href=\"https://colab.research.google.com/github/greyhound101/data/blob/master/fold_3_final.ipynb\" target=\"_parent\"><img src=\"https://colab.research.google.com/assets/colab-badge.svg\" alt=\"Open In Colab\"/></a>"
      ]
    },
    {
      "cell_type": "code",
      "metadata": {
        "id": "f-QYgRhGfGLZ",
        "colab_type": "code",
        "colab": {
          "base_uri": "https://localhost:8080/",
          "height": 54
        },
        "outputId": "ec3871b9-ba07-4b59-da52-d731a9e8d0d6"
      },
      "source": [
        "from google.colab import drive\n",
        "drive.mount('/content/gdrive')\n",
        "drive.mount(\"/content/gdrive\", force_remount=True)"
      ],
      "execution_count": null,
      "outputs": [
        {
          "output_type": "stream",
          "text": [
            "Drive already mounted at /content/gdrive; to attempt to forcibly remount, call drive.mount(\"/content/gdrive\", force_remount=True).\n",
            "Mounted at /content/gdrive\n"
          ],
          "name": "stdout"
        }
      ]
    },
    {
      "cell_type": "code",
      "metadata": {
        "id": "CPJzX5fywOe6",
        "colab_type": "code",
        "colab": {
          "base_uri": "https://localhost:8080/",
          "height": 36
        },
        "outputId": "0a74af4f-9ab1-436b-f9e0-8c4dea746413"
      },
      "source": [
        "\n",
        "from keras.optimizers import *\n",
        "import cv2\n",
        "from keras.utils import to_categorical\n",
        "from matplotlib import pyplot as plt\n",
        "import glob, os\n",
        "from matplotlib import pyplot as plt\n",
        "import h5py\n",
        "from sklearn.metrics import accuracy_score\n",
        "import numpy as np\n",
        "from tqdm import tqdm\n",
        "import time\n",
        "import gc\n",
        "from keras.applications import *\n",
        "from keras.layers import *\n",
        "from keras import backend as K\n",
        "from keras.models import Model\n",
        "import keras\n",
        "import pandas as pd\n",
        "from keras.applications.nasnet import NASNetMobile, preprocess_input\n",
        "import imgaug as ia\n",
        "from imgaug import augmenters as iaa\n",
        "import h5py\n",
        "from keras.optimizers import Adam\n",
        "import cv2\n",
        "from keras.utils import to_categorical\n",
        "from matplotlib import pyplot as plt\n",
        "import glob, os\n",
        "from matplotlib import pyplot as plt\n",
        "import h5py\n",
        "from sklearn.metrics import accuracy_score\n",
        "import numpy as np\n",
        "from tqdm import tqdm\n",
        "import time\n",
        "import gc\n",
        "from keras.applications import *\n",
        "from keras.layers import *\n",
        "from keras import backend as K\n",
        "from keras.models import Model\n"
      ],
      "execution_count": null,
      "outputs": [
        {
          "output_type": "stream",
          "text": [
            "Using TensorFlow backend.\n"
          ],
          "name": "stderr"
        }
      ]
    },
    {
      "cell_type": "code",
      "metadata": {
        "id": "sC8imWIHxEHM",
        "colab_type": "code",
        "colab": {}
      },
      "source": [
        "path = F\"/content/gdrive/My Drive/check.npy\" \n",
        "df=np.load(path,allow_pickle=True)\n",
        "df=df.item()"
      ],
      "execution_count": null,
      "outputs": []
    },
    {
      "cell_type": "code",
      "metadata": {
        "id": "T7IAfQuywQmu",
        "colab_type": "code",
        "colab": {}
      },
      "source": [
        "\n",
        "#shuffle samples\n",
        "def unison_shuffled_copies(a, b):\n",
        "    assert len(a) == len(b)\n",
        "    p = np.random.permutation(len(a))\n",
        "    return a[p], b[p]\n",
        "\n",
        "\n",
        "\n",
        "#change targets\n",
        "def change(img):\n",
        "    resized = cv2.resize(img, (299,299), interpolation = cv2.INTER_AREA )\n",
        "    return resized\n",
        "\n",
        "\n",
        "\n",
        "\n",
        "#get train and test splits\n",
        "def get_trn_tst(df,tst_fold):\n",
        "  dimension=224\n",
        "  idx=np.asarray(df['fold'])\n",
        "  y=np.asarray(df['label'])\n",
        "  y-=1\n",
        "  img=np.asarray(df['image'])\n",
        "  img1=[]\n",
        "  img1=np.asarray(img)\n",
        "  del([img])\n",
        "  gc.collect()\n",
        "  trn_y=np.asarray(y[(idx!=tst_fold)])\n",
        "  trn_img=np.asarray(img1[(idx!=tst_fold)])\n",
        "  tst_y=np.asarray(y[(idx==tst_fold)])\n",
        "  tst_img=img1[idx==tst_fold]\n",
        "  trn_img=np.repeat(trn_img.reshape((trn_img.shape[0],dimension,dimension,1)),1,axis=3)\n",
        "  tst_img=np.repeat(tst_img.reshape((tst_img.shape[0],dimension,dimension,1)),1,axis=3)\n",
        "  return (trn_img.copy(),trn_y.copy()),(tst_img.copy(),tst_y.copy())\n",
        "\n"
      ],
      "execution_count": null,
      "outputs": []
    },
    {
      "cell_type": "code",
      "metadata": {
        "id": "RNW0pskZwcEI",
        "colab_type": "code",
        "colab": {}
      },
      "source": [
        "def load_model(last=True):   \n",
        "  inp=Input((224,224,1,))\n",
        "  x=Convolution2D(8,(7,7),activation='relu')(inp)\n",
        "  x=BatchNormalization()(x)\n",
        "  x=MaxPooling2D(2,2)(x)\n",
        "  x=Convolution2D(32,(5,5),activation='relu')(x)\n",
        "  x=BatchNormalization()(x)\n",
        "  x=MaxPooling2D(2,2)(x)\n",
        "  x=Convolution2D(64,(5,5),activation='relu')(x)\n",
        "  x=BatchNormalization()(x)\n",
        "  x=MaxPooling2D(2,2)(x)\n",
        "  x=Convolution2D(128,(5,5),activation='relu')(x)\n",
        "  x=BatchNormalization()(x)\n",
        "  x=MaxPooling2D(2,2)(x)\n",
        "  x=Convolution2D(256,(5,5),activation='relu')(x)\n",
        "  x=BatchNormalization()(x)\n",
        "  x=MaxPooling2D(2,2)(x)\n",
        "  x=GlobalAveragePooling2D()(x)\n",
        "  x=Reshape((1,1,256))(x)\n",
        "  x=Flatten()(x)\n",
        "  x=Dense(512,activation='sigmoid')(x)\n",
        "  x=Dropout(0.5)(x)\n",
        "  x=Dense(3,activation='softmax')(x)\n",
        "  model=Model(inputs=inp,outputs=x)\n",
        "  return model"
      ],
      "execution_count": null,
      "outputs": []
    },
    {
      "cell_type": "code",
      "metadata": {
        "id": "EIQSvrhBwdnu",
        "colab_type": "code",
        "colab": {
          "base_uri": "https://localhost:8080/",
          "height": 989
        },
        "outputId": "9d80c155-9ff6-49bf-a977-a860bef088f6"
      },
      "source": [
        "mod=load_model()\n",
        "mod.summary()"
      ],
      "execution_count": null,
      "outputs": [
        {
          "output_type": "stream",
          "text": [
            "Model: \"model_1\"\n",
            "_________________________________________________________________\n",
            "Layer (type)                 Output Shape              Param #   \n",
            "=================================================================\n",
            "input_1 (InputLayer)         (None, 224, 224, 1)       0         \n",
            "_________________________________________________________________\n",
            "conv2d_1 (Conv2D)            (None, 218, 218, 8)       400       \n",
            "_________________________________________________________________\n",
            "batch_normalization_1 (Batch (None, 218, 218, 8)       32        \n",
            "_________________________________________________________________\n",
            "max_pooling2d_1 (MaxPooling2 (None, 109, 109, 8)       0         \n",
            "_________________________________________________________________\n",
            "conv2d_2 (Conv2D)            (None, 105, 105, 32)      6432      \n",
            "_________________________________________________________________\n",
            "batch_normalization_2 (Batch (None, 105, 105, 32)      128       \n",
            "_________________________________________________________________\n",
            "max_pooling2d_2 (MaxPooling2 (None, 52, 52, 32)        0         \n",
            "_________________________________________________________________\n",
            "conv2d_3 (Conv2D)            (None, 48, 48, 64)        51264     \n",
            "_________________________________________________________________\n",
            "batch_normalization_3 (Batch (None, 48, 48, 64)        256       \n",
            "_________________________________________________________________\n",
            "max_pooling2d_3 (MaxPooling2 (None, 24, 24, 64)        0         \n",
            "_________________________________________________________________\n",
            "conv2d_4 (Conv2D)            (None, 20, 20, 128)       204928    \n",
            "_________________________________________________________________\n",
            "batch_normalization_4 (Batch (None, 20, 20, 128)       512       \n",
            "_________________________________________________________________\n",
            "max_pooling2d_4 (MaxPooling2 (None, 10, 10, 128)       0         \n",
            "_________________________________________________________________\n",
            "conv2d_5 (Conv2D)            (None, 6, 6, 256)         819456    \n",
            "_________________________________________________________________\n",
            "batch_normalization_5 (Batch (None, 6, 6, 256)         1024      \n",
            "_________________________________________________________________\n",
            "max_pooling2d_5 (MaxPooling2 (None, 3, 3, 256)         0         \n",
            "_________________________________________________________________\n",
            "global_average_pooling2d_1 ( (None, 256)               0         \n",
            "_________________________________________________________________\n",
            "reshape_1 (Reshape)          (None, 1, 1, 256)         0         \n",
            "_________________________________________________________________\n",
            "flatten_1 (Flatten)          (None, 256)               0         \n",
            "_________________________________________________________________\n",
            "dense_1 (Dense)              (None, 512)               131584    \n",
            "_________________________________________________________________\n",
            "dropout_1 (Dropout)          (None, 512)               0         \n",
            "_________________________________________________________________\n",
            "dense_2 (Dense)              (None, 3)                 1539      \n",
            "=================================================================\n",
            "Total params: 1,217,555\n",
            "Trainable params: 1,216,579\n",
            "Non-trainable params: 976\n",
            "_________________________________________________________________\n"
          ],
          "name": "stdout"
        }
      ]
    },
    {
      "cell_type": "code",
      "metadata": {
        "id": "FWXwzoslwfCL",
        "colab_type": "code",
        "colab": {}
      },
      "source": [
        "import keras\n",
        "import pandas as pd\n",
        "from keras.applications.nasnet import NASNetMobile, preprocess_input\n",
        "import imgaug as ia\n",
        "from imgaug import augmenters as iaa\n",
        "def rotate_image(image, angle):\n",
        "  image_center = tuple(np.array(image.shape[1::-1]) / 2)\n",
        "  rot_mat = cv2.getRotationMatrix2D(image_center, angle, 1.0)\n",
        "  result = cv2.warpAffine(image, rot_mat, image.shape[1::-1], flags=cv2.INTER_LINEAR)\n",
        "  return result\n",
        "def Hflip( images):\n",
        "\t\tseq = iaa.Sequential([iaa.Fliplr(1.0)])\n",
        "\t\treturn seq.augment_images(images)\n",
        "def Vflip( images):\n",
        "\t\tseq = iaa.Sequential([iaa.Flipud(1.0)])\n",
        "\t\treturn seq.augment_images(images)\n",
        "def noise(images):\n",
        "    ls=[]\n",
        "    for i in images:\n",
        "        x = np.random.normal(loc=0, scale=0.05, size=(dimension,dimension,3))\n",
        "        ls.append(i+x)\n",
        "    return ls\n",
        "def rotate(images):\n",
        "    ls=[]\n",
        "    for angle in range(-15,20,5):\n",
        "        for image in images:\n",
        "            ls.append(rotate_image(image,angle).reshape((224,224,1)))\n",
        "    return ls\n",
        "\n",
        "class DataGenerator(keras.utils.Sequence):\n",
        "  def __init__(self, images, labels, batch_size=64, image_dimensions = (96 ,96 ,3), shuffle=False, augment=False):\n",
        "    self.labels       = labels              # array of labels\n",
        "    self.images = images        # array of image paths\n",
        "    self.batch_size   = batch_size          # batch size\n",
        "    self.on_epoch_end()\n",
        "\n",
        "  def __len__(self):\n",
        "    return int(np.floor(self.labels.shape[0] / self.batch_size))\n",
        "\n",
        "  def on_epoch_end(self):\n",
        "    self.indexes = np.arange(self.labels.shape[0])\n",
        "\n",
        "  def __getitem__(self, index):\n",
        "\t\t# selects indices of data for next batch\n",
        "    indexes = self.indexes[index * self.batch_size : (index + 1) * self.batch_size]\n",
        "    # select data and load images\n",
        "    labels = self.labels.loc[indexes]\n",
        "    img = [self.images[k].astype(np.float32) for k in indexes]\n",
        "    imgH=Hflip(img)\n",
        "    imgV=Vflip(img)\n",
        "    imgR=rotate(img)\n",
        "    images=[]\n",
        "    images.extend(imgH)\n",
        "    images.extend(imgV)\n",
        "    images.extend(imgR)\n",
        "    lbl=labels.copy()\n",
        "    labels=pd.DataFrame()\n",
        "    labels=pd.concat([labels,lbl],0)\n",
        "    labels=pd.concat([labels,lbl],0)\n",
        "    labels=pd.concat([labels,lbl],0)\n",
        "    labels=pd.concat([labels,lbl],0)\n",
        "    labels=pd.concat([labels,lbl],0)\n",
        "    labels=pd.concat([labels,lbl],0)\n",
        "    labels=pd.concat([labels,lbl],0)\n",
        "    labels=pd.concat([labels,lbl],0)\n",
        "    labels=pd.concat([labels,lbl],0)\n",
        "    img=np.asarray(images)\n",
        "    #images = np.array([preprocess_input(img) for img in images])\n",
        "    return img, labels"
      ],
      "execution_count": null,
      "outputs": []
    },
    {
      "cell_type": "code",
      "metadata": {
        "id": "OC-Dm3ulwgVN",
        "colab_type": "code",
        "colab": {}
      },
      "source": [
        "\n",
        "\n",
        "best_accuracy_last={}\n",
        "final_accuracy_last={}\n",
        "history_last={}\n",
        "answers_last={}\n",
        "predictions_last={}\n",
        "predictions_last_best={}\n",
        "times_last={}\n",
        "\n"
      ],
      "execution_count": null,
      "outputs": []
    },
    {
      "cell_type": "code",
      "metadata": {
        "id": "NvsVb2H2whrN",
        "colab_type": "code",
        "colab": {
          "base_uri": "https://localhost:8080/",
          "height": 1000
        },
        "outputId": "1be04ede-9775-47c2-b4d3-1ff54c2923c2"
      },
      "source": [
        "  def upd(dk,data):\n",
        "    if dk==0:\n",
        "        dk=data\n",
        "    else:\n",
        "        for ky in data.keys():\n",
        "            dk[ky].extend(data[ky])\n",
        "    return dk\n",
        "  index=3\n",
        "  epoch=75\n",
        "  pre_acc=0\n",
        "  best=0\n",
        "  fold='fold_'+str(index)\n",
        "  trn,tst=get_trn_tst(df,index)\n",
        "  history_last[fold]=0\n",
        "\n",
        "\n",
        "\n",
        "\n",
        "  trn_x,trn_y=unison_shuffled_copies(trn[0],trn[1])\n",
        "  tst_x,tst_y=unison_shuffled_copies(tst[0],tst[1])\n",
        "\n",
        "\n",
        "\n",
        "  model=load_model(last=False)\n",
        "\n",
        "\n",
        "  \n",
        "  #compiling the model\n",
        "  model.compile(optimizer=Adam(1e-3,decay=1e-4), \n",
        "                     loss='categorical_crossentropy', \n",
        "                     metrics=['accuracy'])\n",
        "  train_data = DataGenerator(trn_x,pd.get_dummies(trn_y), batch_size=4, augment=True)\n",
        "  ln=len(trn_y)\n",
        "  del([trn_x,trn_y,trn,tst])\n",
        "  gc.collect()\n",
        "  #fitting the model\n",
        "  #timing\n",
        "  start=time.time()\n",
        "  for i in range(epoch):\n",
        "      hist=model.fit_generator(train_data,epochs=1,steps_per_epoch=ln//4)\n",
        "      history_last[fold]=upd(history_last[fold],hist.history)\n",
        "\n",
        "  end=time.time()\n",
        "  times_last[fold]=end-start\n",
        "\n",
        "  #getting the prediction \n",
        "  pre=model.predict(tst_x)\n",
        "  \n",
        "\n",
        "\n",
        "\n",
        "  #select the maximum position\n",
        "  pre=np.argmax(pre,1)\n",
        "  predictions_last[fold]=pre\n",
        "\n",
        "  \n",
        "  \n",
        "  \n",
        "  #getting the accuracy\n",
        "  new_acc=accuracy_score(pre,tst_y)\n",
        "\n",
        "  \n",
        "\n",
        "\n",
        "  #storing the predictions\n",
        "  final_accuracy_last[fold]=new_acc\n",
        "\n",
        "\n",
        "\n",
        "\n",
        "\n",
        "\n",
        "\n",
        "\n",
        "  #storing the answers\n",
        "  answers_last[fold]=tst_y\n",
        "    \n",
        "    \n",
        "    \n",
        "    \n",
        "  #freeing memory\n",
        "  del([tst_x,tst_y])\n",
        "  gc.collect()"
      ],
      "execution_count": null,
      "outputs": [
        {
          "output_type": "stream",
          "text": [
            "Epoch 1/1\n",
            "623/623 [==============================] - 55s 88ms/step - loss: 0.8441 - accuracy: 0.6402\n",
            "Epoch 1/1\n",
            "623/623 [==============================] - 52s 83ms/step - loss: 0.5514 - accuracy: 0.7596\n",
            "Epoch 1/1\n",
            "623/623 [==============================] - 52s 83ms/step - loss: 0.4176 - accuracy: 0.8259\n",
            "Epoch 1/1\n",
            "623/623 [==============================] - 52s 84ms/step - loss: 0.3147 - accuracy: 0.8734\n",
            "Epoch 1/1\n",
            "623/623 [==============================] - 52s 84ms/step - loss: 0.2388 - accuracy: 0.9043\n",
            "Epoch 1/1\n",
            "623/623 [==============================] - 52s 83ms/step - loss: 0.1741 - accuracy: 0.9328\n",
            "Epoch 1/1\n",
            "623/623 [==============================] - 52s 84ms/step - loss: 0.1269 - accuracy: 0.9511\n",
            "Epoch 1/1\n",
            "623/623 [==============================] - 52s 84ms/step - loss: 0.0912 - accuracy: 0.9650\n",
            "Epoch 1/1\n",
            "623/623 [==============================] - 52s 84ms/step - loss: 0.0489 - accuracy: 0.9822\n",
            "Epoch 1/1\n",
            "623/623 [==============================] - 52s 84ms/step - loss: 0.0513 - accuracy: 0.9811\n",
            "Epoch 1/1\n",
            "623/623 [==============================] - 52s 84ms/step - loss: 0.0269 - accuracy: 0.9907\n",
            "Epoch 1/1\n",
            "623/623 [==============================] - 52s 84ms/step - loss: 0.0093 - accuracy: 0.9975\n",
            "Epoch 1/1\n",
            "623/623 [==============================] - 52s 84ms/step - loss: 0.0023 - accuracy: 0.9997\n",
            "Epoch 1/1\n",
            "623/623 [==============================] - 52s 84ms/step - loss: 7.0140e-04 - accuracy: 1.0000\n",
            "Epoch 1/1\n",
            "623/623 [==============================] - 52s 84ms/step - loss: 3.8113e-04 - accuracy: 1.0000\n",
            "Epoch 1/1\n",
            "623/623 [==============================] - 52s 84ms/step - loss: 3.4373e-04 - accuracy: 1.0000\n",
            "Epoch 1/1\n",
            "623/623 [==============================] - 52s 84ms/step - loss: 1.9519e-04 - accuracy: 1.0000\n",
            "Epoch 1/1\n",
            "623/623 [==============================] - 52s 84ms/step - loss: 1.0556e-04 - accuracy: 1.0000\n",
            "Epoch 1/1\n",
            "623/623 [==============================] - 52s 84ms/step - loss: 7.6367e-05 - accuracy: 1.0000\n",
            "Epoch 1/1\n",
            "623/623 [==============================] - 52s 84ms/step - loss: 6.8155e-05 - accuracy: 1.0000\n",
            "Epoch 1/1\n",
            "623/623 [==============================] - 52s 84ms/step - loss: 5.4448e-05 - accuracy: 1.0000\n",
            "Epoch 1/1\n",
            "623/623 [==============================] - 52s 84ms/step - loss: 0.1191 - accuracy: 0.9701\n",
            "Epoch 1/1\n",
            "623/623 [==============================] - 52s 84ms/step - loss: 0.0101 - accuracy: 0.9969\n",
            "Epoch 1/1\n",
            "623/623 [==============================] - 52s 84ms/step - loss: 0.0021 - accuracy: 0.9999\n",
            "Epoch 1/1\n",
            "623/623 [==============================] - 52s 84ms/step - loss: 8.0264e-04 - accuracy: 1.0000\n",
            "Epoch 1/1\n",
            "623/623 [==============================] - 52s 84ms/step - loss: 4.8088e-04 - accuracy: 1.0000\n",
            "Epoch 1/1\n",
            "623/623 [==============================] - 52s 84ms/step - loss: 3.0883e-04 - accuracy: 1.0000\n",
            "Epoch 1/1\n",
            "623/623 [==============================] - 52s 84ms/step - loss: 1.9629e-04 - accuracy: 1.0000\n",
            "Epoch 1/1\n",
            "623/623 [==============================] - 52s 84ms/step - loss: 1.3970e-04 - accuracy: 1.0000\n",
            "Epoch 1/1\n",
            "623/623 [==============================] - 52s 84ms/step - loss: 9.5590e-05 - accuracy: 1.0000\n",
            "Epoch 1/1\n",
            "623/623 [==============================] - 52s 84ms/step - loss: 7.1875e-05 - accuracy: 1.0000\n",
            "Epoch 1/1\n",
            "623/623 [==============================] - 52s 84ms/step - loss: 4.8622e-05 - accuracy: 1.0000\n",
            "Epoch 1/1\n",
            "623/623 [==============================] - 52s 84ms/step - loss: 5.4295e-05 - accuracy: 1.0000\n",
            "Epoch 1/1\n",
            "623/623 [==============================] - 52s 84ms/step - loss: 3.1358e-05 - accuracy: 1.0000\n",
            "Epoch 1/1\n",
            "623/623 [==============================] - 52s 84ms/step - loss: 3.8948e-05 - accuracy: 1.0000\n",
            "Epoch 1/1\n",
            "623/623 [==============================] - 52s 84ms/step - loss: 0.0567 - accuracy: 0.9857\n",
            "Epoch 1/1\n",
            "623/623 [==============================] - 52s 84ms/step - loss: 0.0027 - accuracy: 0.9995\n",
            "Epoch 1/1\n",
            "623/623 [==============================] - 52s 84ms/step - loss: 6.0413e-04 - accuracy: 1.0000\n",
            "Epoch 1/1\n",
            "623/623 [==============================] - 52s 84ms/step - loss: 3.4289e-04 - accuracy: 1.0000\n",
            "Epoch 1/1\n",
            "623/623 [==============================] - 52s 84ms/step - loss: 2.2051e-04 - accuracy: 1.0000\n",
            "Epoch 1/1\n",
            "623/623 [==============================] - 52s 84ms/step - loss: 1.7908e-04 - accuracy: 1.0000\n",
            "Epoch 1/1\n",
            "623/623 [==============================] - 52s 84ms/step - loss: 1.1238e-04 - accuracy: 1.0000\n",
            "Epoch 1/1\n",
            "623/623 [==============================] - 52s 84ms/step - loss: 8.1979e-05 - accuracy: 1.0000\n",
            "Epoch 1/1\n",
            "623/623 [==============================] - 52s 84ms/step - loss: 5.2997e-05 - accuracy: 1.0000\n",
            "Epoch 1/1\n",
            "623/623 [==============================] - 52s 84ms/step - loss: 4.3824e-05 - accuracy: 1.0000\n",
            "Epoch 1/1\n",
            "623/623 [==============================] - 52s 84ms/step - loss: 3.1592e-05 - accuracy: 1.0000\n",
            "Epoch 1/1\n",
            "623/623 [==============================] - 52s 84ms/step - loss: 2.7053e-05 - accuracy: 1.0000\n",
            "Epoch 1/1\n",
            "623/623 [==============================] - 52s 84ms/step - loss: 2.1495e-05 - accuracy: 1.0000\n",
            "Epoch 1/1\n",
            "623/623 [==============================] - 52s 84ms/step - loss: 1.4334e-05 - accuracy: 1.0000\n",
            "Epoch 1/1\n",
            "623/623 [==============================] - 52s 84ms/step - loss: 1.0561e-05 - accuracy: 1.0000\n",
            "Epoch 1/1\n",
            "623/623 [==============================] - 52s 84ms/step - loss: 7.9536e-06 - accuracy: 1.0000\n",
            "Epoch 1/1\n",
            "623/623 [==============================] - 52s 84ms/step - loss: 7.0969e-06 - accuracy: 1.0000\n",
            "Epoch 1/1\n",
            "623/623 [==============================] - 52s 84ms/step - loss: 4.9770e-06 - accuracy: 1.0000\n",
            "Epoch 1/1\n",
            "623/623 [==============================] - 52s 84ms/step - loss: 3.7341e-06 - accuracy: 1.0000\n",
            "Epoch 1/1\n",
            "623/623 [==============================] - 52s 84ms/step - loss: 3.4481e-06 - accuracy: 1.0000\n",
            "Epoch 1/1\n",
            "623/623 [==============================] - 52s 84ms/step - loss: 3.7910e-06 - accuracy: 1.0000\n",
            "Epoch 1/1\n",
            "623/623 [==============================] - 52s 84ms/step - loss: 0.0144 - accuracy: 0.9956\n",
            "Epoch 1/1\n",
            "623/623 [==============================] - 52s 84ms/step - loss: 0.0017 - accuracy: 0.9994\n",
            "Epoch 1/1\n",
            "623/623 [==============================] - 52s 84ms/step - loss: 2.2406e-04 - accuracy: 1.0000\n",
            "Epoch 1/1\n",
            "623/623 [==============================] - 52s 84ms/step - loss: 1.0749e-04 - accuracy: 1.0000\n",
            "Epoch 1/1\n",
            "623/623 [==============================] - 52s 84ms/step - loss: 6.0696e-05 - accuracy: 1.0000\n",
            "Epoch 1/1\n",
            "623/623 [==============================] - 52s 84ms/step - loss: 3.8676e-05 - accuracy: 1.0000\n",
            "Epoch 1/1\n",
            "623/623 [==============================] - 52s 84ms/step - loss: 3.4208e-05 - accuracy: 1.0000\n",
            "Epoch 1/1\n",
            "623/623 [==============================] - 52s 84ms/step - loss: 2.3321e-05 - accuracy: 1.0000\n",
            "Epoch 1/1\n",
            "623/623 [==============================] - 52s 84ms/step - loss: 2.0300e-05 - accuracy: 1.0000\n",
            "Epoch 1/1\n",
            "623/623 [==============================] - 52s 84ms/step - loss: 1.5916e-05 - accuracy: 1.0000\n",
            "Epoch 1/1\n",
            "623/623 [==============================] - 52s 84ms/step - loss: 1.0980e-05 - accuracy: 1.0000\n",
            "Epoch 1/1\n",
            "623/623 [==============================] - 52s 84ms/step - loss: 8.1367e-06 - accuracy: 1.0000\n",
            "Epoch 1/1\n",
            "623/623 [==============================] - 52s 84ms/step - loss: 7.7552e-06 - accuracy: 1.0000\n",
            "Epoch 1/1\n",
            "623/623 [==============================] - 52s 84ms/step - loss: 5.7994e-06 - accuracy: 1.0000\n",
            "Epoch 1/1\n",
            "623/623 [==============================] - 52s 84ms/step - loss: 6.1219e-06 - accuracy: 1.0000\n",
            "Epoch 1/1\n",
            "623/623 [==============================] - 52s 84ms/step - loss: 4.1473e-06 - accuracy: 1.0000\n",
            "Epoch 1/1\n",
            "623/623 [==============================] - 52s 84ms/step - loss: 2.7935e-06 - accuracy: 1.0000\n",
            "Epoch 1/1\n",
            "623/623 [==============================] - 52s 84ms/step - loss: 2.0230e-06 - accuracy: 1.0000\n",
            "Epoch 1/1\n",
            "623/623 [==============================] - 52s 83ms/step - loss: 2.8234e-06 - accuracy: 1.0000\n"
          ],
          "name": "stdout"
        },
        {
          "output_type": "execute_result",
          "data": {
            "text/plain": [
              "34"
            ]
          },
          "metadata": {
            "tags": []
          },
          "execution_count": 9
        }
      ]
    },
    {
      "cell_type": "code",
      "metadata": {
        "id": "wFQlBar9Kp7y",
        "colab_type": "code",
        "colab": {
          "base_uri": "https://localhost:8080/",
          "height": 284
        },
        "outputId": "e1a0ffe9-42b8-421a-f5d2-69e37e662016"
      },
      "source": [
        "plt.plot(history_last[fold]['loss'])"
      ],
      "execution_count": null,
      "outputs": [
        {
          "output_type": "execute_result",
          "data": {
            "text/plain": [
              "[<matplotlib.lines.Line2D at 0x7fe495a7a860>]"
            ]
          },
          "metadata": {
            "tags": []
          },
          "execution_count": 13
        },
        {
          "output_type": "display_data",
          "data": {
            "image/png": "[encoded data removed]",
            "text/plain": [
              "<Figure size 432x288 with 1 Axes>"
            ]
          },
          "metadata": {
            "tags": [],
            "needs_background": "light"
          }
        }
      ]
    },
    {
      "cell_type": "code",
      "metadata": {
        "id": "Ri0fLrhvKqEb",
        "colab_type": "code",
        "colab": {
          "base_uri": "https://localhost:8080/",
          "height": 36
        },
        "outputId": "ddb13762-93da-430c-cdc5-ed61810f3ab6"
      },
      "source": [
        "new_acc"
      ],
      "execution_count": null,
      "outputs": [
        {
          "output_type": "execute_result",
          "data": {
            "text/plain": [
              "0.9178321678321678"
            ]
          },
          "metadata": {
            "tags": []
          },
          "execution_count": 14
        }
      ]
    },
    {
      "cell_type": "code",
      "metadata": {
        "id": "7p62ELjjaS1Z",
        "colab_type": "code",
        "colab": {}
      },
      "source": [
        "index=str(index)\n",
        "type='decay_145'\n",
        "model='final'\n",
        "path = F\"/content/gdrive/My Drive/\"+model \n",
        "np.save(path+\"/best_accuracy_all_fold_\"+index+\"_\"+model+\"_\"+type+\".npy\",best_accuracy_last)\n",
        "np.save(path+'/final_accuracy_all_fold'+index+\"_\"+model+\"_\"+type+\".npy\",final_accuracy_last)\n",
        "np.save(path+'/history_all_fold_'+index+\"_\"+model+\"_\"+type+\".npy\",history_last)\n",
        "np.save(path+'/answers_all_fold_'+index+\"_\"+model+\"_\"+type+\".npy\",answers_last)\n",
        "np.save(path+'/predictions_all_fold_'+index+\"_\"+model+\"_\"+type+\".npy\",predictions_last)\n",
        "np.save(path+'/predictions_all_best_fold_'+index+\"_\"+model+\"_\"+type+\".npy\",predictions_last_best)\n",
        "np.save(path+'/times_all_fold_'+index+\"_\"+model+\"_\"+type+\".npy\",times_last)"
      ],
      "execution_count": null,
      "outputs": []
    },
    {
      "cell_type": "code",
      "metadata": {
        "id": "_L7NLo1fezlx",
        "colab_type": "code",
        "colab": {}
      },
      "source": [
        ""
      ],
      "execution_count": null,
      "outputs": []
    }
  ]
}