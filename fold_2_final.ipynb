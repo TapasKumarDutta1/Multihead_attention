{
  "nbformat": 4,
  "nbformat_minor": 0,
  "metadata": {
    "colab": {
      "name": "fold_2_final.ipynb",
      "provenance": [],
      "include_colab_link": true
    },
    "kernelspec": {
      "name": "python3",
      "display_name": "Python 3"
    },
    "accelerator": "GPU"
  },
  "cells": [
    {
      "cell_type": "markdown",
      "metadata": {
        "id": "view-in-github",
        "colab_type": "text"
      },
      "source": [
        "<a href=\"https://colab.research.google.com/github/greyhound101/data/blob/master/fold_2_final.ipynb\" target=\"_parent\"><img src=\"https://colab.research.google.com/assets/colab-badge.svg\" alt=\"Open In Colab\"/></a>"
      ]
    },
    {
      "cell_type": "code",
      "metadata": {
        "id": "f-QYgRhGfGLZ",
        "colab_type": "code",
        "colab": {
          "base_uri": "https://localhost:8080/",
          "height": 147
        },
        "outputId": "aaf75da5-cb8c-4db2-8b54-7ef818af3db6"
      },
      "source": [
        "from google.colab import drive\n",
        "drive.mount('/content/gdrive')\n",
        "drive.mount(\"/content/gdrive\", force_remount=True)"
      ],
      "execution_count": 1,
      "outputs": [
        {
          "output_type": "stream",
          "text": [
            "Go to this URL in a browser: https://accounts.google.com/o/oauth2/auth?client_id=947318989803-6bn6qk8qdgf4n4g3pfee6491hc0brc4i.apps.googleusercontent.com&redirect_uri=urn%3aietf%3awg%3aoauth%3a2.0%3aoob&response_type=code&scope=email%20https%3a%2f%2fwww.googleapis.com%2fauth%2fdocs.test%20https%3a%2f%2fwww.googleapis.com%2fauth%2fdrive%20https%3a%2f%2fwww.googleapis.com%2fauth%2fdrive.photos.readonly%20https%3a%2f%2fwww.googleapis.com%2fauth%2fpeopleapi.readonly\n",
            "\n",
            "Enter your authorization code:\n",
            "··········\n",
            "Mounted at /content/gdrive\n",
            "Mounted at /content/gdrive\n"
          ],
          "name": "stdout"
        }
      ]
    },
    {
      "cell_type": "code",
      "metadata": {
        "id": "CPJzX5fywOe6",
        "colab_type": "code",
        "colab": {
          "base_uri": "https://localhost:8080/",
          "height": 35
        },
        "outputId": "3d9172ee-beb9-4a12-e38f-417129ec3829"
      },
      "source": [
        "\n",
        "from keras.optimizers import *\n",
        "import cv2\n",
        "from keras.utils import to_categorical\n",
        "from matplotlib import pyplot as plt\n",
        "import glob, os\n",
        "from matplotlib import pyplot as plt\n",
        "import h5py\n",
        "from sklearn.metrics import accuracy_score\n",
        "import numpy as np\n",
        "from tqdm import tqdm\n",
        "import time\n",
        "import gc\n",
        "from keras.applications import *\n",
        "from keras.layers import *\n",
        "from keras import backend as K\n",
        "from keras.models import Model\n",
        "import keras\n",
        "import pandas as pd\n",
        "from keras.applications.nasnet import NASNetMobile, preprocess_input\n",
        "import imgaug as ia\n",
        "from imgaug import augmenters as iaa\n",
        "import h5py\n",
        "from keras.optimizers import Adam\n",
        "import cv2\n",
        "from keras.utils import to_categorical\n",
        "from matplotlib import pyplot as plt\n",
        "import glob, os\n",
        "from matplotlib import pyplot as plt\n",
        "import h5py\n",
        "from sklearn.metrics import accuracy_score\n",
        "import numpy as np\n",
        "from tqdm import tqdm\n",
        "import time\n",
        "import gc\n",
        "from keras.applications import *\n",
        "from keras.layers import *\n",
        "from keras import backend as K\n",
        "from keras.models import Model\n"
      ],
      "execution_count": 2,
      "outputs": [
        {
          "output_type": "stream",
          "text": [
            "Using TensorFlow backend.\n"
          ],
          "name": "stderr"
        }
      ]
    },
    {
      "cell_type": "code",
      "metadata": {
        "id": "sC8imWIHxEHM",
        "colab_type": "code",
        "colab": {}
      },
      "source": [
        "path = F\"/content/gdrive/My Drive/check.npy\" \n",
        "df=np.load(path,allow_pickle=True)\n",
        "df=df.item()"
      ],
      "execution_count": 3,
      "outputs": []
    },
    {
      "cell_type": "code",
      "metadata": {
        "id": "T7IAfQuywQmu",
        "colab_type": "code",
        "colab": {}
      },
      "source": [
        "\n",
        "#shuffle samples\n",
        "def unison_shuffled_copies(a, b):\n",
        "    assert len(a) == len(b)\n",
        "    p = np.random.permutation(len(a))\n",
        "    return a[p], b[p]\n",
        "\n",
        "\n",
        "\n",
        "#change targets\n",
        "def change(img):\n",
        "    resized = cv2.resize(img, (299,299), interpolation = cv2.INTER_AREA )\n",
        "    return resized\n",
        "\n",
        "\n",
        "\n",
        "\n",
        "#get train and test splits\n",
        "def get_trn_tst(df,tst_fold):\n",
        "  dimension=224\n",
        "  idx=np.asarray(df['fold'])\n",
        "  y=np.asarray(df['label'])\n",
        "  y-=1\n",
        "  img=np.asarray(df['image'])\n",
        "  img1=[]\n",
        "  img1=np.asarray(img)\n",
        "  del([img])\n",
        "  gc.collect()\n",
        "  trn_y=np.asarray(y[(idx!=tst_fold)])\n",
        "  trn_img=np.asarray(img1[(idx!=tst_fold)])\n",
        "  tst_y=np.asarray(y[(idx==tst_fold)])\n",
        "  tst_img=img1[idx==tst_fold]\n",
        "  trn_img=np.repeat(trn_img.reshape((trn_img.shape[0],dimension,dimension,1)),1,axis=3)\n",
        "  tst_img=np.repeat(tst_img.reshape((tst_img.shape[0],dimension,dimension,1)),1,axis=3)\n",
        "  return (trn_img.copy(),trn_y.copy()),(tst_img.copy(),tst_y.copy())\n",
        "\n"
      ],
      "execution_count": 4,
      "outputs": []
    },
    {
      "cell_type": "code",
      "metadata": {
        "id": "RNW0pskZwcEI",
        "colab_type": "code",
        "colab": {}
      },
      "source": [
        "def load_model(last=True):   \n",
        "  inp=Input((224,224,1,))\n",
        "  x=Convolution2D(8,(7,7),activation='relu')(inp)\n",
        "  x=BatchNormalization()(x)\n",
        "  x=MaxPooling2D(2,2)(x)\n",
        "  x=Convolution2D(32,(5,5),activation='relu')(x)\n",
        "  x=BatchNormalization()(x)\n",
        "  x=MaxPooling2D(2,2)(x)\n",
        "  x=Convolution2D(64,(5,5),activation='relu')(x)\n",
        "  x=BatchNormalization()(x)\n",
        "  x=MaxPooling2D(2,2)(x)\n",
        "  x=Convolution2D(128,(5,5),activation='relu')(x)\n",
        "  x=BatchNormalization()(x)\n",
        "  x=MaxPooling2D(2,2)(x)\n",
        "  x=Convolution2D(256,(5,5),activation='relu')(x)\n",
        "  x=BatchNormalization()(x)\n",
        "  x=MaxPooling2D(2,2)(x)\n",
        "  x=GlobalAveragePooling2D()(x)\n",
        "  x=Reshape((1,1,256))(x)\n",
        "  x=Flatten()(x)\n",
        "  x=Dense(512,activation='sigmoid')(x)\n",
        "  x=Dropout(0.5)(x)\n",
        "  x=Dense(3,activation='softmax')(x)\n",
        "  model=Model(inputs=inp,outputs=x)\n",
        "  return model"
      ],
      "execution_count": 5,
      "outputs": []
    },
    {
      "cell_type": "code",
      "metadata": {
        "id": "EIQSvrhBwdnu",
        "colab_type": "code",
        "colab": {
          "base_uri": "https://localhost:8080/",
          "height": 972
        },
        "outputId": "fd23b395-0ddb-4381-bada-783d2b7b6b85"
      },
      "source": [
        "mod=load_model()\n",
        "mod.summary()"
      ],
      "execution_count": 6,
      "outputs": [
        {
          "output_type": "stream",
          "text": [
            "Model: \"model_1\"\n",
            "_________________________________________________________________\n",
            "Layer (type)                 Output Shape              Param #   \n",
            "=================================================================\n",
            "input_1 (InputLayer)         (None, 224, 224, 1)       0         \n",
            "_________________________________________________________________\n",
            "conv2d_1 (Conv2D)            (None, 218, 218, 8)       400       \n",
            "_________________________________________________________________\n",
            "batch_normalization_1 (Batch (None, 218, 218, 8)       32        \n",
            "_________________________________________________________________\n",
            "max_pooling2d_1 (MaxPooling2 (None, 109, 109, 8)       0         \n",
            "_________________________________________________________________\n",
            "conv2d_2 (Conv2D)            (None, 105, 105, 32)      6432      \n",
            "_________________________________________________________________\n",
            "batch_normalization_2 (Batch (None, 105, 105, 32)      128       \n",
            "_________________________________________________________________\n",
            "max_pooling2d_2 (MaxPooling2 (None, 52, 52, 32)        0         \n",
            "_________________________________________________________________\n",
            "conv2d_3 (Conv2D)            (None, 48, 48, 64)        51264     \n",
            "_________________________________________________________________\n",
            "batch_normalization_3 (Batch (None, 48, 48, 64)        256       \n",
            "_________________________________________________________________\n",
            "max_pooling2d_3 (MaxPooling2 (None, 24, 24, 64)        0         \n",
            "_________________________________________________________________\n",
            "conv2d_4 (Conv2D)            (None, 20, 20, 128)       204928    \n",
            "_________________________________________________________________\n",
            "batch_normalization_4 (Batch (None, 20, 20, 128)       512       \n",
            "_________________________________________________________________\n",
            "max_pooling2d_4 (MaxPooling2 (None, 10, 10, 128)       0         \n",
            "_________________________________________________________________\n",
            "conv2d_5 (Conv2D)            (None, 6, 6, 256)         819456    \n",
            "_________________________________________________________________\n",
            "batch_normalization_5 (Batch (None, 6, 6, 256)         1024      \n",
            "_________________________________________________________________\n",
            "max_pooling2d_5 (MaxPooling2 (None, 3, 3, 256)         0         \n",
            "_________________________________________________________________\n",
            "global_average_pooling2d_1 ( (None, 256)               0         \n",
            "_________________________________________________________________\n",
            "reshape_1 (Reshape)          (None, 1, 1, 256)         0         \n",
            "_________________________________________________________________\n",
            "flatten_1 (Flatten)          (None, 256)               0         \n",
            "_________________________________________________________________\n",
            "dense_1 (Dense)              (None, 512)               131584    \n",
            "_________________________________________________________________\n",
            "dropout_1 (Dropout)          (None, 512)               0         \n",
            "_________________________________________________________________\n",
            "dense_2 (Dense)              (None, 3)                 1539      \n",
            "=================================================================\n",
            "Total params: 1,217,555\n",
            "Trainable params: 1,216,579\n",
            "Non-trainable params: 976\n",
            "_________________________________________________________________\n"
          ],
          "name": "stdout"
        }
      ]
    },
    {
      "cell_type": "code",
      "metadata": {
        "id": "FWXwzoslwfCL",
        "colab_type": "code",
        "colab": {}
      },
      "source": [
        "import keras\n",
        "import pandas as pd\n",
        "from keras.applications.nasnet import NASNetMobile, preprocess_input\n",
        "import imgaug as ia\n",
        "from imgaug import augmenters as iaa\n",
        "def rotate_image(image, angle):\n",
        "  image_center = tuple(np.array(image.shape[1::-1]) / 2)\n",
        "  rot_mat = cv2.getRotationMatrix2D(image_center, angle, 1.0)\n",
        "  result = cv2.warpAffine(image, rot_mat, image.shape[1::-1], flags=cv2.INTER_LINEAR)\n",
        "  return result\n",
        "def Hflip( images):\n",
        "\t\tseq = iaa.Sequential([iaa.Fliplr(1.0)])\n",
        "\t\treturn seq.augment_images(images)\n",
        "def Vflip( images):\n",
        "\t\tseq = iaa.Sequential([iaa.Flipud(1.0)])\n",
        "\t\treturn seq.augment_images(images)\n",
        "def noise(images):\n",
        "    ls=[]\n",
        "    for i in images:\n",
        "        x = np.random.normal(loc=0, scale=0.05, size=(dimension,dimension,3))\n",
        "        ls.append(i+x)\n",
        "    return ls\n",
        "def rotate(images):\n",
        "    ls=[]\n",
        "    for angle in range(-15,20,5):\n",
        "        for image in images:\n",
        "            ls.append(rotate_image(image,angle).reshape((224,224,1)))\n",
        "    return ls\n",
        "\n",
        "class DataGenerator(keras.utils.Sequence):\n",
        "  def __init__(self, images, labels, batch_size=64, image_dimensions = (96 ,96 ,3), shuffle=False, augment=False):\n",
        "    self.labels       = labels              # array of labels\n",
        "    self.images = images        # array of image paths\n",
        "    self.batch_size   = batch_size          # batch size\n",
        "    self.on_epoch_end()\n",
        "\n",
        "  def __len__(self):\n",
        "    return int(np.floor(self.labels.shape[0] / self.batch_size))\n",
        "\n",
        "  def on_epoch_end(self):\n",
        "    self.indexes = np.arange(self.labels.shape[0])\n",
        "\n",
        "  def __getitem__(self, index):\n",
        "\t\t# selects indices of data for next batch\n",
        "    indexes = self.indexes[index * self.batch_size : (index + 1) * self.batch_size]\n",
        "    # select data and load images\n",
        "    labels = self.labels.loc[indexes]\n",
        "    img = [self.images[k].astype(np.float32) for k in indexes]\n",
        "    imgH=Hflip(img)\n",
        "    imgV=Vflip(img)\n",
        "    imgR=rotate(img)\n",
        "    images=[]\n",
        "    images.extend(imgH)\n",
        "    images.extend(imgV)\n",
        "    images.extend(imgR)\n",
        "    lbl=labels.copy()\n",
        "    labels=pd.DataFrame()\n",
        "    labels=pd.concat([labels,lbl],0)\n",
        "    labels=pd.concat([labels,lbl],0)\n",
        "    labels=pd.concat([labels,lbl],0)\n",
        "    labels=pd.concat([labels,lbl],0)\n",
        "    labels=pd.concat([labels,lbl],0)\n",
        "    labels=pd.concat([labels,lbl],0)\n",
        "    labels=pd.concat([labels,lbl],0)\n",
        "    labels=pd.concat([labels,lbl],0)\n",
        "    labels=pd.concat([labels,lbl],0)\n",
        "    img=np.asarray(images)\n",
        "    #images = np.array([preprocess_input(img) for img in images])\n",
        "    return img, labels"
      ],
      "execution_count": 7,
      "outputs": []
    },
    {
      "cell_type": "code",
      "metadata": {
        "id": "OC-Dm3ulwgVN",
        "colab_type": "code",
        "colab": {}
      },
      "source": [
        "\n",
        "\n",
        "best_accuracy_last={}\n",
        "final_accuracy_last={}\n",
        "history_last={}\n",
        "answers_last={}\n",
        "predictions_last={}\n",
        "predictions_last_best={}\n",
        "times_last={}\n",
        "\n"
      ],
      "execution_count": 8,
      "outputs": []
    },
    {
      "cell_type": "code",
      "metadata": {
        "id": "NvsVb2H2whrN",
        "colab_type": "code",
        "colab": {
          "base_uri": "https://localhost:8080/",
          "height": 1000
        },
        "outputId": "923a2c0d-fe7e-4aa4-9c20-a806b83c3c04"
      },
      "source": [
        "  def upd(dk,data):\n",
        "    if dk==0:\n",
        "        dk=data\n",
        "    else:\n",
        "        for ky in data.keys():\n",
        "            dk[ky].extend(data[ky])\n",
        "    return dk\n",
        "  index=2\n",
        "  epoch=75\n",
        "  pre_acc=0\n",
        "  best=0\n",
        "  fold='fold_'+str(index)\n",
        "  trn,tst=get_trn_tst(df,index)\n",
        "  history_last[fold]=0\n",
        "\n",
        "\n",
        "\n",
        "\n",
        "  trn_x,trn_y=unison_shuffled_copies(trn[0],trn[1])\n",
        "  tst_x,tst_y=unison_shuffled_copies(tst[0],tst[1])\n",
        "\n",
        "\n",
        "\n",
        "  model=load_model(last=False)\n",
        "\n",
        "\n",
        "  \n",
        "  #compiling the model\n",
        "  model.compile(optimizer=Adam(1e-3,decay=1e-4), \n",
        "                     loss='categorical_crossentropy', \n",
        "                     metrics=['accuracy'])\n",
        "  train_data = DataGenerator(trn_x,pd.get_dummies(trn_y), batch_size=4, augment=True)\n",
        "  ln=len(trn_y)\n",
        "  del([trn_x,trn_y,trn,tst])\n",
        "  gc.collect()\n",
        "  #fitting the model\n",
        "  #timing\n",
        "  start=time.time()\n",
        "  for i in range(epoch):\n",
        "      hist=model.fit_generator(train_data,epochs=1,steps_per_epoch=ln//4)\n",
        "      history_last[fold]=upd(history_last[fold],hist.history)\n",
        "\n",
        "  end=time.time()\n",
        "  times_last[fold]=end-start\n",
        "\n",
        "  #getting the prediction \n",
        "  pre=model.predict(tst_x)\n",
        "  \n",
        "\n",
        "\n",
        "\n",
        "  #select the maximum position\n",
        "  pre=np.argmax(pre,1)\n",
        "  predictions_last[fold]=pre\n",
        "\n",
        "  \n",
        "  \n",
        "  \n",
        "  #getting the accuracy\n",
        "  new_acc=accuracy_score(pre,tst_y)\n",
        "\n",
        "  \n",
        "\n",
        "\n",
        "  #storing the predictions\n",
        "  final_accuracy_last[fold]=new_acc\n",
        "\n",
        "\n",
        "\n",
        "\n",
        "\n",
        "\n",
        "\n",
        "\n",
        "  #storing the answers\n",
        "  answers_last[fold]=tst_y\n",
        "    \n",
        "    \n",
        "    \n",
        "    \n",
        "  #freeing memory\n",
        "  del([tst_x,tst_y])\n",
        "  gc.collect()"
      ],
      "execution_count": 9,
      "outputs": [
        {
          "output_type": "stream",
          "text": [
            "Epoch 1/1\n",
            "596/596 [==============================] - 57s 96ms/step - loss: 0.7194 - accuracy: 0.6996\n",
            "Epoch 1/1\n",
            "596/596 [==============================] - 49s 82ms/step - loss: 0.4576 - accuracy: 0.8023\n",
            "Epoch 1/1\n",
            "596/596 [==============================] - 49s 83ms/step - loss: 0.3285 - accuracy: 0.8599\n",
            "Epoch 1/1\n",
            "596/596 [==============================] - 49s 83ms/step - loss: 0.2365 - accuracy: 0.9078\n",
            "Epoch 1/1\n",
            "596/596 [==============================] - 49s 83ms/step - loss: 0.1616 - accuracy: 0.9391\n",
            "Epoch 1/1\n",
            "596/596 [==============================] - 49s 83ms/step - loss: 0.1202 - accuracy: 0.9562\n",
            "Epoch 1/1\n",
            "596/596 [==============================] - 49s 82ms/step - loss: 0.0584 - accuracy: 0.9797\n",
            "Epoch 1/1\n",
            "596/596 [==============================] - 49s 83ms/step - loss: 0.0297 - accuracy: 0.9893\n",
            "Epoch 1/1\n",
            "596/596 [==============================] - 49s 82ms/step - loss: 0.0122 - accuracy: 0.9966\n",
            "Epoch 1/1\n",
            "596/596 [==============================] - 49s 82ms/step - loss: 0.0904 - accuracy: 0.9713\n",
            "Epoch 1/1\n",
            "596/596 [==============================] - 49s 82ms/step - loss: 0.0216 - accuracy: 0.9933\n",
            "Epoch 1/1\n",
            "596/596 [==============================] - 49s 83ms/step - loss: 0.0029 - accuracy: 0.9998\n",
            "Epoch 1/1\n",
            "596/596 [==============================] - 49s 82ms/step - loss: 7.5593e-04 - accuracy: 1.0000\n",
            "Epoch 1/1\n",
            "596/596 [==============================] - 49s 83ms/step - loss: 3.6349e-04 - accuracy: 1.0000\n",
            "Epoch 1/1\n",
            "596/596 [==============================] - 49s 82ms/step - loss: 2.0964e-04 - accuracy: 1.0000\n",
            "Epoch 1/1\n",
            "596/596 [==============================] - 49s 82ms/step - loss: 1.4855e-04 - accuracy: 1.0000\n",
            "Epoch 1/1\n",
            "596/596 [==============================] - 49s 82ms/step - loss: 1.0266e-04 - accuracy: 1.0000\n",
            "Epoch 1/1\n",
            "596/596 [==============================] - 49s 82ms/step - loss: 8.1750e-05 - accuracy: 1.0000\n",
            "Epoch 1/1\n",
            "596/596 [==============================] - 49s 82ms/step - loss: 6.0219e-05 - accuracy: 1.0000\n",
            "Epoch 1/1\n",
            "596/596 [==============================] - 49s 83ms/step - loss: 4.6383e-05 - accuracy: 1.0000\n",
            "Epoch 1/1\n",
            "596/596 [==============================] - 49s 83ms/step - loss: 3.3804e-05 - accuracy: 1.0000\n",
            "Epoch 1/1\n",
            "596/596 [==============================] - 49s 82ms/step - loss: 2.4161e-05 - accuracy: 1.0000\n",
            "Epoch 1/1\n",
            "596/596 [==============================] - 49s 82ms/step - loss: 1.7643e-05 - accuracy: 1.0000\n",
            "Epoch 1/1\n",
            "596/596 [==============================] - 49s 82ms/step - loss: 1.3226e-05 - accuracy: 1.0000\n",
            "Epoch 1/1\n",
            "596/596 [==============================] - 49s 82ms/step - loss: 1.1310e-05 - accuracy: 1.0000\n",
            "Epoch 1/1\n",
            "596/596 [==============================] - 49s 82ms/step - loss: 9.2350e-06 - accuracy: 1.0000\n",
            "Epoch 1/1\n",
            "596/596 [==============================] - 49s 82ms/step - loss: 7.4566e-06 - accuracy: 1.0000\n",
            "Epoch 1/1\n",
            "596/596 [==============================] - 49s 82ms/step - loss: 4.5472e-06 - accuracy: 1.0000\n",
            "Epoch 1/1\n",
            "596/596 [==============================] - 49s 82ms/step - loss: 2.7687e-06 - accuracy: 1.0000\n",
            "Epoch 1/1\n",
            "596/596 [==============================] - 49s 83ms/step - loss: 3.1396e-06 - accuracy: 1.0000\n",
            "Epoch 1/1\n",
            "596/596 [==============================] - 49s 82ms/step - loss: 1.9725e-06 - accuracy: 1.0000\n",
            "Epoch 1/1\n",
            "596/596 [==============================] - 49s 82ms/step - loss: 1.1240e-06 - accuracy: 1.0000\n",
            "Epoch 1/1\n",
            "596/596 [==============================] - 49s 82ms/step - loss: 1.1641e-06 - accuracy: 1.0000\n",
            "Epoch 1/1\n",
            "596/596 [==============================] - 49s 82ms/step - loss: 0.0731 - accuracy: 0.9817\n",
            "Epoch 1/1\n",
            "596/596 [==============================] - 49s 82ms/step - loss: 0.0093 - accuracy: 0.9965\n",
            "Epoch 1/1\n",
            "596/596 [==============================] - 49s 82ms/step - loss: 0.0015 - accuracy: 0.9998\n",
            "Epoch 1/1\n",
            "596/596 [==============================] - 49s 82ms/step - loss: 4.1011e-04 - accuracy: 1.0000\n",
            "Epoch 1/1\n",
            "596/596 [==============================] - 49s 82ms/step - loss: 2.1948e-04 - accuracy: 1.0000\n",
            "Epoch 1/1\n",
            "596/596 [==============================] - 49s 83ms/step - loss: 1.3001e-04 - accuracy: 1.0000\n",
            "Epoch 1/1\n",
            "596/596 [==============================] - 49s 82ms/step - loss: 1.1211e-04 - accuracy: 1.0000\n",
            "Epoch 1/1\n",
            "596/596 [==============================] - 49s 82ms/step - loss: 7.1173e-05 - accuracy: 1.0000\n",
            "Epoch 1/1\n",
            "596/596 [==============================] - 49s 82ms/step - loss: 5.1698e-05 - accuracy: 1.0000\n",
            "Epoch 1/1\n",
            "596/596 [==============================] - 49s 82ms/step - loss: 3.8849e-05 - accuracy: 1.0000\n",
            "Epoch 1/1\n",
            "596/596 [==============================] - 49s 82ms/step - loss: 3.1968e-05 - accuracy: 1.0000\n",
            "Epoch 1/1\n",
            "596/596 [==============================] - 49s 82ms/step - loss: 2.1279e-05 - accuracy: 1.0000\n",
            "Epoch 1/1\n",
            "596/596 [==============================] - 49s 82ms/step - loss: 2.0137e-05 - accuracy: 1.0000\n",
            "Epoch 1/1\n",
            "596/596 [==============================] - 49s 82ms/step - loss: 1.1275e-05 - accuracy: 1.0000\n",
            "Epoch 1/1\n",
            "596/596 [==============================] - 49s 83ms/step - loss: 9.4871e-06 - accuracy: 1.0000\n",
            "Epoch 1/1\n",
            "596/596 [==============================] - 49s 83ms/step - loss: 7.1532e-06 - accuracy: 1.0000\n",
            "Epoch 1/1\n",
            "596/596 [==============================] - 49s 82ms/step - loss: 5.7063e-06 - accuracy: 1.0000\n",
            "Epoch 1/1\n",
            "596/596 [==============================] - 49s 82ms/step - loss: 4.6120e-06 - accuracy: 1.0000\n",
            "Epoch 1/1\n",
            "596/596 [==============================] - 49s 83ms/step - loss: 3.8526e-06 - accuracy: 1.0000\n",
            "Epoch 1/1\n",
            "596/596 [==============================] - 49s 82ms/step - loss: 2.5750e-06 - accuracy: 1.0000\n",
            "Epoch 1/1\n",
            "596/596 [==============================] - 49s 83ms/step - loss: 2.1497e-06 - accuracy: 1.0000\n",
            "Epoch 1/1\n",
            "596/596 [==============================] - 49s 83ms/step - loss: 2.4753e-06 - accuracy: 1.0000\n",
            "Epoch 1/1\n",
            "596/596 [==============================] - 49s 83ms/step - loss: 0.0307 - accuracy: 0.9925\n",
            "Epoch 1/1\n",
            "596/596 [==============================] - 50s 83ms/step - loss: 0.0018 - accuracy: 0.9994\n",
            "Epoch 1/1\n",
            "596/596 [==============================] - 50s 83ms/step - loss: 3.5178e-04 - accuracy: 1.0000\n",
            "Epoch 1/1\n",
            "596/596 [==============================] - 50s 83ms/step - loss: 1.9536e-04 - accuracy: 1.0000\n",
            "Epoch 1/1\n",
            "596/596 [==============================] - 49s 83ms/step - loss: 1.0361e-04 - accuracy: 1.0000\n",
            "Epoch 1/1\n",
            "596/596 [==============================] - 49s 83ms/step - loss: 5.9492e-05 - accuracy: 1.0000\n",
            "Epoch 1/1\n",
            "596/596 [==============================] - 49s 83ms/step - loss: 4.7032e-05 - accuracy: 1.0000\n",
            "Epoch 1/1\n",
            "596/596 [==============================] - 49s 83ms/step - loss: 4.3826e-05 - accuracy: 1.0000\n",
            "Epoch 1/1\n",
            "596/596 [==============================] - 49s 83ms/step - loss: 2.5546e-05 - accuracy: 1.0000\n",
            "Epoch 1/1\n",
            "596/596 [==============================] - 49s 83ms/step - loss: 2.4607e-05 - accuracy: 1.0000\n",
            "Epoch 1/1\n",
            "596/596 [==============================] - 49s 82ms/step - loss: 2.0043e-05 - accuracy: 1.0000\n",
            "Epoch 1/1\n",
            "596/596 [==============================] - 49s 83ms/step - loss: 1.2229e-05 - accuracy: 1.0000\n",
            "Epoch 1/1\n",
            "596/596 [==============================] - 49s 83ms/step - loss: 9.8496e-06 - accuracy: 1.0000\n",
            "Epoch 1/1\n",
            "596/596 [==============================] - 49s 83ms/step - loss: 8.1529e-06 - accuracy: 1.0000\n",
            "Epoch 1/1\n",
            "596/596 [==============================] - 49s 83ms/step - loss: 5.6367e-06 - accuracy: 1.0000\n",
            "Epoch 1/1\n",
            "596/596 [==============================] - 49s 83ms/step - loss: 3.8250e-06 - accuracy: 1.0000\n",
            "Epoch 1/1\n",
            "596/596 [==============================] - 49s 82ms/step - loss: 3.3571e-06 - accuracy: 1.0000\n",
            "Epoch 1/1\n",
            "596/596 [==============================] - 49s 82ms/step - loss: 3.9817e-06 - accuracy: 1.0000\n",
            "Epoch 1/1\n",
            "596/596 [==============================] - 49s 82ms/step - loss: 2.4335e-06 - accuracy: 1.0000\n",
            "Epoch 1/1\n",
            "596/596 [==============================] - 49s 82ms/step - loss: 1.3842e-06 - accuracy: 1.0000\n"
          ],
          "name": "stdout"
        },
        {
          "output_type": "execute_result",
          "data": {
            "text/plain": [
              "214"
            ]
          },
          "metadata": {
            "tags": []
          },
          "execution_count": 9
        }
      ]
    },
    {
      "cell_type": "code",
      "metadata": {
        "id": "wFQlBar9Kp7y",
        "colab_type": "code",
        "colab": {
          "base_uri": "https://localhost:8080/",
          "height": 283
        },
        "outputId": "7272beab-e95f-422b-a202-898d812a474a"
      },
      "source": [
        "plt.plot(history_last[fold]['loss'])"
      ],
      "execution_count": 10,
      "outputs": [
        {
          "output_type": "execute_result",
          "data": {
            "text/plain": [
              "[<matplotlib.lines.Line2D at 0x7f6356ff6898>]"
            ]
          },
          "metadata": {
            "tags": []
          },
          "execution_count": 10
        },
        {
          "output_type": "display_data",
          "data": {
            "image/png": "[encoded data removed]",
            "text/plain": [
              "<Figure size 432x288 with 1 Axes>"
            ]
          },
          "metadata": {
            "tags": [],
            "needs_background": "light"
          }
        }
      ]
    },
    {
      "cell_type": "code",
      "metadata": {
        "id": "Ri0fLrhvKqEb",
        "colab_type": "code",
        "colab": {
          "base_uri": "https://localhost:8080/",
          "height": 35
        },
        "outputId": "87ea0006-e36d-4b3f-fab3-64423292c68c"
      },
      "source": [
        "new_acc"
      ],
      "execution_count": 11,
      "outputs": [
        {
          "output_type": "execute_result",
          "data": {
            "text/plain": [
              "0.898379970544919"
            ]
          },
          "metadata": {
            "tags": []
          },
          "execution_count": 11
        }
      ]
    },
    {
      "cell_type": "code",
      "metadata": {
        "id": "7p62ELjjaS1Z",
        "colab_type": "code",
        "colab": {}
      },
      "source": [
        "index=str(index)\n",
        "type='decay_145'\n",
        "model='final'\n",
        "path = F\"/content/gdrive/My Drive/\"+model \n",
        "np.save(path+\"/best_accuracy_all_fold_\"+index+\"_\"+model+\"_\"+type+\".npy\",best_accuracy_last)\n",
        "np.save(path+'/final_accuracy_all_fold'+index+\"_\"+model+\"_\"+type+\".npy\",final_accuracy_last)\n",
        "np.save(path+'/history_all_fold_'+index+\"_\"+model+\"_\"+type+\".npy\",history_last)\n",
        "np.save(path+'/answers_all_fold_'+index+\"_\"+model+\"_\"+type+\".npy\",answers_last)\n",
        "np.save(path+'/predictions_all_fold_'+index+\"_\"+model+\"_\"+type+\".npy\",predictions_last)\n",
        "np.save(path+'/predictions_all_best_fold_'+index+\"_\"+model+\"_\"+type+\".npy\",predictions_last_best)\n",
        "np.save(path+'/times_all_fold_'+index+\"_\"+model+\"_\"+type+\".npy\",times_last)"
      ],
      "execution_count": 12,
      "outputs": []
    },
    {
      "cell_type": "code",
      "metadata": {
        "id": "_L7NLo1fezlx",
        "colab_type": "code",
        "colab": {}
      },
      "source": [
        ""
      ],
      "execution_count": 12,
      "outputs": []
    }
  ]
}