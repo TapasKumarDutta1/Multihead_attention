{
  "nbformat": 4,
  "nbformat_minor": 0,
  "metadata": {
    "colab": {
      "name": "sgd_optimization.ipynb",
      "provenance": [],
      "authorship_tag": "ABX9TyPYcmmhHUc0YRXJPsdZ9Eg/"
    },
    "kernelspec": {
      "name": "python3",
      "display_name": "Python 3"
    }
  },
  "cells": [
    {
      "cell_type": "code",
      "metadata": {
        "id": "cjeSn5hZxYE4",
        "colab_type": "code",
        "colab": {}
      },
      "source": [
        ""
      ],
      "execution_count": 0,
      "outputs": []
    },
    {
      "cell_type": "code",
      "metadata": {
        "id": "P4_G4atpyvgU",
        "colab_type": "code",
        "outputId": "9c4342a2-9341-4eef-e455-5f69f023506c",
        "colab": {
          "base_uri": "https://localhost:8080/",
          "height": 615
        }
      },
      "source": [
        "pip install tensorflow==2.1.0-rc0"
      ],
      "execution_count": 0,
      "outputs": [
        {
          "output_type": "stream",
          "text": [
            "Requirement already satisfied: tensorflow==2.1.0-rc0 in /usr/local/lib/python3.6/dist-packages (2.1.0rc0)\n",
            "Requirement already satisfied: numpy<2.0,>=1.16.0 in /usr/local/lib/python3.6/dist-packages (from tensorflow==2.1.0-rc0) (1.18.2)\n",
            "Requirement already satisfied: google-pasta>=0.1.6 in /usr/local/lib/python3.6/dist-packages (from tensorflow==2.1.0-rc0) (0.2.0)\n",
            "Requirement already satisfied: wrapt>=1.11.1 in /usr/local/lib/python3.6/dist-packages (from tensorflow==2.1.0-rc0) (1.12.1)\n",
            "Requirement already satisfied: astor>=0.6.0 in /usr/local/lib/python3.6/dist-packages (from tensorflow==2.1.0-rc0) (0.8.1)\n",
            "Requirement already satisfied: grpcio>=1.8.6 in /usr/local/lib/python3.6/dist-packages (from tensorflow==2.1.0-rc0) (1.27.2)\n",
            "Requirement already satisfied: protobuf>=3.8.0 in /usr/local/lib/python3.6/dist-packages (from tensorflow==2.1.0-rc0) (3.10.0)\n",
            "Requirement already satisfied: gast==0.2.2 in /usr/local/lib/python3.6/dist-packages (from tensorflow==2.1.0-rc0) (0.2.2)\n",
            "Requirement already satisfied: termcolor>=1.1.0 in /usr/local/lib/python3.6/dist-packages (from tensorflow==2.1.0-rc0) (1.1.0)\n",
            "Requirement already satisfied: six>=1.12.0 in /usr/local/lib/python3.6/dist-packages (from tensorflow==2.1.0-rc0) (1.12.0)\n",
            "Requirement already satisfied: absl-py>=0.7.0 in /usr/local/lib/python3.6/dist-packages (from tensorflow==2.1.0-rc0) (0.9.0)\n",
            "Requirement already satisfied: wheel>=0.26; python_version >= \"3\" in /usr/local/lib/python3.6/dist-packages (from tensorflow==2.1.0-rc0) (0.34.2)\n",
            "Requirement already satisfied: keras-applications>=1.0.8 in /usr/local/lib/python3.6/dist-packages (from tensorflow==2.1.0-rc0) (1.0.8)\n",
            "Requirement already satisfied: tensorflow-estimator<2.1.0,>=2.0.0 in /usr/local/lib/python3.6/dist-packages (from tensorflow==2.1.0-rc0) (2.0.1)\n",
            "Requirement already satisfied: opt-einsum>=2.3.2 in /usr/local/lib/python3.6/dist-packages (from tensorflow==2.1.0-rc0) (3.2.0)\n",
            "Requirement already satisfied: keras-preprocessing>=1.1.0 in /usr/local/lib/python3.6/dist-packages (from tensorflow==2.1.0-rc0) (1.1.0)\n",
            "Requirement already satisfied: tensorboard<2.1.0,>=2.0.0 in /usr/local/lib/python3.6/dist-packages (from tensorflow==2.1.0-rc0) (2.0.2)\n",
            "Requirement already satisfied: setuptools in /usr/local/lib/python3.6/dist-packages (from protobuf>=3.8.0->tensorflow==2.1.0-rc0) (46.0.0)\n",
            "Requirement already satisfied: h5py in /usr/local/lib/python3.6/dist-packages (from keras-applications>=1.0.8->tensorflow==2.1.0-rc0) (2.10.0)\n",
            "Requirement already satisfied: markdown>=2.6.8 in /usr/local/lib/python3.6/dist-packages (from tensorboard<2.1.0,>=2.0.0->tensorflow==2.1.0-rc0) (3.2.1)\n",
            "Requirement already satisfied: requests<3,>=2.21.0 in /usr/local/lib/python3.6/dist-packages (from tensorboard<2.1.0,>=2.0.0->tensorflow==2.1.0-rc0) (2.21.0)\n",
            "Requirement already satisfied: google-auth-oauthlib<0.5,>=0.4.1 in /usr/local/lib/python3.6/dist-packages (from tensorboard<2.1.0,>=2.0.0->tensorflow==2.1.0-rc0) (0.4.1)\n",
            "Requirement already satisfied: google-auth<2,>=1.6.3 in /usr/local/lib/python3.6/dist-packages (from tensorboard<2.1.0,>=2.0.0->tensorflow==2.1.0-rc0) (1.7.2)\n",
            "Requirement already satisfied: werkzeug>=0.11.15 in /usr/local/lib/python3.6/dist-packages (from tensorboard<2.1.0,>=2.0.0->tensorflow==2.1.0-rc0) (1.0.1)\n",
            "Requirement already satisfied: certifi>=2017.4.17 in /usr/local/lib/python3.6/dist-packages (from requests<3,>=2.21.0->tensorboard<2.1.0,>=2.0.0->tensorflow==2.1.0-rc0) (2019.11.28)\n",
            "Requirement already satisfied: chardet<3.1.0,>=3.0.2 in /usr/local/lib/python3.6/dist-packages (from requests<3,>=2.21.0->tensorboard<2.1.0,>=2.0.0->tensorflow==2.1.0-rc0) (3.0.4)\n",
            "Requirement already satisfied: idna<2.9,>=2.5 in /usr/local/lib/python3.6/dist-packages (from requests<3,>=2.21.0->tensorboard<2.1.0,>=2.0.0->tensorflow==2.1.0-rc0) (2.8)\n",
            "Requirement already satisfied: urllib3<1.25,>=1.21.1 in /usr/local/lib/python3.6/dist-packages (from requests<3,>=2.21.0->tensorboard<2.1.0,>=2.0.0->tensorflow==2.1.0-rc0) (1.24.3)\n",
            "Requirement already satisfied: requests-oauthlib>=0.7.0 in /usr/local/lib/python3.6/dist-packages (from google-auth-oauthlib<0.5,>=0.4.1->tensorboard<2.1.0,>=2.0.0->tensorflow==2.1.0-rc0) (1.3.0)\n",
            "Requirement already satisfied: cachetools<3.2,>=2.0.0 in /usr/local/lib/python3.6/dist-packages (from google-auth<2,>=1.6.3->tensorboard<2.1.0,>=2.0.0->tensorflow==2.1.0-rc0) (3.1.1)\n",
            "Requirement already satisfied: rsa<4.1,>=3.1.4 in /usr/local/lib/python3.6/dist-packages (from google-auth<2,>=1.6.3->tensorboard<2.1.0,>=2.0.0->tensorflow==2.1.0-rc0) (4.0)\n",
            "Requirement already satisfied: pyasn1-modules>=0.2.1 in /usr/local/lib/python3.6/dist-packages (from google-auth<2,>=1.6.3->tensorboard<2.1.0,>=2.0.0->tensorflow==2.1.0-rc0) (0.2.8)\n",
            "Requirement already satisfied: oauthlib>=3.0.0 in /usr/local/lib/python3.6/dist-packages (from requests-oauthlib>=0.7.0->google-auth-oauthlib<0.5,>=0.4.1->tensorboard<2.1.0,>=2.0.0->tensorflow==2.1.0-rc0) (3.1.0)\n",
            "Requirement already satisfied: pyasn1>=0.1.3 in /usr/local/lib/python3.6/dist-packages (from rsa<4.1,>=3.1.4->google-auth<2,>=1.6.3->tensorboard<2.1.0,>=2.0.0->tensorflow==2.1.0-rc0) (0.4.8)\n"
          ],
          "name": "stdout"
        }
      ]
    },
    {
      "cell_type": "code",
      "metadata": {
        "id": "yUkVra91yvm0",
        "colab_type": "code",
        "outputId": "1b2542fd-2a9c-4363-b285-d13c2be0012d",
        "colab": {
          "base_uri": "https://localhost:8080/",
          "height": 153
        }
      },
      "source": [
        "pip install keras==2.3.1"
      ],
      "execution_count": 0,
      "outputs": [
        {
          "output_type": "stream",
          "text": [
            "Requirement already satisfied: keras==2.3.1 in /usr/local/lib/python3.6/dist-packages (2.3.1)\n",
            "Requirement already satisfied: keras-applications>=1.0.6 in /usr/local/lib/python3.6/dist-packages (from keras==2.3.1) (1.0.8)\n",
            "Requirement already satisfied: pyyaml in /usr/local/lib/python3.6/dist-packages (from keras==2.3.1) (3.13)\n",
            "Requirement already satisfied: h5py in /usr/local/lib/python3.6/dist-packages (from keras==2.3.1) (2.10.0)\n",
            "Requirement already satisfied: numpy>=1.9.1 in /usr/local/lib/python3.6/dist-packages (from keras==2.3.1) (1.18.2)\n",
            "Requirement already satisfied: scipy>=0.14 in /usr/local/lib/python3.6/dist-packages (from keras==2.3.1) (1.4.1)\n",
            "Requirement already satisfied: keras-preprocessing>=1.0.5 in /usr/local/lib/python3.6/dist-packages (from keras==2.3.1) (1.1.0)\n",
            "Requirement already satisfied: six>=1.9.0 in /usr/local/lib/python3.6/dist-packages (from keras==2.3.1) (1.12.0)\n"
          ],
          "name": "stdout"
        }
      ]
    },
    {
      "cell_type": "code",
      "metadata": {
        "id": "tFARLa5Tyvqi",
        "colab_type": "code",
        "outputId": "b1add09e-0fbd-4596-a944-c945ba6ff7ab",
        "colab": {
          "base_uri": "https://localhost:8080/",
          "height": 408
        }
      },
      "source": [
        "import pandas as pd\n",
        "import numpy as np\n",
        "import pandas as pd\n",
        "df=pd.read_csv('iris.csv')\n",
        "df.head()\n",
        "from sklearn.preprocessing import LabelEncoder\n",
        "le=LabelEncoder()\n",
        "df['Species']=le.fit_transform(df['Species'])\n",
        "df=df.drop(['Unnamed: 0'],1)\n",
        "df=pd.concat([df.drop(['Species'],1),pd.get_dummies(df['Species'])],1)\n",
        "df.head()\n",
        "from keras.layers import Dense,Input\n",
        "from sklearn.preprocessing import StandardScaler\n",
        "from keras.models import Model\n",
        "from keras.optimizers import SGD\n",
        "inp=Input((4,))\n",
        "d1=Dense(5,activation='relu')(inp)\n",
        "d2=Dense(10,activation='relu')(d1)\n",
        "d3=Dense(1,activation='sigmoid')(d2)\n",
        "mod=Model(inputs=inp,output=d3)\n",
        "mod.compile(loss='binary_crossentropy',optimizer=SGD(0.1))\n",
        "mod.fit(StandardScaler().fit_transform(df[['Sepal.Length', 'Sepal.Width', 'Petal.Length', 'Petal.Width']]),df[0],epochs=10)\n",
        "pre=mod.predict(df[['Sepal.Length', 'Sepal.Width', 'Petal.Length', 'Petal.Width']])\n",
        "print(np.min(pre))\n",
        "print(np.max(pre))"
      ],
      "execution_count": 0,
      "outputs": [
        {
          "output_type": "stream",
          "text": [
            "/usr/local/lib/python3.6/dist-packages/ipykernel_launcher.py:20: UserWarning: Update your `Model` call to the Keras 2 API: `Model(inputs=Tensor(\"in..., outputs=Tensor(\"de...)`\n"
          ],
          "name": "stderr"
        },
        {
          "output_type": "stream",
          "text": [
            "Epoch 1/10\n",
            "150/150 [==============================] - 0s 491us/step - loss: 0.7686\n",
            "Epoch 2/10\n",
            "150/150 [==============================] - 0s 55us/step - loss: 0.5669\n",
            "Epoch 3/10\n",
            "150/150 [==============================] - 0s 66us/step - loss: 0.4861\n",
            "Epoch 4/10\n",
            "150/150 [==============================] - 0s 62us/step - loss: 0.4282\n",
            "Epoch 5/10\n",
            "150/150 [==============================] - 0s 73us/step - loss: 0.3803\n",
            "Epoch 6/10\n",
            "150/150 [==============================] - 0s 64us/step - loss: 0.3335\n",
            "Epoch 7/10\n",
            "150/150 [==============================] - 0s 64us/step - loss: 0.2828\n",
            "Epoch 8/10\n",
            "150/150 [==============================] - 0s 107us/step - loss: 0.2347\n",
            "Epoch 9/10\n",
            "150/150 [==============================] - 0s 93us/step - loss: 0.1928\n",
            "Epoch 10/10\n",
            "150/150 [==============================] - 0s 83us/step - loss: 0.1589\n",
            "0.0\n",
            "0.000497669\n"
          ],
          "name": "stdout"
        }
      ]
    },
    {
      "cell_type": "code",
      "metadata": {
        "id": "B0A9tGriydb6",
        "colab_type": "code",
        "outputId": "ddf9c54b-0178-4f5b-c670-748d07f76cf2",
        "colab": {
          "base_uri": "https://localhost:8080/",
          "height": 1000
        }
      },
      "source": [
        "import numpy as np\n",
        "from sklearn.metrics import log_loss\n",
        "def cross(a,b):\n",
        "    itr1=a.shape[0]\n",
        "    itr2=b.shape[1]\n",
        "    ans=np.zeros((a.shape[0],b.shape[1]))\n",
        "    for i in range(itr1):\n",
        "        for j in range(itr2):\n",
        "            cum=0\n",
        "            for k in range(a.shape[1]):\n",
        "                cum+=a[i,k]*b[k,j]\n",
        "            ans[i,j]=cum\n",
        "    ans[ans<0]=0\n",
        "    return ans\n",
        "def dense(inp,out,act='linear'):\n",
        "    slopes=np.random.uniform(size=(inp.shape[1],out))*(2/inp.shape[1])**0.5\n",
        "    coef=np.random.uniform(size=(1,out))*(2/inp.shape[1])**0.5\n",
        "    pred=cross(inp,slopes)+coef\n",
        "    shp=out\n",
        "    out=pred\n",
        "    if act=='sigmoid':\n",
        "        out = np.exp(out*-1)+1\n",
        "        out = 1/out\n",
        "    elif act=='relu':\n",
        "        print(act)\n",
        "        out[out<0]=0\n",
        "    return [out,slopes,coef,inp,np.zeros((1,shp))[0],np.zeros_like(slopes),np.zeros((1,shp))[0],np.zeros_like(slopes),act]\n",
        "def fwd(ans):\n",
        "    for en,lyr in enumerate(ans):\n",
        "        lyr[0]=cross(lyr[3],lyr[1])\n",
        "        \n",
        "        lyr[0]+=lyr[2]\n",
        "        if lyr[-1]=='relu':\n",
        "            lyr[0][lyr[0]<0]=0\n",
        "        elif lyr[-1]=='sigmoid':\n",
        "            lyr[0] = np.exp(lyr[0]*-1)+1\n",
        "            lyr[0] = 1/lyr[0]\n",
        "        try:\n",
        "            ans[en+1][3]=lyr[0]\n",
        "        except:\n",
        "            continue\n",
        "    \n",
        "    return ans[::-1]\n",
        "def bce(pred,true,typ=0):\n",
        "    pos=true[true==1]\n",
        "    pos_p=pred[true==1]\n",
        "    neg=true[true==0]\n",
        "    neg_p=pred[true==0]\n",
        "    if typ==1:\n",
        "        return log_loss(true,pred)\n",
        "    else:\n",
        "        ls=[]\n",
        "        pos=[]\n",
        "        neg=[]\n",
        "        for e,i in enumerate(pred):\n",
        "            if true[e]==1:\n",
        "                ls.append(-1/i)\n",
        "                pos.append(1/i)\n",
        "            else:\n",
        "                ls.append(1/(1-i))\n",
        "                neg.append(1/(1-i))\n",
        "        return np.asarray(ls)\n",
        "def disp(ans):\n",
        "    for i in ans:\n",
        "        for j in range(7):\n",
        "            print(i[j].shape)\n",
        "        print('*'*20)\n",
        "import seaborn as sns\n",
        "from matplotlib import pyplot as plt\n",
        "def bck(ans,epochs,lr,y,B1):\n",
        "    #[dns3,dns2,dns1]\n",
        "    VDB=0\n",
        "    VDW=0\n",
        "    SDB=0\n",
        "    SDW=0\n",
        "    for i in range(epochs):\n",
        "        for en,lyr in enumerate(ans):\n",
        "            grad=bce(ans[0][0],y)\n",
        "            for i in range(0,en):\n",
        "                grad=cross(grad,ans[i][1].T)\n",
        "            lyr[4]=lyr[4]*B1+grad*(1-B1)\n",
        "            lyr[2]=lyr[2]-(lyr[4]*lr)\n",
        "            print('*'*20)\n",
        "            grad=cross(lyr[3].T,grad)\n",
        "            grad=grad/len(y)\n",
        "            lyr[5]=lyr[5]*B1+grad*(1-B1)\n",
        "            lyr[1]=lyr[1]-(lyr[5]*lr)\n",
        "            ans=fwd(ans[::-1])\n",
        "            \n",
        "        print(bce(np.asarray(ans[0][0]),y,1))\n",
        "        print('one epoch finished')\n",
        "        print('#'*20)\n",
        "import pandas as pd\n",
        "from sklearn.preprocessing import StandardScaler\n",
        "df=pd.read_csv('iris.csv')\n",
        "df.head()\n",
        "from sklearn.preprocessing import LabelEncoder\n",
        "le=LabelEncoder()\n",
        "df['Species']=le.fit_transform(df['Species'])\n",
        "df=df.drop(['Unnamed: 0'],1)\n",
        "df=pd.concat([df.drop(['Species'],1),pd.get_dummies(df['Species'])],1)\n",
        "df.head()\n",
        "d1=dense(StandardScaler().fit_transform(df[['Sepal.Length', 'Sepal.Width', 'Petal.Length', 'Petal.Width']].values),5,'relu')\n",
        "d2=dense(d1[0],10,'relu')\n",
        "d3=dense(d2[0],1,'sigmoid')\n",
        "bck([d3,d2,d1],10,0.1,np.asarray(df[0]),0.9)"
      ],
      "execution_count": 0,
      "outputs": [
        {
          "output_type": "stream",
          "text": [
            "relu\n",
            "relu\n",
            "********************\n",
            "********************\n",
            "********************\n",
            "0.626804570169977\n",
            "one epoch finished\n",
            "####################\n",
            "********************\n",
            "********************\n",
            "********************\n",
            "0.5648416425104491\n",
            "one epoch finished\n",
            "####################\n",
            "********************\n",
            "********************\n",
            "********************\n",
            "0.5142678122167015\n",
            "one epoch finished\n",
            "####################\n",
            "********************\n",
            "********************\n",
            "********************\n",
            "0.4696962636366827\n",
            "one epoch finished\n",
            "####################\n",
            "********************\n",
            "********************\n",
            "********************\n",
            "0.4287614850684823\n",
            "one epoch finished\n",
            "####################\n",
            "********************\n",
            "********************\n",
            "********************\n",
            "0.39051782069028057\n",
            "one epoch finished\n",
            "####################\n",
            "********************\n",
            "********************\n",
            "********************\n",
            "0.35464158516734623\n",
            "one epoch finished\n",
            "####################\n",
            "********************\n",
            "********************\n",
            "********************\n",
            "0.32106321680872185\n",
            "one epoch finished\n",
            "####################\n",
            "********************\n",
            "********************\n",
            "********************\n",
            "0.2897974397476441\n",
            "one epoch finished\n",
            "####################\n",
            "********************\n",
            "********************\n",
            "********************\n",
            "0.26086567848329784\n",
            "one epoch finished\n",
            "####################\n"
          ],
          "name": "stdout"
        }
      ]
    },
    {
      "cell_type": "code",
      "metadata": {
        "colab_type": "code",
        "outputId": "c7925291-8d55-4930-8d47-4be66e00c30d",
        "id": "K_Yr_SF0S0OM",
        "colab": {
          "base_uri": "https://localhost:8080/",
          "height": 51
        }
      },
      "source": [
        "print(max(list(d3[0].reshape(1,-1)[0])))\n",
        "print(min(list(d3[0].reshape(1,-1)[0])))"
      ],
      "execution_count": 0,
      "outputs": [
        {
          "output_type": "stream",
          "text": [
            "0.7004683999866805\n",
            "5.933897491144277e-45\n"
          ],
          "name": "stdout"
        }
      ]
    }
  ]
}